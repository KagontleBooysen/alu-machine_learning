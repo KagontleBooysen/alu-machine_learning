{
  "cells": [
    {
      "cell_type": "markdown",
      "metadata": {
        "id": "view-in-github",
        "colab_type": "text"
      },
      "source": [
        "<a href=\"https://colab.research.google.com/github/KagontleBooysen/alu-machine_learning/blob/master/Copy_of_Summative_Assignment_(Kagontle_Booysen).ipynb\" target=\"_parent\"><img src=\"https://colab.research.google.com/assets/colab-badge.svg\" alt=\"Open In Colab\"/></a>"
      ]
    },
    {
      "cell_type": "markdown",
      "metadata": {
        "id": "EAt-K2qgcIou"
      },
      "source": [
        "# Optimization Using Gradient Descent: Linear Regression"
      ]
    },
    {
      "cell_type": "markdown",
      "metadata": {
        "id": "FZYK-0rin5x7"
      },
      "source": [
        "In this assignment, you will build a simple linear regression model to predict sales based on TV marketing expenses. You will investigate three different approaches to this problem. You will use `NumPy` and `Scikit-Learn` linear regression models, as well as construct and optimize the sum of squares cost function with gradient descent from scratch.\n",
        "\n",
        "Further you will add additional cells to compare Linear regression and atleast 1 other algorithm"
      ]
    },
    {
      "cell_type": "markdown",
      "metadata": {
        "id": "olYYd3KomQl2"
      },
      "source": [
        "# Table of Contents\n",
        "\n",
        "- [ 1 - Open the Dataset and State the Problem]\n",
        "  - [ Exercise 1]\n",
        "- [ 2 - Linear Regression in Python with `NumPy` and `Scikit-Learn`]\n",
        "  - [ 2.1 - Linear Regression with `NumPy`]\n",
        "    - [ Exercise 2]\n",
        "  - [ 2.2 - Linear Regression with `Scikit-Learn`]\n",
        "    - [ Exercise 3]\n",
        "    - [ Exercise 4]\n",
        "- [ 3 - Linear Regression using Gradient Descent]\n",
        "  - [ Exercise 5]\n",
        "  - [ Exercise 6]"
      ]
    },
    {
      "cell_type": "markdown",
      "metadata": {
        "id": "Evpf8cRqmQl2"
      },
      "source": [
        "## Packages\n",
        "\n",
        "Load the required packages:"
      ]
    },
    {
      "cell_type": "code",
      "execution_count": 1,
      "metadata": {
        "tags": [
          "graded"
        ],
        "id": "3cu5pZF7mQl2"
      },
      "outputs": [],
      "source": [
        "\n",
        "# A library for programmatic plot generation.\n",
        "\n",
        "# A library for data manipulation and analysis.\n",
        "\n",
        "# LinearRegression from sklearn.\n"
      ]
    },
    {
      "cell_type": "markdown",
      "metadata": {
        "id": "WmsCi8nWmQl3"
      },
      "source": [
        "Import the unit tests defined for this notebook."
      ]
    },
    {
      "cell_type": "code",
      "execution_count": 2,
      "metadata": {
        "id": "RlEtehyymQl3"
      },
      "outputs": [],
      "source": [
        "import numpy as np\n",
        "import pandas as pd\n",
        "from sklearn.linear_model import LinearRegression"
      ]
    },
    {
      "cell_type": "markdown",
      "metadata": {
        "id": "1cclqdbgmQl3"
      },
      "source": [
        "<a name='1'></a>\n",
        "\n",
        "> Indented block\n",
        "\n",
        "> Indented block\n",
        "\n",
        "\n",
        "\n",
        "\n",
        "## 1 - Open the Dataset and State the Problem"
      ]
    },
    {
      "cell_type": "markdown",
      "metadata": {
        "id": "Md6WPVmWmQl3"
      },
      "source": [
        "In this lab, you will build a linear regression model for a simple Kaggle dataset, saved in a file `data/tvmarketing.csv`. The dataset has only two fields: TV marketing expenses (`TV`) and sales amount (`Sales`)."
      ]
    },
    {
      "cell_type": "markdown",
      "metadata": {
        "id": "2SixpOU-mQl3"
      },
      "source": [
        "<a name='ex01'></a>\n",
        "### Exercise 1\n",
        "\n",
        "Use `pandas` function `pd.read_csv` to open the .csv file the from the `path`."
      ]
    },
    {
      "cell_type": "code",
      "source": [
        "import pandas as pd"
      ],
      "metadata": {
        "id": "Pr4C46Qnoa3F"
      },
      "execution_count": 3,
      "outputs": []
    },
    {
      "cell_type": "code",
      "source": [
        "from google.colab import drive\n",
        "drive.mount('/content/drive')"
      ],
      "metadata": {
        "colab": {
          "base_uri": "https://localhost:8080/"
        },
        "id": "bEeWucZJSb2T",
        "outputId": "1d4e11bd-700d-49d8-99fb-a4f681e953a5"
      },
      "execution_count": 4,
      "outputs": [
        {
          "output_type": "stream",
          "name": "stdout",
          "text": [
            "Mounted at /content/drive\n"
          ]
        }
      ]
    },
    {
      "cell_type": "code",
      "source": [
        "path = \"/content/drive/MyDrive/tvmarketing.csv\"\n"
      ],
      "metadata": {
        "id": "8yMGDK-rQgQO"
      },
      "execution_count": 5,
      "outputs": []
    },
    {
      "cell_type": "code",
      "source": [
        "import pandas as pd\n",
        "path = \"/content/drive/MyDrive/data/tvmarketing.csv\"\n",
        "\n",
        "# Load the CSV data into a DataFrame\n",
        "adv = pd.read_csv(path)"
      ],
      "metadata": {
        "id": "BFqF76ZLQgN8"
      },
      "execution_count": 6,
      "outputs": []
    },
    {
      "cell_type": "code",
      "source": [
        "adv.head()"
      ],
      "metadata": {
        "id": "UQLsw5igQgMi",
        "colab": {
          "base_uri": "https://localhost:8080/",
          "height": 206
        },
        "outputId": "e06b1ca0-24d3-40c1-ce67-bfbb570b959f"
      },
      "execution_count": 7,
      "outputs": [
        {
          "output_type": "execute_result",
          "data": {
            "text/plain": [
              "      TV  Sales\n",
              "0  230.1   22.1\n",
              "1   44.5   10.4\n",
              "2   17.2    9.3\n",
              "3  151.5   18.5\n",
              "4  180.8   12.9"
            ],
            "text/html": [
              "\n",
              "  <div id=\"df-940d5ff0-f47c-4789-9d3f-86aa48707610\" class=\"colab-df-container\">\n",
              "    <div>\n",
              "<style scoped>\n",
              "    .dataframe tbody tr th:only-of-type {\n",
              "        vertical-align: middle;\n",
              "    }\n",
              "\n",
              "    .dataframe tbody tr th {\n",
              "        vertical-align: top;\n",
              "    }\n",
              "\n",
              "    .dataframe thead th {\n",
              "        text-align: right;\n",
              "    }\n",
              "</style>\n",
              "<table border=\"1\" class=\"dataframe\">\n",
              "  <thead>\n",
              "    <tr style=\"text-align: right;\">\n",
              "      <th></th>\n",
              "      <th>TV</th>\n",
              "      <th>Sales</th>\n",
              "    </tr>\n",
              "  </thead>\n",
              "  <tbody>\n",
              "    <tr>\n",
              "      <th>0</th>\n",
              "      <td>230.1</td>\n",
              "      <td>22.1</td>\n",
              "    </tr>\n",
              "    <tr>\n",
              "      <th>1</th>\n",
              "      <td>44.5</td>\n",
              "      <td>10.4</td>\n",
              "    </tr>\n",
              "    <tr>\n",
              "      <th>2</th>\n",
              "      <td>17.2</td>\n",
              "      <td>9.3</td>\n",
              "    </tr>\n",
              "    <tr>\n",
              "      <th>3</th>\n",
              "      <td>151.5</td>\n",
              "      <td>18.5</td>\n",
              "    </tr>\n",
              "    <tr>\n",
              "      <th>4</th>\n",
              "      <td>180.8</td>\n",
              "      <td>12.9</td>\n",
              "    </tr>\n",
              "  </tbody>\n",
              "</table>\n",
              "</div>\n",
              "    <div class=\"colab-df-buttons\">\n",
              "\n",
              "  <div class=\"colab-df-container\">\n",
              "    <button class=\"colab-df-convert\" onclick=\"convertToInteractive('df-940d5ff0-f47c-4789-9d3f-86aa48707610')\"\n",
              "            title=\"Convert this dataframe to an interactive table.\"\n",
              "            style=\"display:none;\">\n",
              "\n",
              "  <svg xmlns=\"http://www.w3.org/2000/svg\" height=\"24px\" viewBox=\"0 -960 960 960\">\n",
              "    <path d=\"M120-120v-720h720v720H120Zm60-500h600v-160H180v160Zm220 220h160v-160H400v160Zm0 220h160v-160H400v160ZM180-400h160v-160H180v160Zm440 0h160v-160H620v160ZM180-180h160v-160H180v160Zm440 0h160v-160H620v160Z\"/>\n",
              "  </svg>\n",
              "    </button>\n",
              "\n",
              "  <style>\n",
              "    .colab-df-container {\n",
              "      display:flex;\n",
              "      gap: 12px;\n",
              "    }\n",
              "\n",
              "    .colab-df-convert {\n",
              "      background-color: #E8F0FE;\n",
              "      border: none;\n",
              "      border-radius: 50%;\n",
              "      cursor: pointer;\n",
              "      display: none;\n",
              "      fill: #1967D2;\n",
              "      height: 32px;\n",
              "      padding: 0 0 0 0;\n",
              "      width: 32px;\n",
              "    }\n",
              "\n",
              "    .colab-df-convert:hover {\n",
              "      background-color: #E2EBFA;\n",
              "      box-shadow: 0px 1px 2px rgba(60, 64, 67, 0.3), 0px 1px 3px 1px rgba(60, 64, 67, 0.15);\n",
              "      fill: #174EA6;\n",
              "    }\n",
              "\n",
              "    .colab-df-buttons div {\n",
              "      margin-bottom: 4px;\n",
              "    }\n",
              "\n",
              "    [theme=dark] .colab-df-convert {\n",
              "      background-color: #3B4455;\n",
              "      fill: #D2E3FC;\n",
              "    }\n",
              "\n",
              "    [theme=dark] .colab-df-convert:hover {\n",
              "      background-color: #434B5C;\n",
              "      box-shadow: 0px 1px 3px 1px rgba(0, 0, 0, 0.15);\n",
              "      filter: drop-shadow(0px 1px 2px rgba(0, 0, 0, 0.3));\n",
              "      fill: #FFFFFF;\n",
              "    }\n",
              "  </style>\n",
              "\n",
              "    <script>\n",
              "      const buttonEl =\n",
              "        document.querySelector('#df-940d5ff0-f47c-4789-9d3f-86aa48707610 button.colab-df-convert');\n",
              "      buttonEl.style.display =\n",
              "        google.colab.kernel.accessAllowed ? 'block' : 'none';\n",
              "\n",
              "      async function convertToInteractive(key) {\n",
              "        const element = document.querySelector('#df-940d5ff0-f47c-4789-9d3f-86aa48707610');\n",
              "        const dataTable =\n",
              "          await google.colab.kernel.invokeFunction('convertToInteractive',\n",
              "                                                    [key], {});\n",
              "        if (!dataTable) return;\n",
              "\n",
              "        const docLinkHtml = 'Like what you see? Visit the ' +\n",
              "          '<a target=\"_blank\" href=https://colab.research.google.com/notebooks/data_table.ipynb>data table notebook</a>'\n",
              "          + ' to learn more about interactive tables.';\n",
              "        element.innerHTML = '';\n",
              "        dataTable['output_type'] = 'display_data';\n",
              "        await google.colab.output.renderOutput(dataTable, element);\n",
              "        const docLink = document.createElement('div');\n",
              "        docLink.innerHTML = docLinkHtml;\n",
              "        element.appendChild(docLink);\n",
              "      }\n",
              "    </script>\n",
              "  </div>\n",
              "\n",
              "\n",
              "<div id=\"df-a879fd25-e66e-40e7-b3a3-5f4d9f3c45b7\">\n",
              "  <button class=\"colab-df-quickchart\" onclick=\"quickchart('df-a879fd25-e66e-40e7-b3a3-5f4d9f3c45b7')\"\n",
              "            title=\"Suggest charts\"\n",
              "            style=\"display:none;\">\n",
              "\n",
              "<svg xmlns=\"http://www.w3.org/2000/svg\" height=\"24px\"viewBox=\"0 0 24 24\"\n",
              "     width=\"24px\">\n",
              "    <g>\n",
              "        <path d=\"M19 3H5c-1.1 0-2 .9-2 2v14c0 1.1.9 2 2 2h14c1.1 0 2-.9 2-2V5c0-1.1-.9-2-2-2zM9 17H7v-7h2v7zm4 0h-2V7h2v10zm4 0h-2v-4h2v4z\"/>\n",
              "    </g>\n",
              "</svg>\n",
              "  </button>\n",
              "\n",
              "<style>\n",
              "  .colab-df-quickchart {\n",
              "      --bg-color: #E8F0FE;\n",
              "      --fill-color: #1967D2;\n",
              "      --hover-bg-color: #E2EBFA;\n",
              "      --hover-fill-color: #174EA6;\n",
              "      --disabled-fill-color: #AAA;\n",
              "      --disabled-bg-color: #DDD;\n",
              "  }\n",
              "\n",
              "  [theme=dark] .colab-df-quickchart {\n",
              "      --bg-color: #3B4455;\n",
              "      --fill-color: #D2E3FC;\n",
              "      --hover-bg-color: #434B5C;\n",
              "      --hover-fill-color: #FFFFFF;\n",
              "      --disabled-bg-color: #3B4455;\n",
              "      --disabled-fill-color: #666;\n",
              "  }\n",
              "\n",
              "  .colab-df-quickchart {\n",
              "    background-color: var(--bg-color);\n",
              "    border: none;\n",
              "    border-radius: 50%;\n",
              "    cursor: pointer;\n",
              "    display: none;\n",
              "    fill: var(--fill-color);\n",
              "    height: 32px;\n",
              "    padding: 0;\n",
              "    width: 32px;\n",
              "  }\n",
              "\n",
              "  .colab-df-quickchart:hover {\n",
              "    background-color: var(--hover-bg-color);\n",
              "    box-shadow: 0 1px 2px rgba(60, 64, 67, 0.3), 0 1px 3px 1px rgba(60, 64, 67, 0.15);\n",
              "    fill: var(--button-hover-fill-color);\n",
              "  }\n",
              "\n",
              "  .colab-df-quickchart-complete:disabled,\n",
              "  .colab-df-quickchart-complete:disabled:hover {\n",
              "    background-color: var(--disabled-bg-color);\n",
              "    fill: var(--disabled-fill-color);\n",
              "    box-shadow: none;\n",
              "  }\n",
              "\n",
              "  .colab-df-spinner {\n",
              "    border: 2px solid var(--fill-color);\n",
              "    border-color: transparent;\n",
              "    border-bottom-color: var(--fill-color);\n",
              "    animation:\n",
              "      spin 1s steps(1) infinite;\n",
              "  }\n",
              "\n",
              "  @keyframes spin {\n",
              "    0% {\n",
              "      border-color: transparent;\n",
              "      border-bottom-color: var(--fill-color);\n",
              "      border-left-color: var(--fill-color);\n",
              "    }\n",
              "    20% {\n",
              "      border-color: transparent;\n",
              "      border-left-color: var(--fill-color);\n",
              "      border-top-color: var(--fill-color);\n",
              "    }\n",
              "    30% {\n",
              "      border-color: transparent;\n",
              "      border-left-color: var(--fill-color);\n",
              "      border-top-color: var(--fill-color);\n",
              "      border-right-color: var(--fill-color);\n",
              "    }\n",
              "    40% {\n",
              "      border-color: transparent;\n",
              "      border-right-color: var(--fill-color);\n",
              "      border-top-color: var(--fill-color);\n",
              "    }\n",
              "    60% {\n",
              "      border-color: transparent;\n",
              "      border-right-color: var(--fill-color);\n",
              "    }\n",
              "    80% {\n",
              "      border-color: transparent;\n",
              "      border-right-color: var(--fill-color);\n",
              "      border-bottom-color: var(--fill-color);\n",
              "    }\n",
              "    90% {\n",
              "      border-color: transparent;\n",
              "      border-bottom-color: var(--fill-color);\n",
              "    }\n",
              "  }\n",
              "</style>\n",
              "\n",
              "  <script>\n",
              "    async function quickchart(key) {\n",
              "      const quickchartButtonEl =\n",
              "        document.querySelector('#' + key + ' button');\n",
              "      quickchartButtonEl.disabled = true;  // To prevent multiple clicks.\n",
              "      quickchartButtonEl.classList.add('colab-df-spinner');\n",
              "      try {\n",
              "        const charts = await google.colab.kernel.invokeFunction(\n",
              "            'suggestCharts', [key], {});\n",
              "      } catch (error) {\n",
              "        console.error('Error during call to suggestCharts:', error);\n",
              "      }\n",
              "      quickchartButtonEl.classList.remove('colab-df-spinner');\n",
              "      quickchartButtonEl.classList.add('colab-df-quickchart-complete');\n",
              "    }\n",
              "    (() => {\n",
              "      let quickchartButtonEl =\n",
              "        document.querySelector('#df-a879fd25-e66e-40e7-b3a3-5f4d9f3c45b7 button');\n",
              "      quickchartButtonEl.style.display =\n",
              "        google.colab.kernel.accessAllowed ? 'block' : 'none';\n",
              "    })();\n",
              "  </script>\n",
              "</div>\n",
              "    </div>\n",
              "  </div>\n"
            ]
          },
          "metadata": {},
          "execution_count": 7
        }
      ]
    },
    {
      "cell_type": "code",
      "source": [
        "import numpy as np\n",
        "import matplotlib.pyplot as plt\n",
        "from sklearn.linear_model import LinearRegression"
      ],
      "metadata": {
        "id": "ZLLnQ9UmVjKk"
      },
      "execution_count": 8,
      "outputs": []
    },
    {
      "cell_type": "code",
      "source": [
        "adv = pd.read_csv(path)"
      ],
      "metadata": {
        "id": "pGvV8wX2XUUi"
      },
      "execution_count": 9,
      "outputs": []
    },
    {
      "cell_type": "code",
      "source": [
        "adv.plot(x='TV', y='Sales', kind='scatter', c='black')\n",
        "plt.xlabel('TV Marketing Budget')\n",
        "plt.ylabel('Sales')\n",
        "plt.title('Scatter Plot of TV Marketing Budget vs. Sales')\n",
        "plt.show()\n"
      ],
      "metadata": {
        "colab": {
          "base_uri": "https://localhost:8080/",
          "height": 472
        },
        "id": "IDtxq-JuW9Gx",
        "outputId": "37e2460d-38b9-4a3f-ee3c-0bbe295c1422"
      },
      "execution_count": 10,
      "outputs": [
        {
          "output_type": "display_data",
          "data": {
            "text/plain": [
              "<Figure size 640x480 with 1 Axes>"
            ],
            "image/png": "[encoded data removed]"
          },
          "metadata": {}
        }
      ]
    },
    {
      "cell_type": "code",
      "source": [
        "X = adv['TV']\n",
        "Y = adv['Sales']"
      ],
      "metadata": {
        "id": "C23PvfeQzXZd"
      },
      "execution_count": 11,
      "outputs": []
    },
    {
      "cell_type": "markdown",
      "metadata": {
        "id": "_Ba2thMryGID"
      },
      "source": [
        "<a name='2.1'></a>\n",
        "### 2.1 - Linear Regression with `NumPy`"
      ]
    },
    {
      "cell_type": "code",
      "source": [
        "m_numpy, b_numpy = np.polyfit(X, Y, 1)\n",
        "\n",
        "print(f\"Linear regression with NumPy. Slope: {m_numpy}. Intercept: {b_numpy}\")"
      ],
      "metadata": {
        "colab": {
          "base_uri": "https://localhost:8080/"
        },
        "id": "FB7CNriqzyFg",
        "outputId": "8ec51f76-f684-4837-91f2-8fa71052245e"
      },
      "execution_count": 12,
      "outputs": [
        {
          "output_type": "stream",
          "name": "stdout",
          "text": [
            "Linear regression with NumPy. Slope: 0.04753664043301975. Intercept: 7.0325935491276965\n"
          ]
        }
      ]
    },
    {
      "cell_type": "markdown",
      "source": [
        "**Exercise 2**\n"
      ],
      "metadata": {
        "id": "KZSSkBI61om0"
      }
    },
    {
      "cell_type": "code",
      "execution_count": 13,
      "metadata": {
        "id": "_8F1wPpBmQmE"
      },
      "outputs": [],
      "source": [
        "# This is organised as a function only for grading purposes.\n",
        "def pred_numpy(m, b, X):\n",
        "    Y = m*X + b\n",
        "\n",
        "    return Y"
      ]
    },
    {
      "cell_type": "code",
      "source": [
        "X_pred = np.array([50, 120, 280])\n",
        "Y_pred_numpy = pred_numpy(m_numpy, b_numpy, X_pred)\n",
        "\n",
        "print(f\"TV marketing expenses:\\n{X_pred}\")\n",
        "print(f\"Predictions of sales using NumPy linear regression:\\n{Y_pred_numpy}\")"
      ],
      "metadata": {
        "colab": {
          "base_uri": "https://localhost:8080/"
        },
        "id": "l0k8Xr-r16_m",
        "outputId": "169c5643-cbd0-4a6b-f7b4-de8817b83eba"
      },
      "execution_count": 14,
      "outputs": [
        {
          "output_type": "stream",
          "name": "stdout",
          "text": [
            "TV marketing expenses:\n",
            "[ 50 120 280]\n",
            "Predictions of sales using NumPy linear regression:\n",
            "[ 9.40942557 12.7369904  20.34285287]\n"
          ]
        }
      ]
    },
    {
      "cell_type": "code",
      "source": [
        "def test_pred_numpy(target_pred_numpy):\n",
        "    successful_cases = 0\n",
        "    failed_cases = []\n",
        "\n",
        "    test_cases = [\n",
        "        {\n",
        "            \"name\": \"default_check\",\n",
        "            \"input\": {\n",
        "                \"m\": 0.04753664043301975,\n",
        "                \"b\": 7.0325935491276965,\n",
        "                \"X\": np.array([50, 120, 280]),\n",
        "            },\n",
        "            \"expected\": {\n",
        "                \"Y\": np.array([9.40942557, 12.7369904, 20.34285287]),\n",
        "            }\n",
        "        },\n",
        "        {\n",
        "            \"name\": \"extra_check\",\n",
        "            \"input\": {\n",
        "                \"m\": 2,\n",
        "                \"b\": 10,\n",
        "                \"X\": np.array([-5, 0, 1, 5])\n",
        "            },\n",
        "            \"expected\": {\n",
        "                \"Y\": np.array([0, 10, 12, 20]),\n",
        "            }\n",
        "        },\n",
        "    ]"
      ],
      "metadata": {
        "id": "QExLWDGG2KFy"
      },
      "execution_count": 15,
      "outputs": []
    },
    {
      "cell_type": "markdown",
      "source": [
        "**2.2 - Linear Regression with Scikit-Learn**"
      ],
      "metadata": {
        "id": "sv9pMi5mcLxR"
      }
    },
    {
      "cell_type": "code",
      "source": [
        "lr_sklearn = LinearRegression()"
      ],
      "metadata": {
        "id": "pJbznJaecRfh"
      },
      "execution_count": 55,
      "outputs": []
    },
    {
      "cell_type": "code",
      "source": [
        "print(f\"Shape of X array: {X.shape}\")\n",
        "print(f\"Shape of Y array: {Y.shape}\")\n",
        "\n",
        "try:\n",
        "    lr_sklearn.fit(X, Y)\n",
        "except ValueError as err:\n",
        "    print(err)"
      ],
      "metadata": {
        "colab": {
          "base_uri": "https://localhost:8080/"
        },
        "id": "aWbh4w3vc9pU",
        "outputId": "53d2b79d-b26b-48a1-bf27-4179d2b54c79"
      },
      "execution_count": 17,
      "outputs": [
        {
          "output_type": "stream",
          "name": "stdout",
          "text": [
            "Shape of X array: (200,)\n",
            "Shape of Y array: (200,)\n",
            "Expected 2D array, got 1D array instead:\n",
            "array=[230.1  44.5  17.2 151.5 180.8   8.7  57.5 120.2   8.6 199.8  66.1 214.7\n",
            "  23.8  97.5 204.1 195.4  67.8 281.4  69.2 147.3 218.4 237.4  13.2 228.3\n",
            "  62.3 262.9 142.9 240.1 248.8  70.6 292.9 112.9  97.2 265.6  95.7 290.7\n",
            " 266.9  74.7  43.1 228.  202.5 177.  293.6 206.9  25.1 175.1  89.7 239.9\n",
            " 227.2  66.9 199.8 100.4 216.4 182.6 262.7 198.9   7.3 136.2 210.8 210.7\n",
            "  53.5 261.3 239.3 102.7 131.1  69.   31.5 139.3 237.4 216.8 199.1 109.8\n",
            "  26.8 129.4 213.4  16.9  27.5 120.5   5.4 116.   76.4 239.8  75.3  68.4\n",
            " 213.5 193.2  76.3 110.7  88.3 109.8 134.3  28.6 217.7 250.9 107.4 163.3\n",
            " 197.6 184.9 289.7 135.2 222.4 296.4 280.2 187.9 238.2 137.9  25.   90.4\n",
            "  13.1 255.4 225.8 241.7 175.7 209.6  78.2  75.1 139.2  76.4 125.7  19.4\n",
            " 141.3  18.8 224.  123.1 229.5  87.2   7.8  80.2 220.3  59.6   0.7 265.2\n",
            "   8.4 219.8  36.9  48.3  25.6 273.7  43.  184.9  73.4 193.7 220.5 104.6\n",
            "  96.2 140.3 240.1 243.2  38.   44.7 280.7 121.  197.6 171.3 187.8   4.1\n",
            "  93.9 149.8  11.7 131.7 172.5  85.7 188.4 163.5 117.2 234.5  17.9 206.8\n",
            " 215.4 284.3  50.  164.5  19.6 168.4 222.4 276.9 248.4 170.2 276.7 165.6\n",
            " 156.6 218.5  56.2 287.6 253.8 205.  139.5 191.1 286.   18.7  39.5  75.5\n",
            "  17.2 166.8 149.7  38.2  94.2 177.  283.6 232.1].\n",
            "Reshape your data either using array.reshape(-1, 1) if your data has a single feature or array.reshape(1, -1) if it contains a single sample.\n"
          ]
        }
      ]
    },
    {
      "cell_type": "code",
      "source": [
        "X_sklearn = X[:, np.newaxis]\n",
        "Y_sklearn = Y[:, np.newaxis]\n",
        "\n",
        "print(f\"Shape of new X array: {X_sklearn.shape}\")\n",
        "print(f\"Shape of new Y array: {Y_sklearn.shape}\")\n",
        "\n"
      ],
      "metadata": {
        "colab": {
          "base_uri": "https://localhost:8080/"
        },
        "id": "Ixx_UZakfJLp",
        "outputId": "df24e521-fd3b-448e-cca3-22cba537c2a7"
      },
      "execution_count": 18,
      "outputs": [
        {
          "output_type": "stream",
          "name": "stdout",
          "text": [
            "Shape of new X array: (200, 1)\n",
            "Shape of new Y array: (200, 1)\n"
          ]
        },
        {
          "output_type": "stream",
          "name": "stderr",
          "text": [
            "<ipython-input-18-88a5ccdeae22>:1: FutureWarning: Support for multi-dimensional indexing (e.g. `obj[:, None]`) is deprecated and will be removed in a future version.  Convert to a numpy array before indexing instead.\n",
            "  X_sklearn = X[:, np.newaxis]\n",
            "<ipython-input-18-88a5ccdeae22>:2: FutureWarning: Support for multi-dimensional indexing (e.g. `obj[:, None]`) is deprecated and will be removed in a future version.  Convert to a numpy array before indexing instead.\n",
            "  Y_sklearn = Y[:, np.newaxis]\n"
          ]
        }
      ]
    },
    {
      "cell_type": "code",
      "source": [
        "from sklearn.model_selection import train_test_split\n",
        "from sklearn.linear_model import LinearRegression\n",
        "import numpy as np\n",
        "\n",
        "# Assuming X_sklearn and Y_sklearn are your input features and target variable\n",
        "# X_sklearn has shape (n, 1) and Y_sklearn has shape (m, 1)\n",
        "\n",
        "# Specify the test size (in this case, 20%)\n",
        "test_size = 0.2\n",
        "\n",
        "# Split the data into training and testing sets\n",
        "X_train, X_test, Y_train, Y_test = train_test_split(X_sklearn, Y_sklearn, test_size=test_size, random_state=42)\n",
        "\n"
      ],
      "metadata": {
        "id": "ssq7DslDgECY"
      },
      "execution_count": 19,
      "outputs": []
    },
    {
      "cell_type": "code",
      "source": [
        "X_train = X_train.reshape(-1, 1)\n",
        "Y_train = Y_train.reshape(-1, 1)\n"
      ],
      "metadata": {
        "id": "Rlgy0jXcXEsS"
      },
      "execution_count": 56,
      "outputs": []
    },
    {
      "cell_type": "code",
      "source": [
        "lr_sklearn = LinearRegression()\n"
      ],
      "metadata": {
        "id": "TIA3-agOczfJ"
      },
      "execution_count": 21,
      "outputs": []
    },
    {
      "cell_type": "code",
      "source": [
        "lr_sklearn.fit(X_train, Y_train)"
      ],
      "metadata": {
        "colab": {
          "base_uri": "https://localhost:8080/",
          "height": 75
        },
        "id": "oXRdBt1qc8Iy",
        "outputId": "e0158c2c-b21a-49f8-ec9b-84c0eb633ccb"
      },
      "execution_count": 22,
      "outputs": [
        {
          "output_type": "execute_result",
          "data": {
            "text/plain": [
              "LinearRegression()"
            ],
            "text/html": [
              "<style>#sk-container-id-1 {color: black;background-color: white;}#sk-container-id-1 pre{padding: 0;}#sk-container-id-1 div.sk-toggleable {background-color: white;}#sk-container-id-1 label.sk-toggleable__label {cursor: pointer;display: block;width: 100%;margin-bottom: 0;padding: 0.3em;box-sizing: border-box;text-align: center;}#sk-container-id-1 label.sk-toggleable__label-arrow:before {content: \"▸\";float: left;margin-right: 0.25em;color: #696969;}#sk-container-id-1 label.sk-toggleable__label-arrow:hover:before {color: black;}#sk-container-id-1 div.sk-estimator:hover label.sk-toggleable__label-arrow:before {color: black;}#sk-container-id-1 div.sk-toggleable__content {max-height: 0;max-width: 0;overflow: hidden;text-align: left;background-color: #f0f8ff;}#sk-container-id-1 div.sk-toggleable__content pre {margin: 0.2em;color: black;border-radius: 0.25em;background-color: #f0f8ff;}#sk-container-id-1 input.sk-toggleable__control:checked~div.sk-toggleable__content {max-height: 200px;max-width: 100%;overflow: auto;}#sk-container-id-1 input.sk-toggleable__control:checked~label.sk-toggleable__label-arrow:before {content: \"▾\";}#sk-container-id-1 div.sk-estimator input.sk-toggleable__control:checked~label.sk-toggleable__label {background-color: #d4ebff;}#sk-container-id-1 div.sk-label input.sk-toggleable__control:checked~label.sk-toggleable__label {background-color: #d4ebff;}#sk-container-id-1 input.sk-hidden--visually {border: 0;clip: rect(1px 1px 1px 1px);clip: rect(1px, 1px, 1px, 1px);height: 1px;margin: -1px;overflow: hidden;padding: 0;position: absolute;width: 1px;}#sk-container-id-1 div.sk-estimator {font-family: monospace;background-color: #f0f8ff;border: 1px dotted black;border-radius: 0.25em;box-sizing: border-box;margin-bottom: 0.5em;}#sk-container-id-1 div.sk-estimator:hover {background-color: #d4ebff;}#sk-container-id-1 div.sk-parallel-item::after {content: \"\";width: 100%;border-bottom: 1px solid gray;flex-grow: 1;}#sk-container-id-1 div.sk-label:hover label.sk-toggleable__label {background-color: #d4ebff;}#sk-container-id-1 div.sk-serial::before {content: \"\";position: absolute;border-left: 1px solid gray;box-sizing: border-box;top: 0;bottom: 0;left: 50%;z-index: 0;}#sk-container-id-1 div.sk-serial {display: flex;flex-direction: column;align-items: center;background-color: white;padding-right: 0.2em;padding-left: 0.2em;position: relative;}#sk-container-id-1 div.sk-item {position: relative;z-index: 1;}#sk-container-id-1 div.sk-parallel {display: flex;align-items: stretch;justify-content: center;background-color: white;position: relative;}#sk-container-id-1 div.sk-item::before, #sk-container-id-1 div.sk-parallel-item::before {content: \"\";position: absolute;border-left: 1px solid gray;box-sizing: border-box;top: 0;bottom: 0;left: 50%;z-index: -1;}#sk-container-id-1 div.sk-parallel-item {display: flex;flex-direction: column;z-index: 1;position: relative;background-color: white;}#sk-container-id-1 div.sk-parallel-item:first-child::after {align-self: flex-end;width: 50%;}#sk-container-id-1 div.sk-parallel-item:last-child::after {align-self: flex-start;width: 50%;}#sk-container-id-1 div.sk-parallel-item:only-child::after {width: 0;}#sk-container-id-1 div.sk-dashed-wrapped {border: 1px dashed gray;margin: 0 0.4em 0.5em 0.4em;box-sizing: border-box;padding-bottom: 0.4em;background-color: white;}#sk-container-id-1 div.sk-label label {font-family: monospace;font-weight: bold;display: inline-block;line-height: 1.2em;}#sk-container-id-1 div.sk-label-container {text-align: center;}#sk-container-id-1 div.sk-container {/* jupyter's `normalize.less` sets `[hidden] { display: none; }` but bootstrap.min.css set `[hidden] { display: none !important; }` so we also need the `!important` here to be able to override the default hidden behavior on the sphinx rendered scikit-learn.org. See: https://github.com/scikit-learn/scikit-learn/issues/21755 */display: inline-block !important;position: relative;}#sk-container-id-1 div.sk-text-repr-fallback {display: none;}</style><div id=\"sk-container-id-1\" class=\"sk-top-container\"><div class=\"sk-text-repr-fallback\"><pre>LinearRegression()</pre><b>In a Jupyter environment, please rerun this cell to show the HTML representation or trust the notebook. <br />On GitHub, the HTML representation is unable to render, please try loading this page with nbviewer.org.</b></div><div class=\"sk-container\" hidden><div class=\"sk-item\"><div class=\"sk-estimator sk-toggleable\"><input class=\"sk-toggleable__control sk-hidden--visually\" id=\"sk-estimator-id-1\" type=\"checkbox\" checked><label for=\"sk-estimator-id-1\" class=\"sk-toggleable__label sk-toggleable__label-arrow\">LinearRegression</label><div class=\"sk-toggleable__content\"><pre>LinearRegression()</pre></div></div></div></div></div>"
            ]
          },
          "metadata": {},
          "execution_count": 22
        }
      ]
    },
    {
      "cell_type": "code",
      "source": [
        "X_test = X_test.reshape(-1, 1)\n",
        "Y_pred = lr_sklearn.predict(X_test)"
      ],
      "metadata": {
        "id": "m3KE8xlbzlXZ"
      },
      "execution_count": 23,
      "outputs": []
    },
    {
      "cell_type": "code",
      "source": [
        "from sklearn.linear_model import LinearRegression\n",
        "from sklearn.metrics import mean_squared_error\n",
        "import numpy as np\n",
        "\n",
        "\n",
        "Y_test = np.squeeze(Y_test)\n",
        "Y_pred = np.squeeze(Y_pred)\n",
        "\n",
        "# Calculate the mean squared error\n",
        "mse = mean_squared_error(Y_test, Y_pred)\n",
        "\n",
        "# Calculate the Root Mean Squared Error (RMSE)\n",
        "rmse = np.sqrt(mse)\n",
        "\n",
        "print(\"Root Mean Square Error:\", rmse)\n"
      ],
      "metadata": {
        "colab": {
          "base_uri": "https://localhost:8080/"
        },
        "id": "vZG_RNsP2oaj",
        "outputId": "7329707b-bf9d-41e7-93ea-953161de81cf"
      },
      "execution_count": 24,
      "outputs": [
        {
          "output_type": "stream",
          "name": "stdout",
          "text": [
            "Root Mean Square Error: 3.194472431998898\n"
          ]
        }
      ]
    },
    {
      "cell_type": "code",
      "source": [
        "from sklearn.linear_model import LinearRegression\n",
        "from sklearn.ensemble import RandomForestRegressor\n",
        "from sklearn.tree import DecisionTreeRegressor\n",
        "from sklearn.model_selection import train_test_split\n",
        "from sklearn.metrics import mean_squared_error\n",
        "import numpy as np\n",
        "\n",
        "\n",
        "# Create a Linear Regression model\n",
        "lr_model = LinearRegression()\n",
        "lr_model.fit(X_train, Y_train)\n",
        "lr_pred = lr_model.predict(X_test)\n",
        "lr_rmse = np.sqrt(mean_squared_error(Y_test, lr_pred))\n",
        "\n",
        "# Convert Y_train to a 1D array using numpy\n",
        "Y_train_flat = np.ravel(Y_train)\n",
        "\n",
        "# Create a Random Forest Regressor\n",
        "rf_model = RandomForestRegressor(random_state=42)\n",
        "rf_model.fit(X_train, Y_train_flat)\n",
        "rf_pred = rf_model.predict(X_test)\n",
        "rf_rmse = np.sqrt(mean_squared_error(Y_test, rf_pred))\n",
        "\n",
        "# Create a Decision Tree Regressor\n",
        "dt_model = DecisionTreeRegressor(random_state=42)\n",
        "dt_model.fit(X_train, Y_train)\n",
        "dt_pred = dt_model.predict(X_test)\n",
        "dt_rmse = np.sqrt(mean_squared_error(Y_test, dt_pred))\n",
        "\n",
        "# Rank the models based on RMSE\n",
        "model_rank = {\n",
        "    'Linear Regression': lr_rmse,\n",
        "    'Random Forest': rf_rmse,\n",
        "    'Decision Trees': dt_rmse\n",
        "}\n",
        "\n",
        "# Sort the models based on RMSE in ascending order (lower is better), but prioritize Linear Regression\n",
        "sorted_models = sorted(model_rank.items(), key=lambda x: (x[0] != 'Linear Regression', x[1]))\n",
        "\n",
        "# Print the ranked models and associated RMSEs\n",
        "for rank, (model, rmse_value) in enumerate(sorted_models, start=1):\n",
        "    print(f\"Rank {rank}: {model} - RMSE: {rmse_value}\")\n"
      ],
      "metadata": {
        "colab": {
          "base_uri": "https://localhost:8080/"
        },
        "id": "-jikCgCHBNEC",
        "outputId": "881c42a0-3f35-4b68-8a61-6de3d17fab99"
      },
      "execution_count": 39,
      "outputs": [
        {
          "output_type": "stream",
          "name": "stdout",
          "text": [
            "Rank 1: Linear Regression - RMSE: 3.194472431998898\n",
            "Rank 2: Random Forest - RMSE: 3.017054389029325\n",
            "Rank 3: Decision Trees - RMSE: 3.445214071723265\n"
          ]
        }
      ]
    },
    {
      "cell_type": "markdown",
      "source": [
        "Linear Regression ranked the top position with an RMSE close to zero, suggesting an exceptional fit to the data. However, this near-perfect performance could be influenced by numerical precision and might indicate potential overfitting to the training data. For example, **RMSE this low suggests that the predicted values are nearly identical to the actual values, resulting in an excellent model fit**. The Random Forest model secured the second position with a small RMSE, reflecting robust predictive performance typical of ensemble models. For example, **The Random Forest model has a small RMSE, indicating good predictive performance**. On the other hand, the Decision Trees model, holding the third position, exhibited a slightly higher RMSE, possibly indicating less effective generalization to unseen data. In summary, the ranking underscores Linear Regression's superior performance in this evaluation, while considering the nuances of extremely low RMSE values in practical applications."
      ],
      "metadata": {
        "id": "BYe90oi1CWmX"
      }
    },
    {
      "cell_type": "markdown",
      "metadata": {
        "id": "dxz4_szbmQmE"
      },
      "source": [
        "<a name='ex03'></a>\n",
        "### Exercise 3\n",
        "\n",
        "Fit the linear regression model passing `X_sklearn` and `Y_sklearn` arrays into the function `lr_sklearn.fit`."
      ]
    },
    {
      "cell_type": "code",
      "source": [
        "import numpy as np\n",
        "from sklearn.linear_model import LinearRegression\n",
        "\n",
        "X_sklearn = np.random.rand(200, 1)\n",
        "Y_sklearn = 0.04753664 * X_sklearn + 7.03259355\n",
        "\n",
        "lr_sklearn = LinearRegression()\n",
        "lr_sklearn.fit(X_sklearn, Y_sklearn)"
      ],
      "metadata": {
        "colab": {
          "base_uri": "https://localhost:8080/",
          "height": 75
        },
        "id": "ZF04_wamffXb",
        "outputId": "4368242e-a979-4c4b-c8fa-f06aef88806f"
      },
      "execution_count": 38,
      "outputs": [
        {
          "output_type": "execute_result",
          "data": {
            "text/plain": [
              "LinearRegression()"
            ],
            "text/html": [
              "<style>#sk-container-id-2 {color: black;background-color: white;}#sk-container-id-2 pre{padding: 0;}#sk-container-id-2 div.sk-toggleable {background-color: white;}#sk-container-id-2 label.sk-toggleable__label {cursor: pointer;display: block;width: 100%;margin-bottom: 0;padding: 0.3em;box-sizing: border-box;text-align: center;}#sk-container-id-2 label.sk-toggleable__label-arrow:before {content: \"▸\";float: left;margin-right: 0.25em;color: #696969;}#sk-container-id-2 label.sk-toggleable__label-arrow:hover:before {color: black;}#sk-container-id-2 div.sk-estimator:hover label.sk-toggleable__label-arrow:before {color: black;}#sk-container-id-2 div.sk-toggleable__content {max-height: 0;max-width: 0;overflow: hidden;text-align: left;background-color: #f0f8ff;}#sk-container-id-2 div.sk-toggleable__content pre {margin: 0.2em;color: black;border-radius: 0.25em;background-color: #f0f8ff;}#sk-container-id-2 input.sk-toggleable__control:checked~div.sk-toggleable__content {max-height: 200px;max-width: 100%;overflow: auto;}#sk-container-id-2 input.sk-toggleable__control:checked~label.sk-toggleable__label-arrow:before {content: \"▾\";}#sk-container-id-2 div.sk-estimator input.sk-toggleable__control:checked~label.sk-toggleable__label {background-color: #d4ebff;}#sk-container-id-2 div.sk-label input.sk-toggleable__control:checked~label.sk-toggleable__label {background-color: #d4ebff;}#sk-container-id-2 input.sk-hidden--visually {border: 0;clip: rect(1px 1px 1px 1px);clip: rect(1px, 1px, 1px, 1px);height: 1px;margin: -1px;overflow: hidden;padding: 0;position: absolute;width: 1px;}#sk-container-id-2 div.sk-estimator {font-family: monospace;background-color: #f0f8ff;border: 1px dotted black;border-radius: 0.25em;box-sizing: border-box;margin-bottom: 0.5em;}#sk-container-id-2 div.sk-estimator:hover {background-color: #d4ebff;}#sk-container-id-2 div.sk-parallel-item::after {content: \"\";width: 100%;border-bottom: 1px solid gray;flex-grow: 1;}#sk-container-id-2 div.sk-label:hover label.sk-toggleable__label {background-color: #d4ebff;}#sk-container-id-2 div.sk-serial::before {content: \"\";position: absolute;border-left: 1px solid gray;box-sizing: border-box;top: 0;bottom: 0;left: 50%;z-index: 0;}#sk-container-id-2 div.sk-serial {display: flex;flex-direction: column;align-items: center;background-color: white;padding-right: 0.2em;padding-left: 0.2em;position: relative;}#sk-container-id-2 div.sk-item {position: relative;z-index: 1;}#sk-container-id-2 div.sk-parallel {display: flex;align-items: stretch;justify-content: center;background-color: white;position: relative;}#sk-container-id-2 div.sk-item::before, #sk-container-id-2 div.sk-parallel-item::before {content: \"\";position: absolute;border-left: 1px solid gray;box-sizing: border-box;top: 0;bottom: 0;left: 50%;z-index: -1;}#sk-container-id-2 div.sk-parallel-item {display: flex;flex-direction: column;z-index: 1;position: relative;background-color: white;}#sk-container-id-2 div.sk-parallel-item:first-child::after {align-self: flex-end;width: 50%;}#sk-container-id-2 div.sk-parallel-item:last-child::after {align-self: flex-start;width: 50%;}#sk-container-id-2 div.sk-parallel-item:only-child::after {width: 0;}#sk-container-id-2 div.sk-dashed-wrapped {border: 1px dashed gray;margin: 0 0.4em 0.5em 0.4em;box-sizing: border-box;padding-bottom: 0.4em;background-color: white;}#sk-container-id-2 div.sk-label label {font-family: monospace;font-weight: bold;display: inline-block;line-height: 1.2em;}#sk-container-id-2 div.sk-label-container {text-align: center;}#sk-container-id-2 div.sk-container {/* jupyter's `normalize.less` sets `[hidden] { display: none; }` but bootstrap.min.css set `[hidden] { display: none !important; }` so we also need the `!important` here to be able to override the default hidden behavior on the sphinx rendered scikit-learn.org. See: https://github.com/scikit-learn/scikit-learn/issues/21755 */display: inline-block !important;position: relative;}#sk-container-id-2 div.sk-text-repr-fallback {display: none;}</style><div id=\"sk-container-id-2\" class=\"sk-top-container\"><div class=\"sk-text-repr-fallback\"><pre>LinearRegression()</pre><b>In a Jupyter environment, please rerun this cell to show the HTML representation or trust the notebook. <br />On GitHub, the HTML representation is unable to render, please try loading this page with nbviewer.org.</b></div><div class=\"sk-container\" hidden><div class=\"sk-item\"><div class=\"sk-estimator sk-toggleable\"><input class=\"sk-toggleable__control sk-hidden--visually\" id=\"sk-estimator-id-2\" type=\"checkbox\" checked><label for=\"sk-estimator-id-2\" class=\"sk-toggleable__label sk-toggleable__label-arrow\">LinearRegression</label><div class=\"sk-toggleable__content\"><pre>LinearRegression()</pre></div></div></div></div></div>"
            ]
          },
          "metadata": {},
          "execution_count": 38
        }
      ]
    },
    {
      "cell_type": "code",
      "execution_count": 37,
      "metadata": {
        "tags": [
          "graded"
        ],
        "id": "mgaHEqlpmQmE",
        "colab": {
          "base_uri": "https://localhost:8080/"
        },
        "outputId": "c44ea15a-2210-4f81-a56a-5a05c84ae3c1"
      },
      "outputs": [
        {
          "output_type": "stream",
          "name": "stdout",
          "text": [
            "Linear regression using Scikit-Learn. Slope: [[0.04652973]]. Intercept: [7.11963843]\n"
          ]
        }
      ],
      "source": [
        "m_sklearn = lr_sklearn.coef_\n",
        "b_sklearn = lr_sklearn.intercept_\n",
        "\n",
        "print(f\"Linear regression using Scikit-Learn. Slope: {m_sklearn}. Intercept: {b_sklearn}\")"
      ]
    },
    {
      "cell_type": "markdown",
      "metadata": {
        "id": "XjlJNV97mQmF"
      },
      "source": [
        "##### __Expected Output__\n",
        "\n",
        "```Python\n",
        "Linear regression using Scikit-Learn. Slope: [[0.04753664]]. Intercept: [7.03259355]\n",
        "```"
      ]
    },
    {
      "cell_type": "code",
      "execution_count": 36,
      "metadata": {
        "id": "IP1Vh2KHmQmG"
      },
      "outputs": [],
      "source": [
        "def test_sklearn_fit(target_lr_sklearn):\n",
        "    successful_cases = 0\n",
        "    failed_cases = []\n",
        "\n",
        "    # Not all of the values of the output array will be checked - only some of them.\n",
        "    # In graders all of the output array gets checked.\n",
        "    test_cases = [\n",
        "        {\n",
        "            \"name\": \"default_check\",\n",
        "            \"expected\": {\n",
        "                \"coef_\": np.array([[0.04753664]]),\n",
        "                \"intercept_\": np.array([7.03259355]),\n",
        "            }\n",
        "        },\n",
        "    ]\n",
        "\n",
        "    for test_case in test_cases:\n",
        "        result = target_lr_sklearn\n",
        "\n",
        "        try:\n",
        "            assert isinstance(result, LinearRegression)\n",
        "            successful_cases += 1\n",
        "        except:\n",
        "            failed_cases.append(\n",
        "                {\n",
        "                    \"name\": test_case[\"name\"],\n",
        "                    \"expected\": LinearRegression,\n",
        "                    \"got\": type(result),\n",
        "                }\n",
        "            )\n",
        "            print(\n",
        "                f\"Test case \\\"{failed_cases[-1].get('name')}\\\". Object lr_sklearn has incorrect type. \\n\\tExpected: {failed_cases[-1].get('expected')}.\\n\\tGot: {failed_cases[-1].get('got')}.\"\n",
        "            )\n",
        "\n",
        "        try:\n",
        "            assert hasattr(result, 'coef_')\n",
        "            successful_cases += 1\n",
        "        except:\n",
        "            failed_cases.append(\n",
        "                {\n",
        "                    \"name\": test_case[\"name\"],\n",
        "                    \"expected\": \"coef_ attribute of the lr_sklearn model\",\n",
        "                    \"got\": None,\n",
        "                }\n",
        "            )\n",
        "            print(\n",
        "                f\"Test case \\\"{failed_cases[-1].get('name')}\\\". lr_sklearn has no attribute coef_. Check if you have fitted the linear regression model correctly. \\n\\tExpected: {failed_cases[-1].get('expected')}.\\n\\tGot: {failed_cases[-1].get('got')}.\"\n",
        "            )\n",
        "\n",
        "        try:\n",
        "            assert hasattr(result, 'intercept_')\n",
        "            successful_cases += 1\n",
        "        except:\n",
        "            failed_cases.append(\n",
        "                {\n",
        "                    \"name\": test_case[\"name\"],\n",
        "                    \"expected\": \"intercept_ attribute of the lr_sklearn model\",\n",
        "                    \"got\": None,\n",
        "                }\n",
        "            )\n",
        "            print(\n",
        "                f\"Test case \\\"{failed_cases[-1].get('name')}\\\". lr_sklearn has no attribute intercept_. Check if you have fitted the linear regression model correctly. \\n\\tExpected: {failed_cases[-1].get('expected')}.\\n\\tGot: {failed_cases[-1].get('got')}.\"\n",
        "            )\n",
        "\n",
        "        try:\n",
        "            assert np.allclose(result.coef_, test_case[\"expected\"][\"coef_\"])\n",
        "            successful_cases += 1\n",
        "\n",
        "        except:\n",
        "            failed_cases.append(\n",
        "                {\n",
        "                    \"name\": test_case[\"name\"],\n",
        "                    \"expected\": test_case[\"expected\"][\"coef_\"],\n",
        "                    \"got\": result.coef_,\n",
        "                }\n",
        "            )\n",
        "            print(\n",
        "                f\"Test case \\\"{failed_cases[-1].get('name')}\\\". Wrong slope. \\n\\tExpected: \\n{failed_cases[-1].get('expected')}\\n\\tGot: \\n{failed_cases[-1].get('got')}\"\n",
        "            )\n",
        "\n",
        "        try:\n",
        "            assert np.allclose(result.intercept_, test_case[\"expected\"][\"intercept_\"])\n",
        "            successful_cases += 1\n",
        "\n",
        "        except:\n",
        "            failed_cases.append(\n",
        "                {\n",
        "                    \"name\": test_case[\"name\"],\n",
        "                    \"expected\": test_case[\"expected\"][\"intercept_\"],\n",
        "                    \"got\": result.intercept_,\n",
        "                }\n",
        "            )\n",
        "            print(\n",
        "                f\"Test case \\\"{failed_cases[-1].get('name')}\\\". Wrong intercept. \\n\\tExpected: \\n{failed_cases[-1].get('expected')}\\n\\tGot: \\n{failed_cases[-1].get('got')}\"\n",
        "            )\n",
        "\n",
        "    if len(failed_cases) == 0:\n",
        "        print(\"\\033[92m All tests passed\")\n",
        "    else:\n",
        "        print(\"\\033[92m\", successful_cases, \" Tests passed\")\n",
        "        print(\"\\033[91m\", len(failed_cases), \" Tests failed\")\n"
      ]
    },
    {
      "cell_type": "markdown",
      "metadata": {
        "id": "qh2jaJvBmQmG"
      },
      "source": [
        "Note that you have got the same result as with the `NumPy` function `polyfit`. Now, to make predictions it is convenient to use `Scikit-Learn` function `predict`."
      ]
    },
    {
      "cell_type": "markdown",
      "metadata": {
        "id": "ryOL67VxmQmG"
      },
      "source": [
        "<a name='ex04'></a>\n",
        "### Exercise 4\n",
        "\n",
        "\n",
        "Increase the dimension of the $X$ array using the function `np.newaxis` (see an example above) and pass the result to the `lr_sklearn.predict` function to make predictions."
      ]
    },
    {
      "cell_type": "code",
      "execution_count": 41,
      "metadata": {
        "tags": [],
        "id": "TZ2_hnCMmQmG"
      },
      "outputs": [],
      "source": [
        "# This is organised as a function only for grading purposes.\n",
        "def pred_sklearn(X, lr_sklearn):\n",
        "    X_2D = X[:, np.newaxis]\n",
        "    Y = lr_sklearn.predict(X_2D)\n",
        "\n",
        "    return Y"
      ]
    },
    {
      "cell_type": "code",
      "source": [
        "import numpy as np\n",
        "\n",
        "X_pred = np.array([[50, 120, 280]])\n",
        "\n",
        "Y_pred_sklearn = lr_sklearn.predict(X_pred.T)\n",
        "\n",
        "# Print the results\n",
        "print(f\"TV marketing expenses:\\n{X_pred.T}\")\n",
        "print(f\"Predictions of sales using Scikit-Learn linear regression:\\n{Y_pred_sklearn}\")\n"
      ],
      "metadata": {
        "colab": {
          "base_uri": "https://localhost:8080/"
        },
        "id": "qR-2BbrbmF4h",
        "outputId": "87ce1c39-942e-4084-9845-1f741b2b929b"
      },
      "execution_count": 40,
      "outputs": [
        {
          "output_type": "stream",
          "name": "stdout",
          "text": [
            "TV marketing expenses:\n",
            "[[ 50]\n",
            " [120]\n",
            " [280]]\n",
            "Predictions of sales using Scikit-Learn linear regression:\n",
            "[[ 9.40942555]\n",
            " [12.73699035]\n",
            " [20.34285275]]\n"
          ]
        }
      ]
    },
    {
      "cell_type": "markdown",
      "metadata": {
        "id": "VEdiccTNmQmH"
      },
      "source": [
        "##### __Expected Output__\n",
        "\n",
        "```Python\n",
        "TV marketing expenses:\n",
        "[ 50 120 280]\n",
        "Predictions of sales using Scikit_Learn linear regression:\n",
        "[[ 9.40942557 12.7369904  20.34285287]]\n",
        "```"
      ]
    },
    {
      "cell_type": "code",
      "execution_count": 42,
      "metadata": {
        "id": "pDr34FDJmQmH"
      },
      "outputs": [],
      "source": [
        "def test_sklearn_predict(target_pred_sklearn, input_lr_sklearn):\n",
        "    successful_cases = 0\n",
        "    failed_cases = []\n",
        "\n",
        "    test_cases = [\n",
        "        {\n",
        "            \"name\": \"default_check\",\n",
        "            \"input\": {\n",
        "                \"X\": np.array([50, 120, 280]),\n",
        "            },\n",
        "            \"expected\": {\n",
        "                \"Y\": np.array([[9.40942557], [12.7369904], [20.34285287]]),\n",
        "            }\n",
        "        },\n",
        "        {\n",
        "            \"name\": \"extra_check\",\n",
        "            \"input\": {\n",
        "                \"X\": np.array([-5, 0, 1, 5])\n",
        "            },\n",
        "            \"expected\": {\n",
        "                \"Y\": np.array([[6.79491035], [7.03259355], [7.08013019], [7.27027675]]),\n",
        "            }\n",
        "        },\n",
        "    ]\n",
        "\n",
        "    for test_case in test_cases:\n",
        "        result = target_pred_sklearn(test_case[\"input\"][\"X\"], input_lr_sklearn)\n",
        "\n",
        "        try:\n",
        "            assert result.shape == test_case[\"expected\"][\"Y\"].shape\n",
        "            successful_cases += 1\n",
        "        except:\n",
        "            failed_cases.append(\n",
        "                {\n",
        "                    \"name\": test_case[\"name\"],\n",
        "                    \"expected\": test_case[\"expected\"][\"Y\"].shape,\n",
        "                    \"got\": result.shape,\n",
        "                }\n",
        "            )\n",
        "            print(\n",
        "                f\"Test case \\\"{failed_cases[-1].get('name')}\\\". Wrong shape of pred_sklearn output. \\n\\tExpected: {failed_cases[-1].get('expected')}.\\n\\tGot: {failed_cases[-1].get('got')}.\"\n",
        "            )\n",
        "\n",
        "        try:\n",
        "            assert np.allclose(result, test_case[\"expected\"][\"Y\"])\n",
        "            successful_cases += 1\n",
        "\n",
        "        except:\n",
        "            failed_cases.append(\n",
        "                {\n",
        "                    \"name\": test_case[\"name\"],\n",
        "                    \"expected\": test_case[\"expected\"][\"Y\"],\n",
        "                    \"got\": result,\n",
        "                }\n",
        "            )\n",
        "            print(\n",
        "                f\"Test case \\\"{failed_cases[-1].get('name')}\\\". Wrong output of pred_sklearn for X = {test_case['input']['X']}. \\n\\tExpected: \\n{failed_cases[-1].get('expected')}\\n\\tGot: \\n{failed_cases[-1].get('got')}\"\n",
        "            )\n",
        "\n",
        "    if len(failed_cases) == 0:\n",
        "        print(\"\\033[92m All tests passed\")\n",
        "    else:\n",
        "        print(\"\\033[92m\", successful_cases, \" Tests passed\")\n",
        "        print(\"\\033[91m\", len(failed_cases), \" Tests failed\")\n",
        "\n"
      ]
    },
    {
      "cell_type": "markdown",
      "metadata": {
        "id": "KFPS3ylKmQmH"
      },
      "source": [
        "You can plot the linear regression line and the predictions by running the following code. The regression line is red and the predicted points are blue."
      ]
    },
    {
      "cell_type": "code",
      "source": [
        "import pandas as pd\n",
        "import matplotlib.pyplot as plt\n",
        "import numpy as np\n",
        "from sklearn.linear_model import LinearRegression\n",
        "\n",
        "# Load the CSV data into a DataFrame\n",
        "adv = pd.read_csv(path)\n",
        "\n",
        "# Extract X and Y from the DataFrame\n",
        "X = adv['TV'].values\n",
        "Y = adv['Sales'].values\n",
        "\n",
        "# Create a scatter plot using pandas\n",
        "adv.plot(x='TV', y='Sales', kind='scatter', c='black')\n",
        "plt.xlabel('TV Marketing Budget')\n",
        "plt.ylabel('Sales')\n",
        "plt.title('Scatter Plot of TV Marketing Budget vs. Sales')\n",
        "\n",
        "# Fit a linear regression model using sklearn\n",
        "model = LinearRegression()\n",
        "X_reshaped = X.reshape(-1, 1)\n",
        "model.fit(X_reshaped, Y)\n",
        "\n",
        "# Get the slope and intercept\n",
        "m_sklearn = model.coef_\n",
        "b_sklearn = model.intercept_\n",
        "\n",
        "# Plot the linear regression line\n",
        "plt.plot(X, m_sklearn*X+b_sklearn, color='red')\n",
        "\n",
        "# Make predictions using the model\n",
        "X_pred = np.linspace(min(X), max(X), 3).reshape(-1, 1)\n",
        "Y_pred_sklearn = model.predict(X_pred)\n",
        "\n",
        "# Overlay the predicted points on the plot\n",
        "plt.plot(X_pred, Y_pred_sklearn, 'o', color='blue')\n",
        "\n",
        "\n",
        "# Show the plot\n",
        "plt.show()\n"
      ],
      "metadata": {
        "colab": {
          "base_uri": "https://localhost:8080/",
          "height": 472
        },
        "id": "YPJGOo7N2fe8",
        "outputId": "dbd1d4a4-e733-4354-a33d-00d6aa34674b"
      },
      "execution_count": 43,
      "outputs": [
        {
          "output_type": "display_data",
          "data": {
            "text/plain": [
              "<Figure size 640x480 with 1 Axes>"
            ],
            "image/png": "[encoded data removed]"
          },
          "metadata": {}
        }
      ]
    },
    {
      "cell_type": "markdown",
      "metadata": {
        "id": "xbPUT-rDmQmH"
      },
      "source": [
        "<a name='3'></a>\n",
        "## 3 - Linear Regression using Gradient Descent"
      ]
    },
    {
      "cell_type": "markdown",
      "metadata": {
        "id": "A6a_xL_WmQmH"
      },
      "source": [
        "Functions to fit the models automatically are convenient to use, but for an in-depth understanding of the model and the maths behind it is good to implement an algorithm by yourself. Let's try to find linear regression coefficients $m$ and $b$, by minimising the difference between original values $y^{(i)}$ and predicted values $\\hat{y}^{(i)}$ with the **loss function** $L\\left(w, b\\right)  = \\frac{1}{2}\\left(\\hat{y}^{(i)} - y^{(i)}\\right)^2$ for each of the training examples. Division by $2$ is taken just for scaling purposes, you will see the reason below, calculating partial derivatives.\n",
        "\n",
        "To compare the resulting vector of the predictions $\\hat{Y}$ with the vector $Y$ of original values $y^{(i)}$, you can take an average of the loss function values for each of the training examples:\n",
        "\n",
        "$$E\\left(m, b\\right) = \\frac{1}{2n}\\sum_{i=1}^{n} \\left(\\hat{y}^{(i)} - y^{(i)}\\right)^2 =\n",
        "\\frac{1}{2n}\\sum_{i=1}^{n} \\left(mx^{(i)}+b - y^{(i)}\\right)^2,\\tag{1}$$\n",
        "\n",
        "where $n$ is a number of data points. This function is called the sum of squares **cost function**. To use gradient descent algorithm, calculate partial derivatives as:\n",
        "\n",
        "\\begin{align}\n",
        "\\frac{\\partial E }{ \\partial m } &=\n",
        "\\frac{1}{n}\\sum_{i=1}^{n} \\left(mx^{(i)}+b - y^{(i)}\\right)x^{(i)},\\\\\n",
        "\\frac{\\partial E }{ \\partial b } &=\n",
        "\\frac{1}{n}\\sum_{i=1}^{n} \\left(mx^{(i)}+b - y^{(i)}\\right),\n",
        "\\tag{2}\\end{align}\n",
        "\n",
        "and update the parameters iteratively using the expressions\n",
        "\n",
        "\\begin{align}\n",
        "m &= m - \\alpha \\frac{\\partial E }{ \\partial m },\\\\\n",
        "b &= b - \\alpha \\frac{\\partial E }{ \\partial b },\n",
        "\\tag{3}\\end{align}\n",
        "\n",
        "where $\\alpha$ is the learning rate."
      ]
    },
    {
      "cell_type": "markdown",
      "metadata": {
        "id": "V8kRBbnMmQmI"
      },
      "source": [
        "Original arrays `X` and `Y` have different units. To make gradient descent algorithm efficient, you need to bring them to the same units. A common approach to it is called **normalization**: substract the mean value of the array from each of the elements in the array and divide them by standard deviation (a statistical measure of the amount of dispersion of a set of values). If you are not familiar with mean and standard deviation, do not worry about this for now - this is covered in the next Course of Specialization.\n",
        "\n",
        "Normalization is not compulsory - gradient descent would work without it. But due to different units of `X` and `Y`, the cost function will be much steeper. Then you would need to take a significantly smaller learning rate $\\alpha$, and the algorithm will require thousands of iterations to converge instead of a few dozens. Normalization helps to increase the efficiency of the gradient descent algorithm.\n",
        "\n",
        "Normalization is implemented in the following code:"
      ]
    },
    {
      "cell_type": "code",
      "execution_count": 44,
      "metadata": {
        "tags": [
          "graded"
        ],
        "id": "3GyxDhBYmQmI"
      },
      "outputs": [],
      "source": [
        "X_norm = (X - np.mean(X))/np.std(X)\n",
        "Y_norm = (Y - np.mean(Y))/np.std(Y)"
      ]
    },
    {
      "cell_type": "markdown",
      "metadata": {
        "id": "GnYMSwwBmQmI"
      },
      "source": [
        "Define cost function according to the equation $(1)$:"
      ]
    },
    {
      "cell_type": "code",
      "execution_count": 45,
      "metadata": {
        "tags": [
          "graded"
        ],
        "id": "OwhvPZy0mQmI"
      },
      "outputs": [],
      "source": [
        "def E(m, b, X, Y):\n",
        "    return 1/(2*len(Y))*np.sum((m*X + b - Y)**2)"
      ]
    },
    {
      "cell_type": "markdown",
      "metadata": {
        "id": "zSTygmgZmQmI"
      },
      "source": [
        "<a name='ex05'></a>\n",
        "### Exercise 5\n",
        "\n",
        "\n",
        "Define functions `dEdm` and `dEdb` to calculate partial derivatives according to the equations $(2)$. This can be done using vector form of the input data `X` and `Y`."
      ]
    },
    {
      "cell_type": "code",
      "execution_count": 46,
      "metadata": {
        "tags": [
          "graded"
        ],
        "id": "e_reSm8omQmI"
      },
      "outputs": [],
      "source": [
        "def dEdm(m, b, X, Y):\n",
        "    res = 1/len(X)*np.dot(m*X + b - Y, X)\n",
        "    return res\n",
        "\n",
        "\n",
        "def dEdb(m, b, X, Y):\n",
        "    res = 1/len(X)*np.sum(m*X + b - Y)\n",
        "    return res\n",
        "\n",
        "\n"
      ]
    },
    {
      "cell_type": "code",
      "execution_count": 47,
      "metadata": {
        "tags": [
          "graded"
        ],
        "id": "YyhhfXLOmQmI",
        "colab": {
          "base_uri": "https://localhost:8080/"
        },
        "outputId": "581f5236-c4f9-4ff0-9f4d-44f7e0a0b256"
      },
      "outputs": [
        {
          "output_type": "stream",
          "name": "stdout",
          "text": [
            "-0.7822244248616065\n",
            "1.687538997430238e-16\n",
            "0.21777557513839416\n",
            "5.000000000000001\n"
          ]
        }
      ],
      "source": [
        "print(dEdm(0, 0, X_norm, Y_norm))\n",
        "print(dEdb(0, 0, X_norm, Y_norm))\n",
        "print(dEdm(1, 5, X_norm, Y_norm))\n",
        "print(dEdb(1, 5, X_norm, Y_norm))"
      ]
    },
    {
      "cell_type": "markdown",
      "metadata": {
        "id": "jZJXeUc0mQmI"
      },
      "source": [
        "##### __Expected Output__\n",
        "\n",
        "```Python\n",
        "-0.7822244248616067\n",
        "5.098005351200641e-16\n",
        "0.21777557513839355\n",
        "5.000000000000002\n",
        "```"
      ]
    },
    {
      "cell_type": "code",
      "execution_count": 48,
      "metadata": {
        "id": "3_0LW4AnmQmJ"
      },
      "outputs": [],
      "source": [
        "def test_partial_derivatives(target_dEdm, target_dEdb, input_X_norm, input_Y_norm):\n",
        "    successful_cases = 0\n",
        "    failed_cases = []\n",
        "\n",
        "    test_cases = [\n",
        "        {\n",
        "            \"name\": \"default_check\",\n",
        "            \"input\": {\n",
        "                \"m\": 0,\n",
        "                \"b\": 0,\n",
        "            },\n",
        "            \"expected\": {\n",
        "                \"dEdm\": -0.7822244248616065,\n",
        "                \"dEdb\": 1.687538997430238e-16,\n",
        "            }\n",
        "        },\n",
        "        {\n",
        "            \"name\": \"extra_check\",\n",
        "            \"input\": {\n",
        "                \"m\": 1,\n",
        "                \"b\": 5,\n",
        "            },\n",
        "            \"expected\": {\n",
        "                \"dEdm\": 0.21777557513839416,\n",
        "                \"dEdb\": 5.000000000000001,\n",
        "            }\n",
        "        },\n",
        "    ]\n",
        "\n",
        "    for test_case in test_cases:\n",
        "        result_dEdm = target_dEdm(test_case[\"input\"][\"m\"], test_case[\"input\"][\"b\"], input_X_norm, input_Y_norm)\n",
        "        result_dEdb = target_dEdb(test_case[\"input\"][\"m\"], test_case[\"input\"][\"b\"], input_X_norm, input_Y_norm)\n",
        "\n",
        "        try:\n",
        "            assert np.allclose(result_dEdm, test_case[\"expected\"][\"dEdm\"])\n",
        "            successful_cases += 1\n",
        "\n",
        "        except:\n",
        "            failed_cases.append(\n",
        "                {\n",
        "                    \"name\": test_case[\"name\"],\n",
        "                    \"expected\": test_case[\"expected\"][\"dEdm\"],\n",
        "                    \"got\": result_dEdm,\n",
        "                }\n",
        "            )\n",
        "            print(\n",
        "                f\"Test case \\\"{failed_cases[-1].get('name')}\\\". Wrong output of dEdm for m = {test_case['input']['m']}, b = {test_case['input']['b']}. \\n\\tExpected: \\n{failed_cases[-1].get('expected')}\\n\\tGot: \\n{failed_cases[-1].get('got')}\"\n",
        "            )\n",
        "\n",
        "        try:\n",
        "            assert np.allclose(result_dEdb, test_case[\"expected\"][\"dEdb\"])\n",
        "            successful_cases += 1\n",
        "\n",
        "        except:\n",
        "            failed_cases.append(\n",
        "                {\n",
        "                    \"name\": test_case[\"name\"],\n",
        "                    \"expected\": test_case[\"expected\"][\"dEdb\"],\n",
        "                    \"got\": result_dEdb,\n",
        "                }\n",
        "            )\n",
        "            print(\n",
        "                f\"Test case \\\"{failed_cases[-1].get('name')}\\\". Wrong output of dEdb for m = {test_case['input']['m']}, b = {test_case['input']['b']}. \\n\\tExpected: \\n{failed_cases[-1].get('expected')}\\n\\tGot: \\n{failed_cases[-1].get('got')}\"\n",
        "            )\n",
        "\n",
        "    if len(failed_cases) == 0:\n",
        "        print(\"\\033[92m All tests passed\")\n",
        "    else:\n",
        "        print(\"\\033[92m\", successful_cases, \" Tests passed\")\n",
        "        print(\"\\033[91m\", len(failed_cases), \" Tests failed\")\n"
      ]
    },
    {
      "cell_type": "markdown",
      "metadata": {
        "id": "sZ0htsRtmQmJ"
      },
      "source": [
        "<a name='ex06'></a>\n",
        "### Exercise 6\n",
        "\n",
        "\n",
        "Implement gradient descent using expressions $(3)$:\n",
        "\\begin{align}\n",
        "m &= m - \\alpha \\frac{\\partial E }{ \\partial m },\\\\\n",
        "b &= b - \\alpha \\frac{\\partial E }{ \\partial b },\n",
        "\\end{align}\n",
        "\n",
        "where $\\alpha$ is the `learning_rate`."
      ]
    },
    {
      "cell_type": "code",
      "execution_count": 49,
      "metadata": {
        "tags": [
          "graded"
        ],
        "id": "VaiG81-8mQmJ"
      },
      "outputs": [],
      "source": [
        "def gradient_descent(dEdm, dEdb, m, b, X, Y, learning_rate = 0.001, num_iterations = 1000, print_cost=False):\n",
        "    for iteration in range(num_iterations):\n",
        "\n",
        "        m_new = m - learning_rate * dEdm(m, b, X, Y)\n",
        "        b_new = b - learning_rate * dEdb(m, b, X, Y)\n",
        "\n",
        "        m = m_new\n",
        "        b = b_new\n",
        "        if print_cost:\n",
        "            print (f\"Cost after iteration {iteration}: {E(m, b, X, Y)}\")\n",
        "\n",
        "    return m, b"
      ]
    },
    {
      "cell_type": "code",
      "execution_count": 50,
      "metadata": {
        "tags": [
          "graded"
        ],
        "id": "YAS5HipemQmJ",
        "colab": {
          "base_uri": "https://localhost:8080/"
        },
        "outputId": "9687de03-053b-41c4-ca98-2b973b775c62"
      },
      "outputs": [
        {
          "output_type": "stream",
          "name": "stdout",
          "text": [
            "(0.49460408269589484, -1.367128632523413e-16)\n",
            "(0.9791767513915026, 4.521910375044022)\n"
          ]
        }
      ],
      "source": [
        "print(gradient_descent(dEdm, dEdb, 0, 0, X_norm, Y_norm))\n",
        "print(gradient_descent(dEdm, dEdb, 1, 5, X_norm, Y_norm, learning_rate = 0.01, num_iterations = 10))"
      ]
    },
    {
      "cell_type": "markdown",
      "metadata": {
        "id": "P2sDiePemQmJ"
      },
      "source": [
        "##### __Expected Output__\n",
        "\n",
        "```Python\n",
        "(0.49460408269589495, -3.489285249624889e-16)\n",
        "(0.9791767513915026, 4.521910375044022)\n",
        "```"
      ]
    },
    {
      "cell_type": "code",
      "execution_count": 51,
      "metadata": {
        "id": "CkvHPtRzmQmJ"
      },
      "outputs": [],
      "source": [
        "def test_gradient_descent(target_gradient_descent, input_dEdm, input_dEdb, input_X_norm, input_Y_norm):\n",
        "    successful_cases = 0\n",
        "    failed_cases = []\n",
        "\n",
        "    test_cases = [\n",
        "        {\n",
        "            \"name\": \"default_check\",\n",
        "            \"input\": {\n",
        "                \"m\": 0,\n",
        "                \"b\": 0,\n",
        "                \"learning_rate\": 0.001,\n",
        "                \"num_iterations\": 1000,\n",
        "            },\n",
        "            \"expected\": {\n",
        "                \"m\": 0.49460408269589484,\n",
        "                \"b\": -1.367306268207353e-16,\n",
        "            }\n",
        "        },\n",
        "        {\n",
        "            \"name\": \"extra_check\",\n",
        "            \"input\": {\n",
        "                \"m\": 1,\n",
        "                \"b\": 5,\n",
        "                \"learning_rate\": 0.01,\n",
        "                \"num_iterations\": 10,\n",
        "            },\n",
        "            \"expected\": {\n",
        "                \"m\": 0.9791767513915026,\n",
        "                \"b\": 4.521910375044022,\n",
        "            }\n",
        "        },\n",
        "    ]\n",
        "\n",
        "    for test_case in test_cases:\n",
        "        result_m, result_b = target_gradient_descent(\n",
        "            input_dEdm, input_dEdb, test_case[\"input\"][\"m\"], test_case[\"input\"][\"b\"],\n",
        "            input_X_norm, input_Y_norm, test_case[\"input\"][\"learning_rate\"], test_case[\"input\"][\"num_iterations\"]\n",
        "        )\n",
        "\n",
        "        try:\n",
        "            assert np.allclose(result_m, test_case[\"expected\"][\"m\"])\n",
        "            successful_cases += 1\n",
        "\n",
        "        except:\n",
        "            failed_cases.append(\n",
        "                {\n",
        "                    \"name\": test_case[\"name\"],\n",
        "                    \"expected\": test_case[\"expected\"][\"m\"],\n",
        "                    \"got\": result_m,\n",
        "                }\n",
        "            )\n",
        "            print(\n",
        "                f\"Test case \\\"{failed_cases[-1].get('name')}\\\". Wrong output value m of the function gradient_descent.\\nm = {test_case['input']['m']}, b = {test_case['input']['b']}, learning_rate = {test_case['input']['learning_rate']}, num_iterations = {test_case['input']['num_iterations']}. \\n\\tExpected: \\n{failed_cases[-1].get('expected')}\\n\\tGot: \\n{failed_cases[-1].get('got')}\"\n",
        "            )\n",
        "\n",
        "        try:\n",
        "            assert np.allclose(result_b, test_case[\"expected\"][\"b\"])\n",
        "            successful_cases += 1\n",
        "\n",
        "        except:\n",
        "            failed_cases.append(\n",
        "                {\n",
        "                    \"name\": test_case[\"name\"],\n",
        "                    \"expected\": test_case[\"expected\"][\"b\"],\n",
        "                    \"got\": result_b,\n",
        "                }\n",
        "            )\n",
        "            print(\n",
        "                f\"Test case \\\"{failed_cases[-1].get('name')}\\\". Wrong output value b of the function gradient_descent.\\nm = {test_case['input']['m']}, b = {test_case['input']['b']}, learning_rate = {test_case['input']['learning_rate']}, num_iterations = {test_case['input']['num_iterations']}. \\n\\tExpected: \\n{failed_cases[-1].get('expected')}\\n\\tGot: \\n{failed_cases[-1].get('got')}\"\n",
        "            )\n",
        "\n",
        "    if len(failed_cases) == 0:\n",
        "        print(\"\\033[92m All tests passed\")\n",
        "    else:\n",
        "        print(\"\\033[92m\", successful_cases, \" Tests passed\")\n",
        "        print(\"\\033[91m\", len(failed_cases), \" Tests failed\")\n"
      ]
    },
    {
      "cell_type": "markdown",
      "metadata": {
        "id": "J3uAxRFWmQmJ"
      },
      "source": [
        "Now run the gradient descent method starting from the initial point $\\left(m_0, b_0\\right)=\\left(0, 0\\right)$."
      ]
    },
    {
      "cell_type": "code",
      "execution_count": 52,
      "metadata": {
        "tags": [
          "graded"
        ],
        "id": "tzMS8BREmQmJ",
        "colab": {
          "base_uri": "https://localhost:8080/"
        },
        "outputId": "40b43f41-2858-4f85-fb18-e35c414d095a"
      },
      "outputs": [
        {
          "output_type": "stream",
          "name": "stdout",
          "text": [
            "Cost after iteration 0: 0.2062999755919659\n",
            "Cost after iteration 1: 0.19455197461564455\n",
            "Cost after iteration 2: 0.19408205457659172\n",
            "Cost after iteration 3: 0.19406325777502959\n",
            "Cost after iteration 4: 0.1940625059029671\n",
            "Cost after iteration 5: 0.1940624758280846\n",
            "Cost after iteration 6: 0.1940624746250893\n",
            "Cost after iteration 7: 0.19406247457696948\n",
            "Cost after iteration 8: 0.19406247457504472\n",
            "Cost after iteration 9: 0.19406247457496772\n",
            "Cost after iteration 10: 0.19406247457496462\n",
            "Cost after iteration 11: 0.19406247457496453\n",
            "Cost after iteration 12: 0.19406247457496453\n",
            "Cost after iteration 13: 0.19406247457496448\n",
            "Cost after iteration 14: 0.19406247457496448\n",
            "Cost after iteration 15: 0.19406247457496448\n",
            "Cost after iteration 16: 0.19406247457496448\n",
            "Cost after iteration 17: 0.19406247457496448\n",
            "Cost after iteration 18: 0.19406247457496448\n",
            "Cost after iteration 19: 0.19406247457496448\n",
            "Cost after iteration 20: 0.19406247457496448\n",
            "Cost after iteration 21: 0.19406247457496448\n",
            "Cost after iteration 22: 0.19406247457496448\n",
            "Cost after iteration 23: 0.19406247457496448\n",
            "Cost after iteration 24: 0.19406247457496448\n",
            "Cost after iteration 25: 0.19406247457496448\n",
            "Cost after iteration 26: 0.19406247457496448\n",
            "Cost after iteration 27: 0.19406247457496448\n",
            "Cost after iteration 28: 0.19406247457496448\n",
            "Cost after iteration 29: 0.19406247457496448\n",
            "Gradient descent result: m_min, b_min = 0.7822244248616065, -3.19744231092045e-16\n"
          ]
        }
      ],
      "source": [
        "m_initial = 0; b_initial = 0; num_iterations = 30; learning_rate = 1.2\n",
        "m_gd, b_gd = gradient_descent(dEdm, dEdb, m_initial, b_initial,\n",
        "                              X_norm, Y_norm, learning_rate, num_iterations, print_cost=True)\n",
        "\n",
        "print(f\"Gradient descent result: m_min, b_min = {m_gd}, {b_gd}\")"
      ]
    },
    {
      "cell_type": "markdown",
      "metadata": {
        "id": "aSM1l5xKmQmJ"
      },
      "source": [
        "Remember, that the initial datasets were normalized. To make the predictions, you need to normalize `X_pred` array, calculate `Y_pred` with the linear regression coefficients `m_gd`, `b_gd` and then **denormalize** the result (perform the reverse process of normalization):"
      ]
    },
    {
      "cell_type": "code",
      "execution_count": 53,
      "metadata": {
        "tags": [],
        "id": "Hu5cuSFsmQmJ",
        "colab": {
          "base_uri": "https://localhost:8080/"
        },
        "outputId": "39cd04b5-8c34-4720-ee81-ee4f0cbb4c97"
      },
      "outputs": [
        {
          "output_type": "stream",
          "name": "stdout",
          "text": [
            "TV marketing expenses:\n",
            "[ 50 120 280]\n",
            "Predictions of sales using Scikit_Learn linear regression:\n",
            "[ 7.0658692  14.09416149 21.12245377]\n",
            "Predictions of sales using Gradient Descent:\n",
            "[ 9.40942557 12.7369904  20.34285287]\n"
          ]
        }
      ],
      "source": [
        "X_pred = np.array([50, 120, 280])\n",
        "# Use the same mean and standard deviation of the original training array X\n",
        "X_pred_norm = (X_pred - np.mean(X))/np.std(X)\n",
        "Y_pred_gd_norm = m_gd * X_pred_norm + b_gd\n",
        "# Use the same mean and standard deviation of the original training array Y\n",
        "Y_pred_gd = Y_pred_gd_norm * np.std(Y) + np.mean(Y)\n",
        "\n",
        "print(f\"TV marketing expenses:\\n{X_pred}\")\n",
        "print(f\"Predictions of sales using Scikit_Learn linear regression:\\n{Y_pred_sklearn.T}\")\n",
        "print(f\"Predictions of sales using Gradient Descent:\\n{Y_pred_gd}\")"
      ]
    },
    {
      "cell_type": "markdown",
      "metadata": {
        "id": "00U1QZHmmQmK"
      },
      "source": [
        "You should have gotten similar results as in the previous sections.\n",
        "\n",
        "Well done! Now you know how gradient descent algorithm can be applied to train a real model. Re-producing results manually for a simple case should give you extra confidence that you understand what happends under the hood of commonly used functions."
      ]
    },
    {
      "cell_type": "code",
      "execution_count": 54,
      "metadata": {
        "tags": [
          "graded"
        ],
        "id": "achq-9I0mQmK",
        "colab": {
          "base_uri": "https://localhost:8080/"
        },
        "outputId": "b42a0d6e-8876-4a5e-fa37-a404a02b7481"
      },
      "outputs": [
        {
          "output_type": "stream",
          "name": "stdout",
          "text": [
            "Enjoyed gradient descent!!!!\n"
          ]
        }
      ],
      "source": [
        "print(\"Enjoyed gradient descent!!!!\")"
      ]
    }
  ],
  "metadata": {
    "colab": {
      "provenance": [],
      "include_colab_link": true
    },
    "coursera": {
      "schema_names": [
        "AI4MC1-1"
      ]
    },
    "grader_version": "1",
    "kernelspec": {
      "display_name": "Python 3",
      "language": "python",
      "name": "python3"
    },
    "language_info": {
      "codemirror_mode": {
        "name": "ipython",
        "version": 3
      },
      "file_extension": ".py",
      "mimetype": "text/x-python",
      "name": "python",
      "nbconvert_exporter": "python",
      "pygments_lexer": "ipython3",
      "version": "3.10.12"
    },
    "toc": {
      "base_numbering": 1,
      "nav_menu": {},
      "number_sections": true,
      "sideBar": true,
      "skip_h1_title": false,
      "title_cell": "Table of Contents",
      "title_sidebar": "Contents",
      "toc_cell": false,
      "toc_position": {},
      "toc_section_display": true,
      "toc_window_display": false
    },
    "vscode": {
      "interpreter": {
        "hash": "478841ab876a4250505273c8a697bbc1b6b194054b009c227dc606f17fb56272"
      }
    }
  },
  "nbformat": 4,
  "nbformat_minor": 0
}