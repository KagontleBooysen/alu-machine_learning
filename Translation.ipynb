{
  "cells": [
    {
      "cell_type": "markdown",
      "metadata": {
        "id": "view-in-github",
        "colab_type": "text"
      },
      "source": [
        "<a href=\"https://colab.research.google.com/github/KagontleBooysen/alu-machine_learning/blob/master/Translation.ipynb\" target=\"_parent\"><img src=\"https://colab.research.google.com/assets/colab-badge.svg\" alt=\"Open In Colab\"/></a>"
      ]
    },
    {
      "cell_type": "code",
      "execution_count": 3,
      "metadata": {
        "colab": {
          "base_uri": "https://localhost:8080/"
        },
        "id": "abbjJWJxozJo",
        "outputId": "b12c358d-019a-42cc-cf6b-b40688c5a6fb"
      },
      "outputs": [
        {
          "output_type": "stream",
          "name": "stdout",
          "text": [
            "Mounted at /content/drive\n"
          ]
        }
      ],
      "source": [
        "import zipfile\n",
        "import nltk\n",
        "import os\n",
        "import tensorflow as tf\n",
        "from googletrans import Translator\n",
        "from tensorflow.keras.layers import Embedding, LSTM, Dense, Bidirectional, Input\n",
        "from tensorflow.keras.models import Model\n",
        "from tensorflow.keras.preprocessing.text import Tokenizer\n",
        "from tensorflow.keras.preprocessing.sequence import pad_sequences\n",
        "from sklearn.metrics.pairwise import cosine_similarity\n",
        "from nltk.translate.bleu_score import sentence_bleu, SmoothingFunction\n",
        "import numpy as np\n",
        "import matplotlib.pyplot as plt\n",
        "import seaborn as sns\n",
        "import pandas as pd\n",
        "\n",
        "\n",
        "from google.colab import drive\n",
        "\n",
        "# Mount Google Drive7\n",
        "\n",
        "drive.mount('/content/drive')"
      ]
    },
    {
      "cell_type": "code",
      "source": [
        "pip install googletrans==4.0.0-rc1"
      ],
      "metadata": {
        "id": "zKItFMMX0LXR",
        "outputId": "5eed4159-a3e4-4b75-c1ea-19335360e18d",
        "colab": {
          "base_uri": "https://localhost:8080/",
          "height": 975
        }
      },
      "execution_count": 2,
      "outputs": [
        {
          "output_type": "stream",
          "name": "stdout",
          "text": [
            "Collecting googletrans==4.0.0-rc1\n",
            "  Downloading googletrans-4.0.0rc1.tar.gz (20 kB)\n",
            "  Preparing metadata (setup.py) ... \u001b[?25l\u001b[?25hdone\n",
            "Collecting httpx==0.13.3 (from googletrans==4.0.0-rc1)\n",
            "  Downloading httpx-0.13.3-py3-none-any.whl (55 kB)\n",
            "\u001b[2K     \u001b[90m━━━━━━━━━━━━━━━━━━━━━━━━━━━━━━━━━━━━━━━━\u001b[0m \u001b[32m55.1/55.1 kB\u001b[0m \u001b[31m4.1 MB/s\u001b[0m eta \u001b[36m0:00:00\u001b[0m\n",
            "\u001b[?25hRequirement already satisfied: certifi in /usr/local/lib/python3.10/dist-packages (from httpx==0.13.3->googletrans==4.0.0-rc1) (2024.6.2)\n",
            "Collecting hstspreload (from httpx==0.13.3->googletrans==4.0.0-rc1)\n",
            "  Downloading hstspreload-2024.6.1-py3-none-any.whl (1.2 MB)\n",
            "\u001b[2K     \u001b[90m━━━━━━━━━━━━━━━━━━━━━━━━━━━━━━━━━━━━━━━━\u001b[0m \u001b[32m1.2/1.2 MB\u001b[0m \u001b[31m6.8 MB/s\u001b[0m eta \u001b[36m0:00:00\u001b[0m\n",
            "\u001b[?25hRequirement already satisfied: sniffio in /usr/local/lib/python3.10/dist-packages (from httpx==0.13.3->googletrans==4.0.0-rc1) (1.3.1)\n",
            "Collecting chardet==3.* (from httpx==0.13.3->googletrans==4.0.0-rc1)\n",
            "  Downloading chardet-3.0.4-py2.py3-none-any.whl (133 kB)\n",
            "\u001b[2K     \u001b[90m━━━━━━━━━━━━━━━━━━━━━━━━━━━━━━━━━━━━━━━━\u001b[0m \u001b[32m133.4/133.4 kB\u001b[0m \u001b[31m13.5 MB/s\u001b[0m eta \u001b[36m0:00:00\u001b[0m\n",
            "\u001b[?25hCollecting idna==2.* (from httpx==0.13.3->googletrans==4.0.0-rc1)\n",
            "  Downloading idna-2.10-py2.py3-none-any.whl (58 kB)\n",
            "\u001b[2K     \u001b[90m━━━━━━━━━━━━━━━━━━━━━━━━━━━━━━━━━━━━━━━━\u001b[0m \u001b[32m58.8/58.8 kB\u001b[0m \u001b[31m6.6 MB/s\u001b[0m eta \u001b[36m0:00:00\u001b[0m\n",
            "\u001b[?25hCollecting rfc3986<2,>=1.3 (from httpx==0.13.3->googletrans==4.0.0-rc1)\n",
            "  Downloading rfc3986-1.5.0-py2.py3-none-any.whl (31 kB)\n",
            "Collecting httpcore==0.9.* (from httpx==0.13.3->googletrans==4.0.0-rc1)\n",
            "  Downloading httpcore-0.9.1-py3-none-any.whl (42 kB)\n",
            "\u001b[2K     \u001b[90m━━━━━━━━━━━━━━━━━━━━━━━━━━━━━━━━━━━━━━━━\u001b[0m \u001b[32m42.6/42.6 kB\u001b[0m \u001b[31m4.9 MB/s\u001b[0m eta \u001b[36m0:00:00\u001b[0m\n",
            "\u001b[?25hCollecting h11<0.10,>=0.8 (from httpcore==0.9.*->httpx==0.13.3->googletrans==4.0.0-rc1)\n",
            "  Downloading h11-0.9.0-py2.py3-none-any.whl (53 kB)\n",
            "\u001b[2K     \u001b[90m━━━━━━━━━━━━━━━━━━━━━━━━━━━━━━━━━━━━━━━━\u001b[0m \u001b[32m53.6/53.6 kB\u001b[0m \u001b[31m6.5 MB/s\u001b[0m eta \u001b[36m0:00:00\u001b[0m\n",
            "\u001b[?25hCollecting h2==3.* (from httpcore==0.9.*->httpx==0.13.3->googletrans==4.0.0-rc1)\n",
            "  Downloading h2-3.2.0-py2.py3-none-any.whl (65 kB)\n",
            "\u001b[2K     \u001b[90m━━━━━━━━━━━━━━━━━━━━━━━━━━━━━━━━━━━━━━━━\u001b[0m \u001b[32m65.0/65.0 kB\u001b[0m \u001b[31m7.6 MB/s\u001b[0m eta \u001b[36m0:00:00\u001b[0m\n",
            "\u001b[?25hCollecting hyperframe<6,>=5.2.0 (from h2==3.*->httpcore==0.9.*->httpx==0.13.3->googletrans==4.0.0-rc1)\n",
            "  Downloading hyperframe-5.2.0-py2.py3-none-any.whl (12 kB)\n",
            "Collecting hpack<4,>=3.0 (from h2==3.*->httpcore==0.9.*->httpx==0.13.3->googletrans==4.0.0-rc1)\n",
            "  Downloading hpack-3.0.0-py2.py3-none-any.whl (38 kB)\n",
            "Building wheels for collected packages: googletrans\n",
            "  Building wheel for googletrans (setup.py) ... \u001b[?25l\u001b[?25hdone\n",
            "  Created wheel for googletrans: filename=googletrans-4.0.0rc1-py3-none-any.whl size=17395 sha256=8f5047fdaffa32b523e08eb0aeae18c1f28541baedb5c17b389a38f1aea255b2\n",
            "  Stored in directory: /root/.cache/pip/wheels/c0/59/9f/7372f0cf70160fe61b528532e1a7c8498c4becd6bcffb022de\n",
            "Successfully built googletrans\n",
            "Installing collected packages: rfc3986, hyperframe, hpack, h11, chardet, idna, hstspreload, h2, httpcore, httpx, googletrans\n",
            "  Attempting uninstall: chardet\n",
            "    Found existing installation: chardet 5.2.0\n",
            "    Uninstalling chardet-5.2.0:\n",
            "      Successfully uninstalled chardet-5.2.0\n",
            "  Attempting uninstall: idna\n",
            "    Found existing installation: idna 3.7\n",
            "    Uninstalling idna-3.7:\n",
            "      Successfully uninstalled idna-3.7\n",
            "Successfully installed chardet-3.0.4 googletrans-4.0.0rc1 h11-0.9.0 h2-3.2.0 hpack-3.0.0 hstspreload-2024.6.1 httpcore-0.9.1 httpx-0.13.3 hyperframe-5.2.0 idna-2.10 rfc3986-1.5.0\n"
          ]
        },
        {
          "output_type": "display_data",
          "data": {
            "application/vnd.colab-display-data+json": {
              "pip_warning": {
                "packages": [
                  "chardet",
                  "idna"
                ]
              },
              "id": "f83b99cb40e74e929f1cf6d9f7007116"
            }
          },
          "metadata": {}
        }
      ]
    },
    {
      "cell_type": "code",
      "source": [
        "import tensorflow as tf\n",
        "tf.test.gpu_device_name()"
      ],
      "metadata": {
        "colab": {
          "base_uri": "https://localhost:8080/",
          "height": 36
        },
        "id": "r4sbtVw7N4j8",
        "outputId": "02fb7d47-93ff-4ab0-95d1-21fc06965ad4"
      },
      "execution_count": 4,
      "outputs": [
        {
          "output_type": "execute_result",
          "data": {
            "text/plain": [
              "''"
            ],
            "application/vnd.google.colaboratory.intrinsic+json": {
              "type": "string"
            }
          },
          "metadata": {},
          "execution_count": 4
        }
      ]
    },
    {
      "cell_type": "code",
      "execution_count": 5,
      "metadata": {
        "colab": {
          "base_uri": "https://localhost:8080/"
        },
        "id": "Ggf86D_6wMg_",
        "outputId": "55b3f0de-bf05-4754-f7ad-ce31e2fc36ce"
      },
      "outputs": [
        {
          "output_type": "stream",
          "name": "stdout",
          "text": [
            "Num GPUs Available:  0\n",
            "[PhysicalDevice(name='/physical_device:CPU:0', device_type='CPU')]\n"
          ]
        }
      ],
      "source": [
        "import tensorflow as tf\n",
        "\n",
        "# Check if TensorFlow can see the GPU\n",
        "print(\"Num GPUs Available: \", len(tf.config.experimental.list_physical_devices('GPU')))\n",
        "\n",
        "# Optional: List all physical devices\n",
        "print(tf.config.experimental.list_physical_devices())\n"
      ]
    },
    {
      "cell_type": "code",
      "execution_count": 6,
      "metadata": {
        "id": "FZeCXQ5jwRXE",
        "colab": {
          "base_uri": "https://localhost:8080/"
        },
        "outputId": "67b6af49-15cc-4216-9b2c-8e3d95d5d6c3"
      },
      "outputs": [
        {
          "output_type": "stream",
          "name": "stdout",
          "text": [
            "tf.Tensor(\n",
            "[[1. 3.]\n",
            " [3. 7.]], shape=(2, 2), dtype=float32)\n"
          ]
        }
      ],
      "source": [
        "import tensorflow as tf\n",
        "\n",
        "# Create a simple operation\n",
        "with tf.device('/GPU:0'):\n",
        "    a = tf.constant([[1.0, 2.0], [3.0, 4.0]])\n",
        "    b = tf.constant([[1.0, 1.0], [0.0, 1.0]])\n",
        "    c = tf.matmul(a, b)\n",
        "\n",
        "print(c)\n"
      ]
    },
    {
      "cell_type": "code",
      "execution_count": 7,
      "metadata": {
        "id": "-SNBibBrqaty"
      },
      "outputs": [],
      "source": [
        "# Extract the zip file\n",
        "def extract_zip(zip_file_path, extract_to='.'):\n",
        "    with zipfile.ZipFile(zip_file_path, 'r') as zip_ref:\n",
        "        zip_ref.extractall(extract_to)\n",
        "\n",
        "# Assume the zip file is named 'dataset.zip' and contains 'eng_setswana.txt'\n",
        "extract_zip('/content/drive/MyDrive/english_setswana.zip',extract_to='/content/drive/MyDrive/')"
      ]
    },
    {
      "cell_type": "code",
      "execution_count": 8,
      "metadata": {
        "id": "EPRf82b-ZQtc"
      },
      "outputs": [],
      "source": [
        "# Set the file paths for English and Setswana sentences\n",
        "eng_file_path = '/content/drive/MyDrive/english_setswana/english.txt'\n",
        "sets_file_path = '/content/drive/MyDrive/english_setswana/setswana.txt'"
      ]
    },
    {
      "cell_type": "code",
      "execution_count": 9,
      "metadata": {
        "id": "FVgkgUH_rJe3"
      },
      "outputs": [],
      "source": [
        "# Function to load and process data\n",
        "def load_and_process_data(eng_file_path, sets_file_path):\n",
        "    with open(eng_file_path, 'r', encoding='utf-8') as file:\n",
        "        english_sentences = file.read().splitlines()\n",
        "\n",
        "    with open(sets_file_path, 'r', encoding='utf-8') as file:\n",
        "        setswana_sentences = file.read().splitlines()\n",
        "\n",
        "    setswana_sentences = [f'startseq {sent} endseq' for sent in setswana_sentences]\n",
        "\n",
        "    return english_sentences, setswana_sentences"
      ]
    },
    {
      "cell_type": "code",
      "execution_count": 10,
      "metadata": {
        "id": "bN2X68nivXA2"
      },
      "outputs": [],
      "source": [
        "# Function to print the first few lines of a file\n",
        "def print_file_preview(file_path, num_lines=5):\n",
        "    with open(file_path, 'r', encoding='ISO-8859-1') as file:\n",
        "        for _ in range(num_lines):\n",
        "            print(file.readline().strip())"
      ]
    },
    {
      "cell_type": "code",
      "execution_count": 11,
      "metadata": {
        "colab": {
          "base_uri": "https://localhost:8080/"
        },
        "id": "N2ZX8oovvLZ8",
        "outputId": "ccb7d8b5-94d6-47f9-ebdd-ba90863062cc"
      },
      "outputs": [
        {
          "output_type": "stream",
          "name": "stdout",
          "text": [
            "Preview of the English file:\n",
            "Good progress has been made with the staff composition project in each of the 15 faculties at the NWU .\n",
            "The rector , Prof Thanyani Mariba , congratulated the newcomers on their choice to further their studies at the campus and emphasised the importance of choice and responsibility - both in terms of academic commitments and social endeavours .\n",
            "Complaints against Correctional Services staff , court officials and members of the South African National Defence Force .\n",
            "biliary duct\n",
            "What's noticeable is that the Mafikeng participants in the 2005 survey were not particularly impressed with their working environments .\n",
            "Preview of the Setswana file:\n",
            "Lo tla lemoga gore Thulaganyo ya Setheo ya 2012-2014 e e dirwang mo mafapheng otlhe ka tsamaiso ya ditumalano tsa go dira tiro ke ya gore YBB e fitlhelele maikemisetso a yone kgato ka kgato .\n",
            "Moreketoro , Mop Thanyani Mariba , o ne a akgolela batlaboÅ¡eng tlhopho e ba e dirileng ya go tla go tswelela dithuto tsa bone mo khamphaseng eno mme o ne a gatelela botlhokwa jwa tlhopho le maikarabelo - malebana le go ineela ga bone mo dithutong le mo botshelong jwa bone jwa go tsalana le ba bangwe .\n",
            "Dingongorego kgatlhanong le badiredi ba Tirelo ya Ditshiamiso batlhankedi ba kgotlatshekelo le ditokololo tsa Mophato wa Phemelo wa BosetÅ¡haba wa Aforikaborwa .\n",
            "moselwa wa santlhoko\n",
            "Se se bonagalang ke gore batsayakarolo ba kwa Mafikeng ka patlisiso ya 2005 ba ne ba se na kgatlhego e kgolo ka ga tikologo ya bone ya tiro .\n"
          ]
        }
      ],
      "source": [
        "# Check the contents of the English file\n",
        "print(\"Preview of the English file:\")\n",
        "print_file_preview('/content/drive/MyDrive/english_setswana/english.txt')\n",
        "\n",
        "# Check the contents of the Setswana file\n",
        "print(\"Preview of the Setswana file:\")\n",
        "print_file_preview('/content/drive/MyDrive/english_setswana/setswana.txt')"
      ]
    },
    {
      "cell_type": "code",
      "execution_count": 12,
      "metadata": {
        "id": "_Yfn-wlivp5X"
      },
      "outputs": [],
      "source": [
        "# Load data from the two files\n",
        "def load_data(file_path_english, file_path_setswana):\n",
        "    english_sentences = []\n",
        "    setswana_sentences = []\n",
        "\n",
        "    with open(file_path_english, 'r', encoding='ISO-8859-1') as file_eng, open(file_path_setswana, 'r', encoding='ISO-8859-1') as file_sets:\n",
        "        for eng, sets in zip(file_eng, file_sets):\n",
        "            english_sentences.append(eng.strip())\n",
        "            setswana_sentences.append(sets.strip())\n",
        "\n",
        "    return english_sentences, setswana_sentences"
      ]
    },
    {
      "cell_type": "code",
      "execution_count": 13,
      "metadata": {
        "id": "sGIwQOJJvyYS"
      },
      "outputs": [],
      "source": [
        "# Load the data from the extracted files\n",
        "english_sentences, setswana_sentences = load_data(\n",
        "    '/content/drive/MyDrive/english_setswana/english.txt',\n",
        "    '/content/drive/MyDrive/english_setswana/setswana.txt'\n",
        ")"
      ]
    },
    {
      "cell_type": "code",
      "execution_count": 14,
      "metadata": {
        "id": "Ly3n45m7U8G-"
      },
      "outputs": [],
      "source": [
        "# Add startseq and endseq tokens to Setswana sentences\n",
        "def add_sequence_tokens(sentences):\n",
        "    return [f'startseq {sentence} endseq' for sentence in sentences]\n",
        "\n",
        "# Add tokens to Setswana sentences\n",
        "setswana_sentences = add_sequence_tokens(setswana_sentences)"
      ]
    },
    {
      "cell_type": "code",
      "execution_count": 15,
      "metadata": {
        "id": "fFg1WRC2xPfX"
      },
      "outputs": [],
      "source": [
        "# Tokenize the sentences\n",
        "tokenizer_eng = Tokenizer()\n",
        "tokenizer_eng.fit_on_texts(english_sentences)\n",
        "sequences_eng = tokenizer_eng.texts_to_sequences(english_sentences)\n",
        "max_len_eng = max([len(seq) for seq in sequences_eng])\n",
        "padded_eng = pad_sequences(sequences_eng, maxlen=max_len_eng, padding='post')\n",
        "\n",
        "tokenizer_setswana = Tokenizer()\n",
        "tokenizer_setswana.fit_on_texts(setswana_sentences)\n",
        "sequences_setswana = tokenizer_setswana.texts_to_sequences(setswana_sentences)\n",
        "max_len_setswana = max([len(seq) for seq in sequences_setswana])\n",
        "padded_setswana = pad_sequences(sequences_setswana, maxlen=max_len_setswana, padding='post')"
      ]
    },
    {
      "cell_type": "code",
      "source": [
        "# GloVe embeddings path\n",
        "glove_file_path = '/content/drive/MyDrive/glove.6B.50d.txt'"
      ],
      "metadata": {
        "id": "BRTmrB0m0W4W"
      },
      "execution_count": 16,
      "outputs": []
    },
    {
      "cell_type": "code",
      "source": [
        "# Function to print contents of the file\n",
        "def print_file_contents(file_path):\n",
        "    with open(file_path, 'r', encoding='utf-8') as file:\n",
        "        for i in range(5):\n",
        "            line = file.readline().strip()\n",
        "            print(line)\n",
        "\n",
        "# Print contents of the GloVe embeddings file\n",
        "print(\"Contents of the GloVe embeddings file:\")\n",
        "print_file_contents(glove_file_path)"
      ],
      "metadata": {
        "id": "DhmFOzN-0aJ0",
        "outputId": "c15594be-21dc-4d04-f680-ac12867bfc68",
        "colab": {
          "base_uri": "https://localhost:8080/"
        }
      },
      "execution_count": 17,
      "outputs": [
        {
          "output_type": "stream",
          "name": "stdout",
          "text": [
            "Contents of the GloVe embeddings file:\n",
            "the 0.418 0.24968 -0.41242 0.1217 0.34527 -0.044457 -0.49688 -0.17862 -0.00066023 -0.6566 0.27843 -0.14767 -0.55677 0.14658 -0.0095095 0.011658 0.10204 -0.12792 -0.8443 -0.12181 -0.016801 -0.33279 -0.1552 -0.23131 -0.19181 -1.8823 -0.76746 0.099051 -0.42125 -0.19526 4.0071 -0.18594 -0.52287 -0.31681 0.00059213 0.0074449 0.17778 -0.15897 0.012041 -0.054223 -0.29871 -0.15749 -0.34758 -0.045637 -0.44251 0.18785 0.0027849 -0.18411 -0.11514 -0.78581\n",
            ", 0.013441 0.23682 -0.16899 0.40951 0.63812 0.47709 -0.42852 -0.55641 -0.364 -0.23938 0.13001 -0.063734 -0.39575 -0.48162 0.23291 0.090201 -0.13324 0.078639 -0.41634 -0.15428 0.10068 0.48891 0.31226 -0.1252 -0.037512 -1.5179 0.12612 -0.02442 -0.042961 -0.28351 3.5416 -0.11956 -0.014533 -0.1499 0.21864 -0.33412 -0.13872 0.31806 0.70358 0.44858 -0.080262 0.63003 0.32111 -0.46765 0.22786 0.36034 -0.37818 -0.56657 0.044691 0.30392\n",
            ". 0.15164 0.30177 -0.16763 0.17684 0.31719 0.33973 -0.43478 -0.31086 -0.44999 -0.29486 0.16608 0.11963 -0.41328 -0.42353 0.59868 0.28825 -0.11547 -0.041848 -0.67989 -0.25063 0.18472 0.086876 0.46582 0.015035 0.043474 -1.4671 -0.30384 -0.023441 0.30589 -0.21785 3.746 0.0042284 -0.18436 -0.46209 0.098329 -0.11907 0.23919 0.1161 0.41705 0.056763 -6.3681e-05 0.068987 0.087939 -0.10285 -0.13931 0.22314 -0.080803 -0.35652 0.016413 0.10216\n",
            "of 0.70853 0.57088 -0.4716 0.18048 0.54449 0.72603 0.18157 -0.52393 0.10381 -0.17566 0.078852 -0.36216 -0.11829 -0.83336 0.11917 -0.16605 0.061555 -0.012719 -0.56623 0.013616 0.22851 -0.14396 -0.067549 -0.38157 -0.23698 -1.7037 -0.86692 -0.26704 -0.2589 0.1767 3.8676 -0.1613 -0.13273 -0.68881 0.18444 0.0052464 -0.33874 -0.078956 0.24185 0.36576 -0.34727 0.28483 0.075693 -0.062178 -0.38988 0.22902 -0.21617 -0.22562 -0.093918 -0.80375\n",
            "to 0.68047 -0.039263 0.30186 -0.17792 0.42962 0.032246 -0.41376 0.13228 -0.29847 -0.085253 0.17118 0.22419 -0.10046 -0.43653 0.33418 0.67846 0.057204 -0.34448 -0.42785 -0.43275 0.55963 0.10032 0.18677 -0.26854 0.037334 -2.0932 0.22171 -0.39868 0.20912 -0.55725 3.8826 0.47466 -0.95658 -0.37788 0.20869 -0.32752 0.12751 0.088359 0.16351 -0.21634 -0.094375 0.018324 0.21048 -0.03088 -0.19722 0.082279 -0.09434 -0.073297 -0.064699 -0.26044\n"
          ]
        }
      ]
    },
    {
      "cell_type": "code",
      "source": [
        "# Load GloVe embeddings into a dictionary\n",
        "def load_glove_embeddings(file_path):\n",
        "    embeddings_index = {}\n",
        "    with open(file_path, 'r', encoding='utf-8') as f:\n",
        "        for line in f:\n",
        "            values = line.split()\n",
        "            word = values[0]\n",
        "            coefs = np.asarray(values[1:], dtype='float32')\n",
        "            embeddings_index[word] = coefs\n",
        "    return embeddings_index\n",
        "\n",
        "# Load GloVe embeddings\n",
        "glove_embeddings_index = load_glove_embeddings(glove_file_path)\n",
        "\n",
        "# Select a subset of words for visualization\n",
        "words_of_interest = ['king', 'kgosi', 'man', 'monna', 'doctor', 'engineer', 'nurse', 'artist']\n",
        "\n",
        "# Check if all words of interest are in the GloVe embeddings\n",
        "for word in words_of_interest:\n",
        "    if word not in glove_embeddings_index:\n",
        "        print(f\"Warning: The word '{word}' is not found in the GloVe embeddings.\")\n",
        "\n",
        "\n",
        "# Create a similarity matrix for selected words\n",
        "similarity_matrix = np.zeros((len(words_of_interest), len(words_of_interest)))\n",
        "for i, word1 in enumerate(words_of_interest):\n",
        "    for j, word2 in enumerate(words_of_interest):\n",
        "        vec1 = glove_embeddings_index[word1].reshape(1, -1)\n",
        "        vec2 = glove_embeddings_index[word2].reshape(1, -1)\n",
        "        similarity_matrix[i, j] = cosine_similarity(vec1, vec2)[0, 0]\n",
        "\n",
        "# Plot heatmap\n",
        "plt.figure(figsize=(10, 8))\n",
        "plt.imshow(similarity_matrix, cmap='hot', interpolation='nearest')\n",
        "plt.colorbar()\n",
        "plt.xticks(np.arange(len(words_of_interest)), words_of_interest, rotation=45)\n",
        "plt.yticks(np.arange(len(words_of_interest)), words_of_interest)\n",
        "plt.title('Cosine Similarity Heatmap of GloVe Embeddings')\n",
        "plt.tight_layout()\n",
        "plt.show()"
      ],
      "metadata": {
        "id": "r4aTQoP90ds3",
        "outputId": "98fc724b-6e16-456f-8c43-4be66930d57e",
        "colab": {
          "base_uri": "https://localhost:8080/",
          "height": 807
        }
      },
      "execution_count": 18,
      "outputs": [
        {
          "output_type": "display_data",
          "data": {
            "text/plain": [
              "<Figure size 1000x800 with 2 Axes>"
            ],
            "image/png": "[encoded data removed]"
          },
          "metadata": {}
        }
      ]
    },
    {
      "cell_type": "code",
      "source": [
        "# Prepare embedding matrix\n",
        "embedding_dim = 50\n",
        "word_index_eng = tokenizer_eng.word_index\n",
        "num_words_eng = len(word_index_eng) + 1\n",
        "embedding_matrix_eng = np.zeros((num_words_eng, embedding_dim))\n",
        "\n",
        "for word, i in word_index_eng.items():\n",
        "    embedding_vector = glove_embeddings_index.get(word)\n",
        "    if embedding_vector is not None:\n",
        "        embedding_matrix_eng[i] = embedding_vector"
      ],
      "metadata": {
        "id": "L_lekYDO0k2f"
      },
      "execution_count": 19,
      "outputs": []
    },
    {
      "cell_type": "code",
      "execution_count": 20,
      "metadata": {
        "id": "fDF-eKD_xXSa"
      },
      "outputs": [],
      "source": [
        "# Define model parameters\n",
        "embedding_dim = 50\n",
        "units = 1024\n",
        "vocab_size_eng = len(tokenizer_eng.word_index) + 1\n",
        "vocab_size_setswana = len(tokenizer_setswana.word_index) + 1"
      ]
    },
    {
      "cell_type": "code",
      "source": [
        "# Define your neural network model with GloVe embeddings\n",
        "from tensorflow.keras.models import Sequential\n",
        "from tensorflow.keras.layers import Embedding, LSTM, Dense, Bidirectional\n",
        "\n",
        "model = Sequential()\n",
        "model.add(Embedding(num_words_eng, embedding_dim, weights=[embedding_matrix_eng], input_length=max_len_eng, trainable=False))\n",
        "model.add(Bidirectional(LSTM(units)))\n",
        "model.add(Dense(vocab_size_setswana, activation='softmax'))"
      ],
      "metadata": {
        "id": "QCxJiG1v0qsH"
      },
      "execution_count": 21,
      "outputs": []
    },
    {
      "cell_type": "code",
      "source": [
        "# Compile the model\n",
        "model.compile(loss='sparse_categorical_crossentropy', optimizer='adam')"
      ],
      "metadata": {
        "id": "69P9_dbN0uLY"
      },
      "execution_count": 22,
      "outputs": []
    },
    {
      "cell_type": "code",
      "source": [
        "# Print model summary\n",
        "model.summary()"
      ],
      "metadata": {
        "id": "FRPWvS4P0w4G",
        "outputId": "717822b2-bdc9-480a-c1b2-8ac263154b51",
        "colab": {
          "base_uri": "https://localhost:8080/"
        }
      },
      "execution_count": 23,
      "outputs": [
        {
          "output_type": "stream",
          "name": "stdout",
          "text": [
            "Model: \"sequential\"\n",
            "_________________________________________________________________\n",
            " Layer (type)                Output Shape              Param #   \n",
            "=================================================================\n",
            " embedding (Embedding)       (None, 126, 50)           1237550   \n",
            "                                                                 \n",
            " bidirectional (Bidirection  (None, 2048)              8806400   \n",
            " al)                                                             \n",
            "                                                                 \n",
            " dense (Dense)               (None, 31697)             64947153  \n",
            "                                                                 \n",
            "=================================================================\n",
            "Total params: 74991103 (286.07 MB)\n",
            "Trainable params: 73753553 (281.35 MB)\n",
            "Non-trainable params: 1237550 (4.72 MB)\n",
            "_________________________________________________________________\n"
          ]
        }
      ]
    },
    {
      "cell_type": "code",
      "source": [
        "# calculate BLEU score for a pair of sentences\n",
        "def calculate_bleu(reference, hypothesis):\n",
        "    smoothie = SmoothingFunction().method4\n",
        "    reference = [reference.split()]  # BLEU expects a list of references\n",
        "    hypothesis = hypothesis.split()\n",
        "    score = sentence_bleu(reference, hypothesis, smoothing_function=smoothie)\n",
        "    return score"
      ],
      "metadata": {
        "id": "n03g2ZBB01zP"
      },
      "execution_count": 24,
      "outputs": []
    },
    {
      "cell_type": "code",
      "source": [
        "# Initialize Google Translator\n",
        "translator = Translator()"
      ],
      "metadata": {
        "id": "uH_6uxkK02rf"
      },
      "execution_count": 25,
      "outputs": []
    },
    {
      "cell_type": "code",
      "source": [
        "# Function to translate English sentence to Setswana using Google Translate\n",
        "def translate_to_setswana(sentence):\n",
        "    translation = translator.translate(sentence, src='en', dest='st')\n",
        "    return translation.text"
      ],
      "metadata": {
        "id": "ysQTmjum04-Y"
      },
      "execution_count": 26,
      "outputs": []
    },
    {
      "cell_type": "code",
      "source": [
        "def translate_sentence(sentence):\n",
        "    # This is a placeholder for an actual translation model\n",
        "    # For now, it just returns the same English sentence as the \"translation\"\n",
        "    return sentence"
      ],
      "metadata": {
        "id": "yJwoat2q0_O1"
      },
      "execution_count": 27,
      "outputs": []
    },
    {
      "cell_type": "code",
      "source": [
        "# Calculate BLEU scores for the first few translations\n",
        "for i in range(5):\n",
        "    reference = setswana_sentences[i]\n",
        "    english_sentence = english_sentences[i]\n",
        "    hypothesis = translate_to_setswana(english_sentence)\n",
        "    bleu_score = calculate_bleu(reference, hypothesis)\n",
        "    print(f\"BLEU score for sentence {i+1}: {bleu_score:.4f}\")"
      ],
      "metadata": {
        "id": "_Vy3tAyM1EAV",
        "outputId": "0e554bd3-2ca1-4bf9-c2b9-5ea8ccbcafa2",
        "colab": {
          "base_uri": "https://localhost:8080/"
        }
      },
      "execution_count": 28,
      "outputs": [
        {
          "output_type": "stream",
          "name": "stdout",
          "text": [
            "BLEU score for sentence 1: 0.0095\n",
            "BLEU score for sentence 2: 0.0053\n",
            "BLEU score for sentence 3: 0.0160\n",
            "BLEU score for sentence 4: 0.0000\n",
            "BLEU score for sentence 5: 0.0252\n"
          ]
        }
      ]
    },
    {
      "cell_type": "code",
      "execution_count": 29,
      "metadata": {
        "id": "8ryyeGawxett"
      },
      "outputs": [],
      "source": [
        "# Build the model\n",
        "encoder_inputs = Input(shape=(max_len_eng,))\n",
        "enc_emb = Embedding(vocab_size_eng, embedding_dim, mask_zero=True)(encoder_inputs)\n",
        "encoder_lstm = Bidirectional(LSTM(units, return_state=True))\n",
        "encoder_outputs, forward_h, forward_c, backward_h, backward_c = encoder_lstm(enc_emb)\n",
        "state_h = tf.keras.layers.Concatenate()([forward_h, backward_h])\n",
        "state_c = tf.keras.layers.Concatenate()([forward_c, backward_c])\n",
        "encoder_states = [state_h, state_c]\n",
        "\n",
        "decoder_inputs = Input(shape=(max_len_setswana,))\n",
        "dec_emb_layer = Embedding(vocab_size_setswana, embedding_dim, mask_zero=True)\n",
        "dec_emb = dec_emb_layer(decoder_inputs)\n",
        "decoder_lstm = LSTM(units * 2, return_sequences=True, return_state=True)\n",
        "decoder_outputs, _, _ = decoder_lstm(dec_emb, initial_state=encoder_states)\n",
        "decoder_dense = Dense(vocab_size_setswana, activation='softmax')\n",
        "decoder_outputs = decoder_dense(decoder_outputs)\n",
        "\n",
        "model = Model([encoder_inputs, decoder_inputs], decoder_outputs)\n",
        "model.compile(optimizer='rmsprop', loss='sparse_categorical_crossentropy', metrics=['accuracy'])"
      ]
    },
    {
      "cell_type": "code",
      "execution_count": 30,
      "metadata": {
        "id": "4vdLiayBxrc_"
      },
      "outputs": [],
      "source": [
        "# Prepare the target data for training\n",
        "target_data = np.expand_dims(padded_setswana, axis=-1)"
      ]
    },
    {
      "cell_type": "code",
      "execution_count": null,
      "metadata": {
        "colab": {
          "base_uri": "https://localhost:8080/"
        },
        "id": "jBh7BfQhxvoZ",
        "outputId": "ccce28b1-b9df-4627-9ea0-375d9af09ff5"
      },
      "outputs": [
        {
          "output_type": "stream",
          "name": "stdout",
          "text": [
            "Epoch 1/5\n",
            "915/915 [==============================] - 1198s 1s/step - loss: 4.2045 - accuracy: 0.4304 - val_loss: 2.6200 - val_accuracy: 0.6695\n",
            "Epoch 2/5\n",
            "915/915 [==============================] - 1135s 1s/step - loss: 2.0753 - accuracy: 0.7364 - val_loss: 1.6960 - val_accuracy: 0.7908\n",
            "Epoch 3/5\n",
            "915/915 [==============================] - 1172s 1s/step - loss: 1.4420 - accuracy: 0.8185 - val_loss: 1.3143 - val_accuracy: 0.8402\n",
            "Epoch 4/5\n",
            "915/915 [==============================] - 1174s 1s/step - loss: 1.1255 - accuracy: 0.8573 - val_loss: 1.1079 - val_accuracy: 0.8662\n",
            "Epoch 5/5\n",
            "220/915 [======>.......................] - ETA: 13:03 - loss: 0.9619 - accuracy: 0.8754"
          ]
        }
      ],
      "source": [
        "# Train the model\n",
        "model.fit([padded_eng, padded_setswana], target_data, batch_size=64, epochs=5, validation_split=0.2)"
      ]
    },
    {
      "cell_type": "code",
      "execution_count": 31,
      "metadata": {
        "id": "5P0ZLH4NaxNn"
      },
      "outputs": [],
      "source": [
        "# Function to translate sentences\n",
        "def translate_sentence(sentence):\n",
        "    sequence = tokenizer_eng.texts_to_sequences([sentence])\n",
        "    padded_sequence = pad_sequences(sequence, maxlen=max_len_eng, padding='post')\n",
        "    states_value = encoder_model.predict(padded_sequence)\n",
        "\n",
        "    target_seq = np.zeros((1, 1))\n",
        "    target_seq[0, 0] = tokenizer_setswana.word_index['startseq']\n",
        "\n",
        "    stop_condition = False\n",
        "    translated_sentence = ''\n",
        "\n",
        "    while not stop_condition:\n",
        "        output_tokens, h, c = decoder_model.predict([target_seq] + states_value)\n",
        "\n",
        "        sampled_token_index = np.argmax(output_tokens[0, -1, :])\n",
        "        sampled_word = tokenizer_setswana.index_word.get(sampled_token_index, '')\n",
        "\n",
        "        if sampled_word == 'endseq' or len(translated_sentence.split()) >= max_len_setswana:\n",
        "            stop_condition = True\n",
        "        else:\n",
        "            if sampled_word != 'startseq':  # Skip 'startseq' token\n",
        "                translated_sentence += ' ' + sampled_word\n",
        "\n",
        "        # Debug print to trace the translation process\n",
        "        print(f'Current translation: {translated_sentence.strip()}')\n",
        "\n",
        "        target_seq = np.zeros((1, 1))\n",
        "        target_seq[0, 0] = sampled_token_index\n",
        "\n",
        "        states_value = [h, c]\n",
        "\n",
        "    return translated_sentence.strip()"
      ]
    },
    {
      "cell_type": "code",
      "execution_count": 32,
      "metadata": {
        "id": "H5mZ2LtxUXVv"
      },
      "outputs": [],
      "source": [
        "# Define encoder and decoder models for inference\n",
        "encoder_model = Model(encoder_inputs, encoder_states)\n",
        "\n",
        "decoder_state_input_h = Input(shape=(units*2,))\n",
        "decoder_state_input_c = Input(shape=(units*2,))\n",
        "decoder_states_inputs = [decoder_state_input_h, decoder_state_input_c]\n",
        "\n",
        "dec_emb2 = dec_emb_layer(decoder_inputs)\n",
        "decoder_outputs2, state_h2, state_c2 = decoder_lstm(dec_emb2, initial_state=decoder_states_inputs)\n",
        "decoder_states2 = [state_h2, state_c2]\n",
        "decoder_outputs2 = decoder_dense(decoder_outputs2)\n",
        "\n",
        "decoder_model = Model(\n",
        "    [decoder_inputs] + decoder_states_inputs,\n",
        "    [decoder_outputs2] + decoder_states2\n",
        ")"
      ]
    },
    {
      "cell_type": "code",
      "execution_count": 33,
      "metadata": {
        "colab": {
          "base_uri": "https://localhost:8080/"
        },
        "collapsed": true,
        "id": "SPkSN1ntUdB0",
        "outputId": "19a74806-b829-4d55-985f-0512fd62c236"
      },
      "outputs": [
        {
          "output_type": "stream",
          "name": "stdout",
          "text": [
            "1/1 [==============================] - 3s 3s/step\n",
            "1/1 [==============================] - 1s 1s/step\n",
            "Current translation: tlwaeditswe\n",
            "1/1 [==============================] - 0s 58ms/step\n",
            "Current translation: tlwaeditswe tlwaeditswe\n",
            "1/1 [==============================] - 0s 79ms/step\n",
            "Current translation: tlwaeditswe tlwaeditswe december\n",
            "1/1 [==============================] - 0s 84ms/step\n",
            "Current translation: tlwaeditswe tlwaeditswe december phitlhelelokgolothutong\n",
            "1/1 [==============================] - 0s 77ms/step\n",
            "Current translation: tlwaeditswe tlwaeditswe december phitlhelelokgolothutong tsokotsa\n",
            "1/1 [==============================] - 0s 86ms/step\n",
            "Current translation: tlwaeditswe tlwaeditswe december phitlhelelokgolothutong tsokotsa selekanomotlakase\n",
            "1/1 [==============================] - 0s 77ms/step\n",
            "Current translation: tlwaeditswe tlwaeditswe december phitlhelelokgolothutong tsokotsa selekanomotlakase dialama\n",
            "1/1 [==============================] - 0s 75ms/step\n",
            "Current translation: tlwaeditswe tlwaeditswe december phitlhelelokgolothutong tsokotsa selekanomotlakase dialama isizulu\n",
            "1/1 [==============================] - 0s 88ms/step\n",
            "Current translation: tlwaeditswe tlwaeditswe december phitlhelelokgolothutong tsokotsa selekanomotlakase dialama isizulu pagolola\n",
            "1/1 [==============================] - 0s 81ms/step\n",
            "Current translation: tlwaeditswe tlwaeditswe december phitlhelelokgolothutong tsokotsa selekanomotlakase dialama isizulu pagolola pagolola\n",
            "1/1 [==============================] - 0s 75ms/step\n",
            "Current translation: tlwaeditswe tlwaeditswe december phitlhelelokgolothutong tsokotsa selekanomotlakase dialama isizulu pagolola pagolola katiseditsweng\n",
            "1/1 [==============================] - 0s 94ms/step\n",
            "Current translation: tlwaeditswe tlwaeditswe december phitlhelelokgolothutong tsokotsa selekanomotlakase dialama isizulu pagolola pagolola katiseditsweng katiseditsweng\n",
            "1/1 [==============================] - 0s 74ms/step\n",
            "Current translation: tlwaeditswe tlwaeditswe december phitlhelelokgolothutong tsokotsa selekanomotlakase dialama isizulu pagolola pagolola katiseditsweng katiseditsweng cem\n",
            "1/1 [==============================] - 0s 72ms/step\n",
            "Current translation: tlwaeditswe tlwaeditswe december phitlhelelokgolothutong tsokotsa selekanomotlakase dialama isizulu pagolola pagolola katiseditsweng katiseditsweng cem tshwanedi\n",
            "1/1 [==============================] - 0s 95ms/step\n",
            "Current translation: tlwaeditswe tlwaeditswe december phitlhelelokgolothutong tsokotsa selekanomotlakase dialama isizulu pagolola pagolola katiseditsweng katiseditsweng cem tshwanedi tanya\n",
            "1/1 [==============================] - 0s 71ms/step\n",
            "Current translation: tlwaeditswe tlwaeditswe december phitlhelelokgolothutong tsokotsa selekanomotlakase dialama isizulu pagolola pagolola katiseditsweng katiseditsweng cem tshwanedi tanya masilo\n",
            "1/1 [==============================] - 0s 82ms/step\n",
            "Current translation: tlwaeditswe tlwaeditswe december phitlhelelokgolothutong tsokotsa selekanomotlakase dialama isizulu pagolola pagolola katiseditsweng katiseditsweng cem tshwanedi tanya masilo liezl\n",
            "1/1 [==============================] - 0s 85ms/step\n",
            "Current translation: tlwaeditswe tlwaeditswe december phitlhelelokgolothutong tsokotsa selekanomotlakase dialama isizulu pagolola pagolola katiseditsweng katiseditsweng cem tshwanedi tanya masilo liezl relediseng\n",
            "1/1 [==============================] - 0s 92ms/step\n",
            "Current translation: tlwaeditswe tlwaeditswe december phitlhelelokgolothutong tsokotsa selekanomotlakase dialama isizulu pagolola pagolola katiseditsweng katiseditsweng cem tshwanedi tanya masilo liezl relediseng liezl\n",
            "1/1 [==============================] - 0s 121ms/step\n",
            "Current translation: tlwaeditswe tlwaeditswe december phitlhelelokgolothutong tsokotsa selekanomotlakase dialama isizulu pagolola pagolola katiseditsweng katiseditsweng cem tshwanedi tanya masilo liezl relediseng liezl relediseng\n",
            "1/1 [==============================] - 0s 91ms/step\n",
            "Current translation: tlwaeditswe tlwaeditswe december phitlhelelokgolothutong tsokotsa selekanomotlakase dialama isizulu pagolola pagolola katiseditsweng katiseditsweng cem tshwanedi tanya masilo liezl relediseng liezl relediseng pusoselegaeng\n",
            "1/1 [==============================] - 0s 77ms/step\n",
            "Current translation: tlwaeditswe tlwaeditswe december phitlhelelokgolothutong tsokotsa selekanomotlakase dialama isizulu pagolola pagolola katiseditsweng katiseditsweng cem tshwanedi tanya masilo liezl relediseng liezl relediseng pusoselegaeng pusoselegaeng\n",
            "1/1 [==============================] - 0s 87ms/step\n",
            "Current translation: tlwaeditswe tlwaeditswe december phitlhelelokgolothutong tsokotsa selekanomotlakase dialama isizulu pagolola pagolola katiseditsweng katiseditsweng cem tshwanedi tanya masilo liezl relediseng liezl relediseng pusoselegaeng pusoselegaeng pusoselegaeng\n",
            "1/1 [==============================] - 0s 77ms/step\n",
            "Current translation: tlwaeditswe tlwaeditswe december phitlhelelokgolothutong tsokotsa selekanomotlakase dialama isizulu pagolola pagolola katiseditsweng katiseditsweng cem tshwanedi tanya masilo liezl relediseng liezl relediseng pusoselegaeng pusoselegaeng pusoselegaeng pusoselegaeng\n",
            "1/1 [==============================] - 0s 83ms/step\n",
            "Current translation: tlwaeditswe tlwaeditswe december phitlhelelokgolothutong tsokotsa selekanomotlakase dialama isizulu pagolola pagolola katiseditsweng katiseditsweng cem tshwanedi tanya masilo liezl relediseng liezl relediseng pusoselegaeng pusoselegaeng pusoselegaeng pusoselegaeng thanyani\n",
            "1/1 [==============================] - 0s 83ms/step\n",
            "Current translation: tlwaeditswe tlwaeditswe december phitlhelelokgolothutong tsokotsa selekanomotlakase dialama isizulu pagolola pagolola katiseditsweng katiseditsweng cem tshwanedi tanya masilo liezl relediseng liezl relediseng pusoselegaeng pusoselegaeng pusoselegaeng pusoselegaeng thanyani thanyani\n",
            "1/1 [==============================] - 0s 78ms/step\n",
            "Current translation: tlwaeditswe tlwaeditswe december phitlhelelokgolothutong tsokotsa selekanomotlakase dialama isizulu pagolola pagolola katiseditsweng katiseditsweng cem tshwanedi tanya masilo liezl relediseng liezl relediseng pusoselegaeng pusoselegaeng pusoselegaeng pusoselegaeng thanyani thanyani seraing\n",
            "1/1 [==============================] - 0s 79ms/step\n",
            "Current translation: tlwaeditswe tlwaeditswe december phitlhelelokgolothutong tsokotsa selekanomotlakase dialama isizulu pagolola pagolola katiseditsweng katiseditsweng cem tshwanedi tanya masilo liezl relediseng liezl relediseng pusoselegaeng pusoselegaeng pusoselegaeng pusoselegaeng thanyani thanyani seraing hare\n",
            "1/1 [==============================] - 0s 96ms/step\n",
            "Current translation: tlwaeditswe tlwaeditswe december phitlhelelokgolothutong tsokotsa selekanomotlakase dialama isizulu pagolola pagolola katiseditsweng katiseditsweng cem tshwanedi tanya masilo liezl relediseng liezl relediseng pusoselegaeng pusoselegaeng pusoselegaeng pusoselegaeng thanyani thanyani seraing hare thekontle\n",
            "1/1 [==============================] - 0s 77ms/step\n",
            "Current translation: tlwaeditswe tlwaeditswe december phitlhelelokgolothutong tsokotsa selekanomotlakase dialama isizulu pagolola pagolola katiseditsweng katiseditsweng cem tshwanedi tanya masilo liezl relediseng liezl relediseng pusoselegaeng pusoselegaeng pusoselegaeng pusoselegaeng thanyani thanyani seraing hare thekontle thekontle\n",
            "1/1 [==============================] - 0s 92ms/step\n",
            "Current translation: tlwaeditswe tlwaeditswe december phitlhelelokgolothutong tsokotsa selekanomotlakase dialama isizulu pagolola pagolola katiseditsweng katiseditsweng cem tshwanedi tanya masilo liezl relediseng liezl relediseng pusoselegaeng pusoselegaeng pusoselegaeng pusoselegaeng thanyani thanyani seraing hare thekontle thekontle tlwaetse\n",
            "1/1 [==============================] - 0s 93ms/step\n",
            "Current translation: tlwaeditswe tlwaeditswe december phitlhelelokgolothutong tsokotsa selekanomotlakase dialama isizulu pagolola pagolola katiseditsweng katiseditsweng cem tshwanedi tanya masilo liezl relediseng liezl relediseng pusoselegaeng pusoselegaeng pusoselegaeng pusoselegaeng thanyani thanyani seraing hare thekontle thekontle tlwaetse kgaoganyi\n",
            "1/1 [==============================] - 0s 77ms/step\n",
            "Current translation: tlwaeditswe tlwaeditswe december phitlhelelokgolothutong tsokotsa selekanomotlakase dialama isizulu pagolola pagolola katiseditsweng katiseditsweng cem tshwanedi tanya masilo liezl relediseng liezl relediseng pusoselegaeng pusoselegaeng pusoselegaeng pusoselegaeng thanyani thanyani seraing hare thekontle thekontle tlwaetse kgaoganyi jg\n",
            "1/1 [==============================] - 0s 83ms/step\n",
            "Current translation: tlwaeditswe tlwaeditswe december phitlhelelokgolothutong tsokotsa selekanomotlakase dialama isizulu pagolola pagolola katiseditsweng katiseditsweng cem tshwanedi tanya masilo liezl relediseng liezl relediseng pusoselegaeng pusoselegaeng pusoselegaeng pusoselegaeng thanyani thanyani seraing hare thekontle thekontle tlwaetse kgaoganyi jg jg\n",
            "1/1 [==============================] - 0s 93ms/step\n",
            "Current translation: tlwaeditswe tlwaeditswe december phitlhelelokgolothutong tsokotsa selekanomotlakase dialama isizulu pagolola pagolola katiseditsweng katiseditsweng cem tshwanedi tanya masilo liezl relediseng liezl relediseng pusoselegaeng pusoselegaeng pusoselegaeng pusoselegaeng thanyani thanyani seraing hare thekontle thekontle tlwaetse kgaoganyi jg jg ditlamegong\n",
            "1/1 [==============================] - 0s 87ms/step\n",
            "Current translation: tlwaeditswe tlwaeditswe december phitlhelelokgolothutong tsokotsa selekanomotlakase dialama isizulu pagolola pagolola katiseditsweng katiseditsweng cem tshwanedi tanya masilo liezl relediseng liezl relediseng pusoselegaeng pusoselegaeng pusoselegaeng pusoselegaeng thanyani thanyani seraing hare thekontle thekontle tlwaetse kgaoganyi jg jg ditlamegong kgolokwetshipi\n",
            "1/1 [==============================] - 0s 76ms/step\n",
            "Current translation: tlwaeditswe tlwaeditswe december phitlhelelokgolothutong tsokotsa selekanomotlakase dialama isizulu pagolola pagolola katiseditsweng katiseditsweng cem tshwanedi tanya masilo liezl relediseng liezl relediseng pusoselegaeng pusoselegaeng pusoselegaeng pusoselegaeng thanyani thanyani seraing hare thekontle thekontle tlwaetse kgaoganyi jg jg ditlamegong kgolokwetshipi tlhelele\n",
            "1/1 [==============================] - 0s 94ms/step\n",
            "Current translation: tlwaeditswe tlwaeditswe december phitlhelelokgolothutong tsokotsa selekanomotlakase dialama isizulu pagolola pagolola katiseditsweng katiseditsweng cem tshwanedi tanya masilo liezl relediseng liezl relediseng pusoselegaeng pusoselegaeng pusoselegaeng pusoselegaeng thanyani thanyani seraing hare thekontle thekontle tlwaetse kgaoganyi jg jg ditlamegong kgolokwetshipi tlhelele word\n",
            "1/1 [==============================] - 0s 93ms/step\n",
            "Current translation: tlwaeditswe tlwaeditswe december phitlhelelokgolothutong tsokotsa selekanomotlakase dialama isizulu pagolola pagolola katiseditsweng katiseditsweng cem tshwanedi tanya masilo liezl relediseng liezl relediseng pusoselegaeng pusoselegaeng pusoselegaeng pusoselegaeng thanyani thanyani seraing hare thekontle thekontle tlwaetse kgaoganyi jg jg ditlamegong kgolokwetshipi tlhelele word cologne\n",
            "1/1 [==============================] - 0s 96ms/step\n",
            "Current translation: tlwaeditswe tlwaeditswe december phitlhelelokgolothutong tsokotsa selekanomotlakase dialama isizulu pagolola pagolola katiseditsweng katiseditsweng cem tshwanedi tanya masilo liezl relediseng liezl relediseng pusoselegaeng pusoselegaeng pusoselegaeng pusoselegaeng thanyani thanyani seraing hare thekontle thekontle tlwaetse kgaoganyi jg jg ditlamegong kgolokwetshipi tlhelele word cologne goditsweng\n",
            "1/1 [==============================] - 0s 81ms/step\n",
            "Current translation: tlwaeditswe tlwaeditswe december phitlhelelokgolothutong tsokotsa selekanomotlakase dialama isizulu pagolola pagolola katiseditsweng katiseditsweng cem tshwanedi tanya masilo liezl relediseng liezl relediseng pusoselegaeng pusoselegaeng pusoselegaeng pusoselegaeng thanyani thanyani seraing hare thekontle thekontle tlwaetse kgaoganyi jg jg ditlamegong kgolokwetshipi tlhelele word cologne goditsweng davon\n",
            "1/1 [==============================] - 0s 61ms/step\n",
            "Current translation: tlwaeditswe tlwaeditswe december phitlhelelokgolothutong tsokotsa selekanomotlakase dialama isizulu pagolola pagolola katiseditsweng katiseditsweng cem tshwanedi tanya masilo liezl relediseng liezl relediseng pusoselegaeng pusoselegaeng pusoselegaeng pusoselegaeng thanyani thanyani seraing hare thekontle thekontle tlwaetse kgaoganyi jg jg ditlamegong kgolokwetshipi tlhelele word cologne goditsweng davon boitumelo\n",
            "1/1 [==============================] - 0s 61ms/step\n",
            "Current translation: tlwaeditswe tlwaeditswe december phitlhelelokgolothutong tsokotsa selekanomotlakase dialama isizulu pagolola pagolola katiseditsweng katiseditsweng cem tshwanedi tanya masilo liezl relediseng liezl relediseng pusoselegaeng pusoselegaeng pusoselegaeng pusoselegaeng thanyani thanyani seraing hare thekontle thekontle tlwaetse kgaoganyi jg jg ditlamegong kgolokwetshipi tlhelele word cologne goditsweng davon boitumelo ditshodi\n",
            "1/1 [==============================] - 0s 56ms/step\n",
            "Current translation: tlwaeditswe tlwaeditswe december phitlhelelokgolothutong tsokotsa selekanomotlakase dialama isizulu pagolola pagolola katiseditsweng katiseditsweng cem tshwanedi tanya masilo liezl relediseng liezl relediseng pusoselegaeng pusoselegaeng pusoselegaeng pusoselegaeng thanyani thanyani seraing hare thekontle thekontle tlwaetse kgaoganyi jg jg ditlamegong kgolokwetshipi tlhelele word cologne goditsweng davon boitumelo ditshodi senthara\n",
            "1/1 [==============================] - 0s 58ms/step\n",
            "Current translation: tlwaeditswe tlwaeditswe december phitlhelelokgolothutong tsokotsa selekanomotlakase dialama isizulu pagolola pagolola katiseditsweng katiseditsweng cem tshwanedi tanya masilo liezl relediseng liezl relediseng pusoselegaeng pusoselegaeng pusoselegaeng pusoselegaeng thanyani thanyani seraing hare thekontle thekontle tlwaetse kgaoganyi jg jg ditlamegong kgolokwetshipi tlhelele word cologne goditsweng davon boitumelo ditshodi senthara arabileng\n",
            "1/1 [==============================] - 0s 58ms/step\n",
            "Current translation: tlwaeditswe tlwaeditswe december phitlhelelokgolothutong tsokotsa selekanomotlakase dialama isizulu pagolola pagolola katiseditsweng katiseditsweng cem tshwanedi tanya masilo liezl relediseng liezl relediseng pusoselegaeng pusoselegaeng pusoselegaeng pusoselegaeng thanyani thanyani seraing hare thekontle thekontle tlwaetse kgaoganyi jg jg ditlamegong kgolokwetshipi tlhelele word cologne goditsweng davon boitumelo ditshodi senthara arabileng bosupa\n",
            "1/1 [==============================] - 0s 72ms/step\n",
            "Current translation: tlwaeditswe tlwaeditswe december phitlhelelokgolothutong tsokotsa selekanomotlakase dialama isizulu pagolola pagolola katiseditsweng katiseditsweng cem tshwanedi tanya masilo liezl relediseng liezl relediseng pusoselegaeng pusoselegaeng pusoselegaeng pusoselegaeng thanyani thanyani seraing hare thekontle thekontle tlwaetse kgaoganyi jg jg ditlamegong kgolokwetshipi tlhelele word cologne goditsweng davon boitumelo ditshodi senthara arabileng bosupa malebogo\n",
            "1/1 [==============================] - 0s 58ms/step\n",
            "Current translation: tlwaeditswe tlwaeditswe december phitlhelelokgolothutong tsokotsa selekanomotlakase dialama isizulu pagolola pagolola katiseditsweng katiseditsweng cem tshwanedi tanya masilo liezl relediseng liezl relediseng pusoselegaeng pusoselegaeng pusoselegaeng pusoselegaeng thanyani thanyani seraing hare thekontle thekontle tlwaetse kgaoganyi jg jg ditlamegong kgolokwetshipi tlhelele word cologne goditsweng davon boitumelo ditshodi senthara arabileng bosupa malebogo senthara\n",
            "1/1 [==============================] - 0s 58ms/step\n",
            "Current translation: tlwaeditswe tlwaeditswe december phitlhelelokgolothutong tsokotsa selekanomotlakase dialama isizulu pagolola pagolola katiseditsweng katiseditsweng cem tshwanedi tanya masilo liezl relediseng liezl relediseng pusoselegaeng pusoselegaeng pusoselegaeng pusoselegaeng thanyani thanyani seraing hare thekontle thekontle tlwaetse kgaoganyi jg jg ditlamegong kgolokwetshipi tlhelele word cologne goditsweng davon boitumelo ditshodi senthara arabileng bosupa malebogo senthara speak\n",
            "1/1 [==============================] - 0s 62ms/step\n",
            "Current translation: tlwaeditswe tlwaeditswe december phitlhelelokgolothutong tsokotsa selekanomotlakase dialama isizulu pagolola pagolola katiseditsweng katiseditsweng cem tshwanedi tanya masilo liezl relediseng liezl relediseng pusoselegaeng pusoselegaeng pusoselegaeng pusoselegaeng thanyani thanyani seraing hare thekontle thekontle tlwaetse kgaoganyi jg jg ditlamegong kgolokwetshipi tlhelele word cologne goditsweng davon boitumelo ditshodi senthara arabileng bosupa malebogo senthara speak boeledistweng\n",
            "1/1 [==============================] - 0s 57ms/step\n",
            "Current translation: tlwaeditswe tlwaeditswe december phitlhelelokgolothutong tsokotsa selekanomotlakase dialama isizulu pagolola pagolola katiseditsweng katiseditsweng cem tshwanedi tanya masilo liezl relediseng liezl relediseng pusoselegaeng pusoselegaeng pusoselegaeng pusoselegaeng thanyani thanyani seraing hare thekontle thekontle tlwaetse kgaoganyi jg jg ditlamegong kgolokwetshipi tlhelele word cologne goditsweng davon boitumelo ditshodi senthara arabileng bosupa malebogo senthara speak boeledistweng nã¼rnberg\n",
            "1/1 [==============================] - 0s 63ms/step\n",
            "Current translation: tlwaeditswe tlwaeditswe december phitlhelelokgolothutong tsokotsa selekanomotlakase dialama isizulu pagolola pagolola katiseditsweng katiseditsweng cem tshwanedi tanya masilo liezl relediseng liezl relediseng pusoselegaeng pusoselegaeng pusoselegaeng pusoselegaeng thanyani thanyani seraing hare thekontle thekontle tlwaetse kgaoganyi jg jg ditlamegong kgolokwetshipi tlhelele word cologne goditsweng davon boitumelo ditshodi senthara arabileng bosupa malebogo senthara speak boeledistweng nã¼rnberg 8000\n",
            "1/1 [==============================] - 0s 60ms/step\n",
            "Current translation: tlwaeditswe tlwaeditswe december phitlhelelokgolothutong tsokotsa selekanomotlakase dialama isizulu pagolola pagolola katiseditsweng katiseditsweng cem tshwanedi tanya masilo liezl relediseng liezl relediseng pusoselegaeng pusoselegaeng pusoselegaeng pusoselegaeng thanyani thanyani seraing hare thekontle thekontle tlwaetse kgaoganyi jg jg ditlamegong kgolokwetshipi tlhelele word cologne goditsweng davon boitumelo ditshodi senthara arabileng bosupa malebogo senthara speak boeledistweng nã¼rnberg 8000 r174\n",
            "1/1 [==============================] - 0s 67ms/step\n",
            "Current translation: tlwaeditswe tlwaeditswe december phitlhelelokgolothutong tsokotsa selekanomotlakase dialama isizulu pagolola pagolola katiseditsweng katiseditsweng cem tshwanedi tanya masilo liezl relediseng liezl relediseng pusoselegaeng pusoselegaeng pusoselegaeng pusoselegaeng thanyani thanyani seraing hare thekontle thekontle tlwaetse kgaoganyi jg jg ditlamegong kgolokwetshipi tlhelele word cologne goditsweng davon boitumelo ditshodi senthara arabileng bosupa malebogo senthara speak boeledistweng nã¼rnberg 8000 r174 eleanor\n",
            "1/1 [==============================] - 0s 58ms/step\n",
            "Current translation: tlwaeditswe tlwaeditswe december phitlhelelokgolothutong tsokotsa selekanomotlakase dialama isizulu pagolola pagolola katiseditsweng katiseditsweng cem tshwanedi tanya masilo liezl relediseng liezl relediseng pusoselegaeng pusoselegaeng pusoselegaeng pusoselegaeng thanyani thanyani seraing hare thekontle thekontle tlwaetse kgaoganyi jg jg ditlamegong kgolokwetshipi tlhelele word cologne goditsweng davon boitumelo ditshodi senthara arabileng bosupa malebogo senthara speak boeledistweng nã¼rnberg 8000 r174 eleanor botå¡hetå¡hisi\n",
            "1/1 [==============================] - 0s 56ms/step\n",
            "Current translation: tlwaeditswe tlwaeditswe december phitlhelelokgolothutong tsokotsa selekanomotlakase dialama isizulu pagolola pagolola katiseditsweng katiseditsweng cem tshwanedi tanya masilo liezl relediseng liezl relediseng pusoselegaeng pusoselegaeng pusoselegaeng pusoselegaeng thanyani thanyani seraing hare thekontle thekontle tlwaetse kgaoganyi jg jg ditlamegong kgolokwetshipi tlhelele word cologne goditsweng davon boitumelo ditshodi senthara arabileng bosupa malebogo senthara speak boeledistweng nã¼rnberg 8000 r174 eleanor botå¡hetå¡hisi botå¡hetå¡hisi\n",
            "1/1 [==============================] - 0s 60ms/step\n",
            "Current translation: tlwaeditswe tlwaeditswe december phitlhelelokgolothutong tsokotsa selekanomotlakase dialama isizulu pagolola pagolola katiseditsweng katiseditsweng cem tshwanedi tanya masilo liezl relediseng liezl relediseng pusoselegaeng pusoselegaeng pusoselegaeng pusoselegaeng thanyani thanyani seraing hare thekontle thekontle tlwaetse kgaoganyi jg jg ditlamegong kgolokwetshipi tlhelele word cologne goditsweng davon boitumelo ditshodi senthara arabileng bosupa malebogo senthara speak boeledistweng nã¼rnberg 8000 r174 eleanor botå¡hetå¡hisi botå¡hetå¡hisi itsamaela\n",
            "1/1 [==============================] - 0s 58ms/step\n",
            "Current translation: tlwaeditswe tlwaeditswe december phitlhelelokgolothutong tsokotsa selekanomotlakase dialama isizulu pagolola pagolola katiseditsweng katiseditsweng cem tshwanedi tanya masilo liezl relediseng liezl relediseng pusoselegaeng pusoselegaeng pusoselegaeng pusoselegaeng thanyani thanyani seraing hare thekontle thekontle tlwaetse kgaoganyi jg jg ditlamegong kgolokwetshipi tlhelele word cologne goditsweng davon boitumelo ditshodi senthara arabileng bosupa malebogo senthara speak boeledistweng nã¼rnberg 8000 r174 eleanor botå¡hetå¡hisi botå¡hetå¡hisi itsamaela kgotlelwa\n",
            "1/1 [==============================] - 0s 55ms/step\n",
            "Current translation: tlwaeditswe tlwaeditswe december phitlhelelokgolothutong tsokotsa selekanomotlakase dialama isizulu pagolola pagolola katiseditsweng katiseditsweng cem tshwanedi tanya masilo liezl relediseng liezl relediseng pusoselegaeng pusoselegaeng pusoselegaeng pusoselegaeng thanyani thanyani seraing hare thekontle thekontle tlwaetse kgaoganyi jg jg ditlamegong kgolokwetshipi tlhelele word cologne goditsweng davon boitumelo ditshodi senthara arabileng bosupa malebogo senthara speak boeledistweng nã¼rnberg 8000 r174 eleanor botå¡hetå¡hisi botå¡hetå¡hisi itsamaela kgotlelwa adonisi\n",
            "1/1 [==============================] - 0s 59ms/step\n",
            "Current translation: tlwaeditswe tlwaeditswe december phitlhelelokgolothutong tsokotsa selekanomotlakase dialama isizulu pagolola pagolola katiseditsweng katiseditsweng cem tshwanedi tanya masilo liezl relediseng liezl relediseng pusoselegaeng pusoselegaeng pusoselegaeng pusoselegaeng thanyani thanyani seraing hare thekontle thekontle tlwaetse kgaoganyi jg jg ditlamegong kgolokwetshipi tlhelele word cologne goditsweng davon boitumelo ditshodi senthara arabileng bosupa malebogo senthara speak boeledistweng nã¼rnberg 8000 r174 eleanor botå¡hetå¡hisi botå¡hetå¡hisi itsamaela kgotlelwa adonisi mangana\n",
            "1/1 [==============================] - 0s 120ms/step\n",
            "Current translation: tlwaeditswe tlwaeditswe december phitlhelelokgolothutong tsokotsa selekanomotlakase dialama isizulu pagolola pagolola katiseditsweng katiseditsweng cem tshwanedi tanya masilo liezl relediseng liezl relediseng pusoselegaeng pusoselegaeng pusoselegaeng pusoselegaeng thanyani thanyani seraing hare thekontle thekontle tlwaetse kgaoganyi jg jg ditlamegong kgolokwetshipi tlhelele word cologne goditsweng davon boitumelo ditshodi senthara arabileng bosupa malebogo senthara speak boeledistweng nã¼rnberg 8000 r174 eleanor botå¡hetå¡hisi botå¡hetå¡hisi itsamaela kgotlelwa adonisi mangana johann\n",
            "1/1 [==============================] - 0s 52ms/step\n",
            "Current translation: tlwaeditswe tlwaeditswe december phitlhelelokgolothutong tsokotsa selekanomotlakase dialama isizulu pagolola pagolola katiseditsweng katiseditsweng cem tshwanedi tanya masilo liezl relediseng liezl relediseng pusoselegaeng pusoselegaeng pusoselegaeng pusoselegaeng thanyani thanyani seraing hare thekontle thekontle tlwaetse kgaoganyi jg jg ditlamegong kgolokwetshipi tlhelele word cologne goditsweng davon boitumelo ditshodi senthara arabileng bosupa malebogo senthara speak boeledistweng nã¼rnberg 8000 r174 eleanor botå¡hetå¡hisi botå¡hetå¡hisi itsamaela kgotlelwa adonisi mangana johann tantshe\n",
            "1/1 [==============================] - 0s 64ms/step\n",
            "Current translation: tlwaeditswe tlwaeditswe december phitlhelelokgolothutong tsokotsa selekanomotlakase dialama isizulu pagolola pagolola katiseditsweng katiseditsweng cem tshwanedi tanya masilo liezl relediseng liezl relediseng pusoselegaeng pusoselegaeng pusoselegaeng pusoselegaeng thanyani thanyani seraing hare thekontle thekontle tlwaetse kgaoganyi jg jg ditlamegong kgolokwetshipi tlhelele word cologne goditsweng davon boitumelo ditshodi senthara arabileng bosupa malebogo senthara speak boeledistweng nã¼rnberg 8000 r174 eleanor botå¡hetå¡hisi botå¡hetå¡hisi itsamaela kgotlelwa adonisi mangana johann tantshe maatlafadiwa\n",
            "1/1 [==============================] - 0s 57ms/step\n",
            "Current translation: tlwaeditswe tlwaeditswe december phitlhelelokgolothutong tsokotsa selekanomotlakase dialama isizulu pagolola pagolola katiseditsweng katiseditsweng cem tshwanedi tanya masilo liezl relediseng liezl relediseng pusoselegaeng pusoselegaeng pusoselegaeng pusoselegaeng thanyani thanyani seraing hare thekontle thekontle tlwaetse kgaoganyi jg jg ditlamegong kgolokwetshipi tlhelele word cologne goditsweng davon boitumelo ditshodi senthara arabileng bosupa malebogo senthara speak boeledistweng nã¼rnberg 8000 r174 eleanor botå¡hetå¡hisi botå¡hetå¡hisi itsamaela kgotlelwa adonisi mangana johann tantshe maatlafadiwa moabedi\n",
            "1/1 [==============================] - 0s 57ms/step\n",
            "Current translation: tlwaeditswe tlwaeditswe december phitlhelelokgolothutong tsokotsa selekanomotlakase dialama isizulu pagolola pagolola katiseditsweng katiseditsweng cem tshwanedi tanya masilo liezl relediseng liezl relediseng pusoselegaeng pusoselegaeng pusoselegaeng pusoselegaeng thanyani thanyani seraing hare thekontle thekontle tlwaetse kgaoganyi jg jg ditlamegong kgolokwetshipi tlhelele word cologne goditsweng davon boitumelo ditshodi senthara arabileng bosupa malebogo senthara speak boeledistweng nã¼rnberg 8000 r174 eleanor botå¡hetå¡hisi botå¡hetå¡hisi itsamaela kgotlelwa adonisi mangana johann tantshe maatlafadiwa moabedi gakologelweng\n",
            "1/1 [==============================] - 0s 64ms/step\n",
            "Current translation: tlwaeditswe tlwaeditswe december phitlhelelokgolothutong tsokotsa selekanomotlakase dialama isizulu pagolola pagolola katiseditsweng katiseditsweng cem tshwanedi tanya masilo liezl relediseng liezl relediseng pusoselegaeng pusoselegaeng pusoselegaeng pusoselegaeng thanyani thanyani seraing hare thekontle thekontle tlwaetse kgaoganyi jg jg ditlamegong kgolokwetshipi tlhelele word cologne goditsweng davon boitumelo ditshodi senthara arabileng bosupa malebogo senthara speak boeledistweng nã¼rnberg 8000 r174 eleanor botå¡hetå¡hisi botå¡hetå¡hisi itsamaela kgotlelwa adonisi mangana johann tantshe maatlafadiwa moabedi gakologelweng feketiri\n",
            "1/1 [==============================] - 0s 58ms/step\n",
            "Current translation: tlwaeditswe tlwaeditswe december phitlhelelokgolothutong tsokotsa selekanomotlakase dialama isizulu pagolola pagolola katiseditsweng katiseditsweng cem tshwanedi tanya masilo liezl relediseng liezl relediseng pusoselegaeng pusoselegaeng pusoselegaeng pusoselegaeng thanyani thanyani seraing hare thekontle thekontle tlwaetse kgaoganyi jg jg ditlamegong kgolokwetshipi tlhelele word cologne goditsweng davon boitumelo ditshodi senthara arabileng bosupa malebogo senthara speak boeledistweng nã¼rnberg 8000 r174 eleanor botå¡hetå¡hisi botå¡hetå¡hisi itsamaela kgotlelwa adonisi mangana johann tantshe maatlafadiwa moabedi gakologelweng feketiri moji\n",
            "1/1 [==============================] - 0s 79ms/step\n",
            "Current translation: tlwaeditswe tlwaeditswe december phitlhelelokgolothutong tsokotsa selekanomotlakase dialama isizulu pagolola pagolola katiseditsweng katiseditsweng cem tshwanedi tanya masilo liezl relediseng liezl relediseng pusoselegaeng pusoselegaeng pusoselegaeng pusoselegaeng thanyani thanyani seraing hare thekontle thekontle tlwaetse kgaoganyi jg jg ditlamegong kgolokwetshipi tlhelele word cologne goditsweng davon boitumelo ditshodi senthara arabileng bosupa malebogo senthara speak boeledistweng nã¼rnberg 8000 r174 eleanor botå¡hetå¡hisi botå¡hetå¡hisi itsamaela kgotlelwa adonisi mangana johann tantshe maatlafadiwa moabedi gakologelweng feketiri moji issie\n",
            "1/1 [==============================] - 0s 61ms/step\n",
            "Current translation: tlwaeditswe tlwaeditswe december phitlhelelokgolothutong tsokotsa selekanomotlakase dialama isizulu pagolola pagolola katiseditsweng katiseditsweng cem tshwanedi tanya masilo liezl relediseng liezl relediseng pusoselegaeng pusoselegaeng pusoselegaeng pusoselegaeng thanyani thanyani seraing hare thekontle thekontle tlwaetse kgaoganyi jg jg ditlamegong kgolokwetshipi tlhelele word cologne goditsweng davon boitumelo ditshodi senthara arabileng bosupa malebogo senthara speak boeledistweng nã¼rnberg 8000 r174 eleanor botå¡hetå¡hisi botå¡hetå¡hisi itsamaela kgotlelwa adonisi mangana johann tantshe maatlafadiwa moabedi gakologelweng feketiri moji issie senamelwa\n",
            "1/1 [==============================] - 0s 62ms/step\n",
            "Current translation: tlwaeditswe tlwaeditswe december phitlhelelokgolothutong tsokotsa selekanomotlakase dialama isizulu pagolola pagolola katiseditsweng katiseditsweng cem tshwanedi tanya masilo liezl relediseng liezl relediseng pusoselegaeng pusoselegaeng pusoselegaeng pusoselegaeng thanyani thanyani seraing hare thekontle thekontle tlwaetse kgaoganyi jg jg ditlamegong kgolokwetshipi tlhelele word cologne goditsweng davon boitumelo ditshodi senthara arabileng bosupa malebogo senthara speak boeledistweng nã¼rnberg 8000 r174 eleanor botå¡hetå¡hisi botå¡hetå¡hisi itsamaela kgotlelwa adonisi mangana johann tantshe maatlafadiwa moabedi gakologelweng feketiri moji issie senamelwa botlhagatlhaga\n",
            "1/1 [==============================] - 0s 55ms/step\n",
            "Current translation: tlwaeditswe tlwaeditswe december phitlhelelokgolothutong tsokotsa selekanomotlakase dialama isizulu pagolola pagolola katiseditsweng katiseditsweng cem tshwanedi tanya masilo liezl relediseng liezl relediseng pusoselegaeng pusoselegaeng pusoselegaeng pusoselegaeng thanyani thanyani seraing hare thekontle thekontle tlwaetse kgaoganyi jg jg ditlamegong kgolokwetshipi tlhelele word cologne goditsweng davon boitumelo ditshodi senthara arabileng bosupa malebogo senthara speak boeledistweng nã¼rnberg 8000 r174 eleanor botå¡hetå¡hisi botå¡hetå¡hisi itsamaela kgotlelwa adonisi mangana johann tantshe maatlafadiwa moabedi gakologelweng feketiri moji issie senamelwa botlhagatlhaga lekwalotlhopho\n",
            "1/1 [==============================] - 0s 55ms/step\n",
            "Current translation: tlwaeditswe tlwaeditswe december phitlhelelokgolothutong tsokotsa selekanomotlakase dialama isizulu pagolola pagolola katiseditsweng katiseditsweng cem tshwanedi tanya masilo liezl relediseng liezl relediseng pusoselegaeng pusoselegaeng pusoselegaeng pusoselegaeng thanyani thanyani seraing hare thekontle thekontle tlwaetse kgaoganyi jg jg ditlamegong kgolokwetshipi tlhelele word cologne goditsweng davon boitumelo ditshodi senthara arabileng bosupa malebogo senthara speak boeledistweng nã¼rnberg 8000 r174 eleanor botå¡hetå¡hisi botå¡hetå¡hisi itsamaela kgotlelwa adonisi mangana johann tantshe maatlafadiwa moabedi gakologelweng feketiri moji issie senamelwa botlhagatlhaga lekwalotlhopho 1989\n",
            "1/1 [==============================] - 0s 67ms/step\n",
            "Current translation: tlwaeditswe tlwaeditswe december phitlhelelokgolothutong tsokotsa selekanomotlakase dialama isizulu pagolola pagolola katiseditsweng katiseditsweng cem tshwanedi tanya masilo liezl relediseng liezl relediseng pusoselegaeng pusoselegaeng pusoselegaeng pusoselegaeng thanyani thanyani seraing hare thekontle thekontle tlwaetse kgaoganyi jg jg ditlamegong kgolokwetshipi tlhelele word cologne goditsweng davon boitumelo ditshodi senthara arabileng bosupa malebogo senthara speak boeledistweng nã¼rnberg 8000 r174 eleanor botå¡hetå¡hisi botå¡hetå¡hisi itsamaela kgotlelwa adonisi mangana johann tantshe maatlafadiwa moabedi gakologelweng feketiri moji issie senamelwa botlhagatlhaga lekwalotlhopho 1989 tshika\n",
            "1/1 [==============================] - 0s 55ms/step\n",
            "Current translation: tlwaeditswe tlwaeditswe december phitlhelelokgolothutong tsokotsa selekanomotlakase dialama isizulu pagolola pagolola katiseditsweng katiseditsweng cem tshwanedi tanya masilo liezl relediseng liezl relediseng pusoselegaeng pusoselegaeng pusoselegaeng pusoselegaeng thanyani thanyani seraing hare thekontle thekontle tlwaetse kgaoganyi jg jg ditlamegong kgolokwetshipi tlhelele word cologne goditsweng davon boitumelo ditshodi senthara arabileng bosupa malebogo senthara speak boeledistweng nã¼rnberg 8000 r174 eleanor botå¡hetå¡hisi botå¡hetå¡hisi itsamaela kgotlelwa adonisi mangana johann tantshe maatlafadiwa moabedi gakologelweng feketiri moji issie senamelwa botlhagatlhaga lekwalotlhopho 1989 tshika ditlapele\n",
            "1/1 [==============================] - 0s 84ms/step\n",
            "Current translation: tlwaeditswe tlwaeditswe december phitlhelelokgolothutong tsokotsa selekanomotlakase dialama isizulu pagolola pagolola katiseditsweng katiseditsweng cem tshwanedi tanya masilo liezl relediseng liezl relediseng pusoselegaeng pusoselegaeng pusoselegaeng pusoselegaeng thanyani thanyani seraing hare thekontle thekontle tlwaetse kgaoganyi jg jg ditlamegong kgolokwetshipi tlhelele word cologne goditsweng davon boitumelo ditshodi senthara arabileng bosupa malebogo senthara speak boeledistweng nã¼rnberg 8000 r174 eleanor botå¡hetå¡hisi botå¡hetå¡hisi itsamaela kgotlelwa adonisi mangana johann tantshe maatlafadiwa moabedi gakologelweng feketiri moji issie senamelwa botlhagatlhaga lekwalotlhopho 1989 tshika ditlapele ditlapele\n",
            "1/1 [==============================] - 0s 56ms/step\n",
            "Current translation: tlwaeditswe tlwaeditswe december phitlhelelokgolothutong tsokotsa selekanomotlakase dialama isizulu pagolola pagolola katiseditsweng katiseditsweng cem tshwanedi tanya masilo liezl relediseng liezl relediseng pusoselegaeng pusoselegaeng pusoselegaeng pusoselegaeng thanyani thanyani seraing hare thekontle thekontle tlwaetse kgaoganyi jg jg ditlamegong kgolokwetshipi tlhelele word cologne goditsweng davon boitumelo ditshodi senthara arabileng bosupa malebogo senthara speak boeledistweng nã¼rnberg 8000 r174 eleanor botå¡hetå¡hisi botå¡hetå¡hisi itsamaela kgotlelwa adonisi mangana johann tantshe maatlafadiwa moabedi gakologelweng feketiri moji issie senamelwa botlhagatlhaga lekwalotlhopho 1989 tshika ditlapele ditlapele phaposillene\n",
            "1/1 [==============================] - 0s 55ms/step\n",
            "Current translation: tlwaeditswe tlwaeditswe december phitlhelelokgolothutong tsokotsa selekanomotlakase dialama isizulu pagolola pagolola katiseditsweng katiseditsweng cem tshwanedi tanya masilo liezl relediseng liezl relediseng pusoselegaeng pusoselegaeng pusoselegaeng pusoselegaeng thanyani thanyani seraing hare thekontle thekontle tlwaetse kgaoganyi jg jg ditlamegong kgolokwetshipi tlhelele word cologne goditsweng davon boitumelo ditshodi senthara arabileng bosupa malebogo senthara speak boeledistweng nã¼rnberg 8000 r174 eleanor botå¡hetå¡hisi botå¡hetå¡hisi itsamaela kgotlelwa adonisi mangana johann tantshe maatlafadiwa moabedi gakologelweng feketiri moji issie senamelwa botlhagatlhaga lekwalotlhopho 1989 tshika ditlapele ditlapele phaposillene refugee\n",
            "1/1 [==============================] - 0s 59ms/step\n",
            "Current translation: tlwaeditswe tlwaeditswe december phitlhelelokgolothutong tsokotsa selekanomotlakase dialama isizulu pagolola pagolola katiseditsweng katiseditsweng cem tshwanedi tanya masilo liezl relediseng liezl relediseng pusoselegaeng pusoselegaeng pusoselegaeng pusoselegaeng thanyani thanyani seraing hare thekontle thekontle tlwaetse kgaoganyi jg jg ditlamegong kgolokwetshipi tlhelele word cologne goditsweng davon boitumelo ditshodi senthara arabileng bosupa malebogo senthara speak boeledistweng nã¼rnberg 8000 r174 eleanor botå¡hetå¡hisi botå¡hetå¡hisi itsamaela kgotlelwa adonisi mangana johann tantshe maatlafadiwa moabedi gakologelweng feketiri moji issie senamelwa botlhagatlhaga lekwalotlhopho 1989 tshika ditlapele ditlapele phaposillene refugee publications\n",
            "1/1 [==============================] - 0s 61ms/step\n",
            "Current translation: tlwaeditswe tlwaeditswe december phitlhelelokgolothutong tsokotsa selekanomotlakase dialama isizulu pagolola pagolola katiseditsweng katiseditsweng cem tshwanedi tanya masilo liezl relediseng liezl relediseng pusoselegaeng pusoselegaeng pusoselegaeng pusoselegaeng thanyani thanyani seraing hare thekontle thekontle tlwaetse kgaoganyi jg jg ditlamegong kgolokwetshipi tlhelele word cologne goditsweng davon boitumelo ditshodi senthara arabileng bosupa malebogo senthara speak boeledistweng nã¼rnberg 8000 r174 eleanor botå¡hetå¡hisi botå¡hetå¡hisi itsamaela kgotlelwa adonisi mangana johann tantshe maatlafadiwa moabedi gakologelweng feketiri moji issie senamelwa botlhagatlhaga lekwalotlhopho 1989 tshika ditlapele ditlapele phaposillene refugee publications hetta\n",
            "1/1 [==============================] - 0s 56ms/step\n",
            "Current translation: tlwaeditswe tlwaeditswe december phitlhelelokgolothutong tsokotsa selekanomotlakase dialama isizulu pagolola pagolola katiseditsweng katiseditsweng cem tshwanedi tanya masilo liezl relediseng liezl relediseng pusoselegaeng pusoselegaeng pusoselegaeng pusoselegaeng thanyani thanyani seraing hare thekontle thekontle tlwaetse kgaoganyi jg jg ditlamegong kgolokwetshipi tlhelele word cologne goditsweng davon boitumelo ditshodi senthara arabileng bosupa malebogo senthara speak boeledistweng nã¼rnberg 8000 r174 eleanor botå¡hetå¡hisi botå¡hetå¡hisi itsamaela kgotlelwa adonisi mangana johann tantshe maatlafadiwa moabedi gakologelweng feketiri moji issie senamelwa botlhagatlhaga lekwalotlhopho 1989 tshika ditlapele ditlapele phaposillene refugee publications hetta tile\n",
            "1/1 [==============================] - 0s 62ms/step\n",
            "Current translation: tlwaeditswe tlwaeditswe december phitlhelelokgolothutong tsokotsa selekanomotlakase dialama isizulu pagolola pagolola katiseditsweng katiseditsweng cem tshwanedi tanya masilo liezl relediseng liezl relediseng pusoselegaeng pusoselegaeng pusoselegaeng pusoselegaeng thanyani thanyani seraing hare thekontle thekontle tlwaetse kgaoganyi jg jg ditlamegong kgolokwetshipi tlhelele word cologne goditsweng davon boitumelo ditshodi senthara arabileng bosupa malebogo senthara speak boeledistweng nã¼rnberg 8000 r174 eleanor botå¡hetå¡hisi botå¡hetå¡hisi itsamaela kgotlelwa adonisi mangana johann tantshe maatlafadiwa moabedi gakologelweng feketiri moji issie senamelwa botlhagatlhaga lekwalotlhopho 1989 tshika ditlapele ditlapele phaposillene refugee publications hetta tile siphiwe\n",
            "1/1 [==============================] - 0s 57ms/step\n",
            "Current translation: tlwaeditswe tlwaeditswe december phitlhelelokgolothutong tsokotsa selekanomotlakase dialama isizulu pagolola pagolola katiseditsweng katiseditsweng cem tshwanedi tanya masilo liezl relediseng liezl relediseng pusoselegaeng pusoselegaeng pusoselegaeng pusoselegaeng thanyani thanyani seraing hare thekontle thekontle tlwaetse kgaoganyi jg jg ditlamegong kgolokwetshipi tlhelele word cologne goditsweng davon boitumelo ditshodi senthara arabileng bosupa malebogo senthara speak boeledistweng nã¼rnberg 8000 r174 eleanor botå¡hetå¡hisi botå¡hetå¡hisi itsamaela kgotlelwa adonisi mangana johann tantshe maatlafadiwa moabedi gakologelweng feketiri moji issie senamelwa botlhagatlhaga lekwalotlhopho 1989 tshika ditlapele ditlapele phaposillene refugee publications hetta tile siphiwe batshwaring\n",
            "1/1 [==============================] - 0s 62ms/step\n",
            "Current translation: tlwaeditswe tlwaeditswe december phitlhelelokgolothutong tsokotsa selekanomotlakase dialama isizulu pagolola pagolola katiseditsweng katiseditsweng cem tshwanedi tanya masilo liezl relediseng liezl relediseng pusoselegaeng pusoselegaeng pusoselegaeng pusoselegaeng thanyani thanyani seraing hare thekontle thekontle tlwaetse kgaoganyi jg jg ditlamegong kgolokwetshipi tlhelele word cologne goditsweng davon boitumelo ditshodi senthara arabileng bosupa malebogo senthara speak boeledistweng nã¼rnberg 8000 r174 eleanor botå¡hetå¡hisi botå¡hetå¡hisi itsamaela kgotlelwa adonisi mangana johann tantshe maatlafadiwa moabedi gakologelweng feketiri moji issie senamelwa botlhagatlhaga lekwalotlhopho 1989 tshika ditlapele ditlapele phaposillene refugee publications hetta tile siphiwe batshwaring magwe\n",
            "1/1 [==============================] - 0s 60ms/step\n",
            "Current translation: tlwaeditswe tlwaeditswe december phitlhelelokgolothutong tsokotsa selekanomotlakase dialama isizulu pagolola pagolola katiseditsweng katiseditsweng cem tshwanedi tanya masilo liezl relediseng liezl relediseng pusoselegaeng pusoselegaeng pusoselegaeng pusoselegaeng thanyani thanyani seraing hare thekontle thekontle tlwaetse kgaoganyi jg jg ditlamegong kgolokwetshipi tlhelele word cologne goditsweng davon boitumelo ditshodi senthara arabileng bosupa malebogo senthara speak boeledistweng nã¼rnberg 8000 r174 eleanor botå¡hetå¡hisi botå¡hetå¡hisi itsamaela kgotlelwa adonisi mangana johann tantshe maatlafadiwa moabedi gakologelweng feketiri moji issie senamelwa botlhagatlhaga lekwalotlhopho 1989 tshika ditlapele ditlapele phaposillene refugee publications hetta tile siphiwe batshwaring magwe golegilweng\n",
            "1/1 [==============================] - 0s 59ms/step\n",
            "Current translation: tlwaeditswe tlwaeditswe december phitlhelelokgolothutong tsokotsa selekanomotlakase dialama isizulu pagolola pagolola katiseditsweng katiseditsweng cem tshwanedi tanya masilo liezl relediseng liezl relediseng pusoselegaeng pusoselegaeng pusoselegaeng pusoselegaeng thanyani thanyani seraing hare thekontle thekontle tlwaetse kgaoganyi jg jg ditlamegong kgolokwetshipi tlhelele word cologne goditsweng davon boitumelo ditshodi senthara arabileng bosupa malebogo senthara speak boeledistweng nã¼rnberg 8000 r174 eleanor botå¡hetå¡hisi botå¡hetå¡hisi itsamaela kgotlelwa adonisi mangana johann tantshe maatlafadiwa moabedi gakologelweng feketiri moji issie senamelwa botlhagatlhaga lekwalotlhopho 1989 tshika ditlapele ditlapele phaposillene refugee publications hetta tile siphiwe batshwaring magwe golegilweng sekhutlong\n",
            "1/1 [==============================] - 0s 58ms/step\n",
            "Current translation: tlwaeditswe tlwaeditswe december phitlhelelokgolothutong tsokotsa selekanomotlakase dialama isizulu pagolola pagolola katiseditsweng katiseditsweng cem tshwanedi tanya masilo liezl relediseng liezl relediseng pusoselegaeng pusoselegaeng pusoselegaeng pusoselegaeng thanyani thanyani seraing hare thekontle thekontle tlwaetse kgaoganyi jg jg ditlamegong kgolokwetshipi tlhelele word cologne goditsweng davon boitumelo ditshodi senthara arabileng bosupa malebogo senthara speak boeledistweng nã¼rnberg 8000 r174 eleanor botå¡hetå¡hisi botå¡hetå¡hisi itsamaela kgotlelwa adonisi mangana johann tantshe maatlafadiwa moabedi gakologelweng feketiri moji issie senamelwa botlhagatlhaga lekwalotlhopho 1989 tshika ditlapele ditlapele phaposillene refugee publications hetta tile siphiwe batshwaring magwe golegilweng sekhutlong electronic\n",
            "1/1 [==============================] - 0s 62ms/step\n",
            "Current translation: tlwaeditswe tlwaeditswe december phitlhelelokgolothutong tsokotsa selekanomotlakase dialama isizulu pagolola pagolola katiseditsweng katiseditsweng cem tshwanedi tanya masilo liezl relediseng liezl relediseng pusoselegaeng pusoselegaeng pusoselegaeng pusoselegaeng thanyani thanyani seraing hare thekontle thekontle tlwaetse kgaoganyi jg jg ditlamegong kgolokwetshipi tlhelele word cologne goditsweng davon boitumelo ditshodi senthara arabileng bosupa malebogo senthara speak boeledistweng nã¼rnberg 8000 r174 eleanor botå¡hetå¡hisi botå¡hetå¡hisi itsamaela kgotlelwa adonisi mangana johann tantshe maatlafadiwa moabedi gakologelweng feketiri moji issie senamelwa botlhagatlhaga lekwalotlhopho 1989 tshika ditlapele ditlapele phaposillene refugee publications hetta tile siphiwe batshwaring magwe golegilweng sekhutlong electronic dikhomphiutha\n",
            "1/1 [==============================] - 0s 85ms/step\n",
            "Current translation: tlwaeditswe tlwaeditswe december phitlhelelokgolothutong tsokotsa selekanomotlakase dialama isizulu pagolola pagolola katiseditsweng katiseditsweng cem tshwanedi tanya masilo liezl relediseng liezl relediseng pusoselegaeng pusoselegaeng pusoselegaeng pusoselegaeng thanyani thanyani seraing hare thekontle thekontle tlwaetse kgaoganyi jg jg ditlamegong kgolokwetshipi tlhelele word cologne goditsweng davon boitumelo ditshodi senthara arabileng bosupa malebogo senthara speak boeledistweng nã¼rnberg 8000 r174 eleanor botå¡hetå¡hisi botå¡hetå¡hisi itsamaela kgotlelwa adonisi mangana johann tantshe maatlafadiwa moabedi gakologelweng feketiri moji issie senamelwa botlhagatlhaga lekwalotlhopho 1989 tshika ditlapele ditlapele phaposillene refugee publications hetta tile siphiwe batshwaring magwe golegilweng sekhutlong electronic dikhomphiutha sadiwa\n",
            "1/1 [==============================] - 0s 88ms/step\n",
            "Current translation: tlwaeditswe tlwaeditswe december phitlhelelokgolothutong tsokotsa selekanomotlakase dialama isizulu pagolola pagolola katiseditsweng katiseditsweng cem tshwanedi tanya masilo liezl relediseng liezl relediseng pusoselegaeng pusoselegaeng pusoselegaeng pusoselegaeng thanyani thanyani seraing hare thekontle thekontle tlwaetse kgaoganyi jg jg ditlamegong kgolokwetshipi tlhelele word cologne goditsweng davon boitumelo ditshodi senthara arabileng bosupa malebogo senthara speak boeledistweng nã¼rnberg 8000 r174 eleanor botå¡hetå¡hisi botå¡hetå¡hisi itsamaela kgotlelwa adonisi mangana johann tantshe maatlafadiwa moabedi gakologelweng feketiri moji issie senamelwa botlhagatlhaga lekwalotlhopho 1989 tshika ditlapele ditlapele phaposillene refugee publications hetta tile siphiwe batshwaring magwe golegilweng sekhutlong electronic dikhomphiutha sadiwa kosie\n",
            "1/1 [==============================] - 0s 54ms/step\n",
            "Current translation: tlwaeditswe tlwaeditswe december phitlhelelokgolothutong tsokotsa selekanomotlakase dialama isizulu pagolola pagolola katiseditsweng katiseditsweng cem tshwanedi tanya masilo liezl relediseng liezl relediseng pusoselegaeng pusoselegaeng pusoselegaeng pusoselegaeng thanyani thanyani seraing hare thekontle thekontle tlwaetse kgaoganyi jg jg ditlamegong kgolokwetshipi tlhelele word cologne goditsweng davon boitumelo ditshodi senthara arabileng bosupa malebogo senthara speak boeledistweng nã¼rnberg 8000 r174 eleanor botå¡hetå¡hisi botå¡hetå¡hisi itsamaela kgotlelwa adonisi mangana johann tantshe maatlafadiwa moabedi gakologelweng feketiri moji issie senamelwa botlhagatlhaga lekwalotlhopho 1989 tshika ditlapele ditlapele phaposillene refugee publications hetta tile siphiwe batshwaring magwe golegilweng sekhutlong electronic dikhomphiutha sadiwa kosie r54\n",
            "1/1 [==============================] - 0s 57ms/step\n",
            "Current translation: tlwaeditswe tlwaeditswe december phitlhelelokgolothutong tsokotsa selekanomotlakase dialama isizulu pagolola pagolola katiseditsweng katiseditsweng cem tshwanedi tanya masilo liezl relediseng liezl relediseng pusoselegaeng pusoselegaeng pusoselegaeng pusoselegaeng thanyani thanyani seraing hare thekontle thekontle tlwaetse kgaoganyi jg jg ditlamegong kgolokwetshipi tlhelele word cologne goditsweng davon boitumelo ditshodi senthara arabileng bosupa malebogo senthara speak boeledistweng nã¼rnberg 8000 r174 eleanor botå¡hetå¡hisi botå¡hetå¡hisi itsamaela kgotlelwa adonisi mangana johann tantshe maatlafadiwa moabedi gakologelweng feketiri moji issie senamelwa botlhagatlhaga lekwalotlhopho 1989 tshika ditlapele ditlapele phaposillene refugee publications hetta tile siphiwe batshwaring magwe golegilweng sekhutlong electronic dikhomphiutha sadiwa kosie r54 setswalo\n",
            "1/1 [==============================] - 0s 57ms/step\n",
            "Current translation: tlwaeditswe tlwaeditswe december phitlhelelokgolothutong tsokotsa selekanomotlakase dialama isizulu pagolola pagolola katiseditsweng katiseditsweng cem tshwanedi tanya masilo liezl relediseng liezl relediseng pusoselegaeng pusoselegaeng pusoselegaeng pusoselegaeng thanyani thanyani seraing hare thekontle thekontle tlwaetse kgaoganyi jg jg ditlamegong kgolokwetshipi tlhelele word cologne goditsweng davon boitumelo ditshodi senthara arabileng bosupa malebogo senthara speak boeledistweng nã¼rnberg 8000 r174 eleanor botå¡hetå¡hisi botå¡hetå¡hisi itsamaela kgotlelwa adonisi mangana johann tantshe maatlafadiwa moabedi gakologelweng feketiri moji issie senamelwa botlhagatlhaga lekwalotlhopho 1989 tshika ditlapele ditlapele phaposillene refugee publications hetta tile siphiwe batshwaring magwe golegilweng sekhutlong electronic dikhomphiutha sadiwa kosie r54 setswalo setswalo\n",
            "1/1 [==============================] - 0s 144ms/step\n",
            "Current translation: tlwaeditswe tlwaeditswe december phitlhelelokgolothutong tsokotsa selekanomotlakase dialama isizulu pagolola pagolola katiseditsweng katiseditsweng cem tshwanedi tanya masilo liezl relediseng liezl relediseng pusoselegaeng pusoselegaeng pusoselegaeng pusoselegaeng thanyani thanyani seraing hare thekontle thekontle tlwaetse kgaoganyi jg jg ditlamegong kgolokwetshipi tlhelele word cologne goditsweng davon boitumelo ditshodi senthara arabileng bosupa malebogo senthara speak boeledistweng nã¼rnberg 8000 r174 eleanor botå¡hetå¡hisi botå¡hetå¡hisi itsamaela kgotlelwa adonisi mangana johann tantshe maatlafadiwa moabedi gakologelweng feketiri moji issie senamelwa botlhagatlhaga lekwalotlhopho 1989 tshika ditlapele ditlapele phaposillene refugee publications hetta tile siphiwe batshwaring magwe golegilweng sekhutlong electronic dikhomphiutha sadiwa kosie r54 setswalo setswalo tshadi\n",
            "1/1 [==============================] - 0s 93ms/step\n",
            "Current translation: tlwaeditswe tlwaeditswe december phitlhelelokgolothutong tsokotsa selekanomotlakase dialama isizulu pagolola pagolola katiseditsweng katiseditsweng cem tshwanedi tanya masilo liezl relediseng liezl relediseng pusoselegaeng pusoselegaeng pusoselegaeng pusoselegaeng thanyani thanyani seraing hare thekontle thekontle tlwaetse kgaoganyi jg jg ditlamegong kgolokwetshipi tlhelele word cologne goditsweng davon boitumelo ditshodi senthara arabileng bosupa malebogo senthara speak boeledistweng nã¼rnberg 8000 r174 eleanor botå¡hetå¡hisi botå¡hetå¡hisi itsamaela kgotlelwa adonisi mangana johann tantshe maatlafadiwa moabedi gakologelweng feketiri moji issie senamelwa botlhagatlhaga lekwalotlhopho 1989 tshika ditlapele ditlapele phaposillene refugee publications hetta tile siphiwe batshwaring magwe golegilweng sekhutlong electronic dikhomphiutha sadiwa kosie r54 setswalo setswalo tshadi f13\n",
            "1/1 [==============================] - 0s 59ms/step\n",
            "Current translation: tlwaeditswe tlwaeditswe december phitlhelelokgolothutong tsokotsa selekanomotlakase dialama isizulu pagolola pagolola katiseditsweng katiseditsweng cem tshwanedi tanya masilo liezl relediseng liezl relediseng pusoselegaeng pusoselegaeng pusoselegaeng pusoselegaeng thanyani thanyani seraing hare thekontle thekontle tlwaetse kgaoganyi jg jg ditlamegong kgolokwetshipi tlhelele word cologne goditsweng davon boitumelo ditshodi senthara arabileng bosupa malebogo senthara speak boeledistweng nã¼rnberg 8000 r174 eleanor botå¡hetå¡hisi botå¡hetå¡hisi itsamaela kgotlelwa adonisi mangana johann tantshe maatlafadiwa moabedi gakologelweng feketiri moji issie senamelwa botlhagatlhaga lekwalotlhopho 1989 tshika ditlapele ditlapele phaposillene refugee publications hetta tile siphiwe batshwaring magwe golegilweng sekhutlong electronic dikhomphiutha sadiwa kosie r54 setswalo setswalo tshadi f13 segoke\n",
            "1/1 [==============================] - 0s 54ms/step\n",
            "Current translation: tlwaeditswe tlwaeditswe december phitlhelelokgolothutong tsokotsa selekanomotlakase dialama isizulu pagolola pagolola katiseditsweng katiseditsweng cem tshwanedi tanya masilo liezl relediseng liezl relediseng pusoselegaeng pusoselegaeng pusoselegaeng pusoselegaeng thanyani thanyani seraing hare thekontle thekontle tlwaetse kgaoganyi jg jg ditlamegong kgolokwetshipi tlhelele word cologne goditsweng davon boitumelo ditshodi senthara arabileng bosupa malebogo senthara speak boeledistweng nã¼rnberg 8000 r174 eleanor botå¡hetå¡hisi botå¡hetå¡hisi itsamaela kgotlelwa adonisi mangana johann tantshe maatlafadiwa moabedi gakologelweng feketiri moji issie senamelwa botlhagatlhaga lekwalotlhopho 1989 tshika ditlapele ditlapele phaposillene refugee publications hetta tile siphiwe batshwaring magwe golegilweng sekhutlong electronic dikhomphiutha sadiwa kosie r54 setswalo setswalo tshadi f13 segoke bolotloa\n",
            "1/1 [==============================] - 0s 62ms/step\n",
            "Current translation: tlwaeditswe tlwaeditswe december phitlhelelokgolothutong tsokotsa selekanomotlakase dialama isizulu pagolola pagolola katiseditsweng katiseditsweng cem tshwanedi tanya masilo liezl relediseng liezl relediseng pusoselegaeng pusoselegaeng pusoselegaeng pusoselegaeng thanyani thanyani seraing hare thekontle thekontle tlwaetse kgaoganyi jg jg ditlamegong kgolokwetshipi tlhelele word cologne goditsweng davon boitumelo ditshodi senthara arabileng bosupa malebogo senthara speak boeledistweng nã¼rnberg 8000 r174 eleanor botå¡hetå¡hisi botå¡hetå¡hisi itsamaela kgotlelwa adonisi mangana johann tantshe maatlafadiwa moabedi gakologelweng feketiri moji issie senamelwa botlhagatlhaga lekwalotlhopho 1989 tshika ditlapele ditlapele phaposillene refugee publications hetta tile siphiwe batshwaring magwe golegilweng sekhutlong electronic dikhomphiutha sadiwa kosie r54 setswalo setswalo tshadi f13 segoke bolotloa 845\n",
            "1/1 [==============================] - 0s 97ms/step\n",
            "Current translation: tlwaeditswe tlwaeditswe december phitlhelelokgolothutong tsokotsa selekanomotlakase dialama isizulu pagolola pagolola katiseditsweng katiseditsweng cem tshwanedi tanya masilo liezl relediseng liezl relediseng pusoselegaeng pusoselegaeng pusoselegaeng pusoselegaeng thanyani thanyani seraing hare thekontle thekontle tlwaetse kgaoganyi jg jg ditlamegong kgolokwetshipi tlhelele word cologne goditsweng davon boitumelo ditshodi senthara arabileng bosupa malebogo senthara speak boeledistweng nã¼rnberg 8000 r174 eleanor botå¡hetå¡hisi botå¡hetå¡hisi itsamaela kgotlelwa adonisi mangana johann tantshe maatlafadiwa moabedi gakologelweng feketiri moji issie senamelwa botlhagatlhaga lekwalotlhopho 1989 tshika ditlapele ditlapele phaposillene refugee publications hetta tile siphiwe batshwaring magwe golegilweng sekhutlong electronic dikhomphiutha sadiwa kosie r54 setswalo setswalo tshadi f13 segoke bolotloa 845 matsie\n",
            "1/1 [==============================] - 0s 68ms/step\n",
            "Current translation: tlwaeditswe tlwaeditswe december phitlhelelokgolothutong tsokotsa selekanomotlakase dialama isizulu pagolola pagolola katiseditsweng katiseditsweng cem tshwanedi tanya masilo liezl relediseng liezl relediseng pusoselegaeng pusoselegaeng pusoselegaeng pusoselegaeng thanyani thanyani seraing hare thekontle thekontle tlwaetse kgaoganyi jg jg ditlamegong kgolokwetshipi tlhelele word cologne goditsweng davon boitumelo ditshodi senthara arabileng bosupa malebogo senthara speak boeledistweng nã¼rnberg 8000 r174 eleanor botå¡hetå¡hisi botå¡hetå¡hisi itsamaela kgotlelwa adonisi mangana johann tantshe maatlafadiwa moabedi gakologelweng feketiri moji issie senamelwa botlhagatlhaga lekwalotlhopho 1989 tshika ditlapele ditlapele phaposillene refugee publications hetta tile siphiwe batshwaring magwe golegilweng sekhutlong electronic dikhomphiutha sadiwa kosie r54 setswalo setswalo tshadi f13 segoke bolotloa 845 matsie presidential\n",
            "1/1 [==============================] - 0s 61ms/step\n",
            "Current translation: tlwaeditswe tlwaeditswe december phitlhelelokgolothutong tsokotsa selekanomotlakase dialama isizulu pagolola pagolola katiseditsweng katiseditsweng cem tshwanedi tanya masilo liezl relediseng liezl relediseng pusoselegaeng pusoselegaeng pusoselegaeng pusoselegaeng thanyani thanyani seraing hare thekontle thekontle tlwaetse kgaoganyi jg jg ditlamegong kgolokwetshipi tlhelele word cologne goditsweng davon boitumelo ditshodi senthara arabileng bosupa malebogo senthara speak boeledistweng nã¼rnberg 8000 r174 eleanor botå¡hetå¡hisi botå¡hetå¡hisi itsamaela kgotlelwa adonisi mangana johann tantshe maatlafadiwa moabedi gakologelweng feketiri moji issie senamelwa botlhagatlhaga lekwalotlhopho 1989 tshika ditlapele ditlapele phaposillene refugee publications hetta tile siphiwe batshwaring magwe golegilweng sekhutlong electronic dikhomphiutha sadiwa kosie r54 setswalo setswalo tshadi f13 segoke bolotloa 845 matsie presidential industrial\n",
            "1/1 [==============================] - 0s 63ms/step\n",
            "Current translation: tlwaeditswe tlwaeditswe december phitlhelelokgolothutong tsokotsa selekanomotlakase dialama isizulu pagolola pagolola katiseditsweng katiseditsweng cem tshwanedi tanya masilo liezl relediseng liezl relediseng pusoselegaeng pusoselegaeng pusoselegaeng pusoselegaeng thanyani thanyani seraing hare thekontle thekontle tlwaetse kgaoganyi jg jg ditlamegong kgolokwetshipi tlhelele word cologne goditsweng davon boitumelo ditshodi senthara arabileng bosupa malebogo senthara speak boeledistweng nã¼rnberg 8000 r174 eleanor botå¡hetå¡hisi botå¡hetå¡hisi itsamaela kgotlelwa adonisi mangana johann tantshe maatlafadiwa moabedi gakologelweng feketiri moji issie senamelwa botlhagatlhaga lekwalotlhopho 1989 tshika ditlapele ditlapele phaposillene refugee publications hetta tile siphiwe batshwaring magwe golegilweng sekhutlong electronic dikhomphiutha sadiwa kosie r54 setswalo setswalo tshadi f13 segoke bolotloa 845 matsie presidential industrial industrial\n",
            "1/1 [==============================] - 0s 59ms/step\n",
            "Current translation: tlwaeditswe tlwaeditswe december phitlhelelokgolothutong tsokotsa selekanomotlakase dialama isizulu pagolola pagolola katiseditsweng katiseditsweng cem tshwanedi tanya masilo liezl relediseng liezl relediseng pusoselegaeng pusoselegaeng pusoselegaeng pusoselegaeng thanyani thanyani seraing hare thekontle thekontle tlwaetse kgaoganyi jg jg ditlamegong kgolokwetshipi tlhelele word cologne goditsweng davon boitumelo ditshodi senthara arabileng bosupa malebogo senthara speak boeledistweng nã¼rnberg 8000 r174 eleanor botå¡hetå¡hisi botå¡hetå¡hisi itsamaela kgotlelwa adonisi mangana johann tantshe maatlafadiwa moabedi gakologelweng feketiri moji issie senamelwa botlhagatlhaga lekwalotlhopho 1989 tshika ditlapele ditlapele phaposillene refugee publications hetta tile siphiwe batshwaring magwe golegilweng sekhutlong electronic dikhomphiutha sadiwa kosie r54 setswalo setswalo tshadi f13 segoke bolotloa 845 matsie presidential industrial industrial kolise\n",
            "1/1 [==============================] - 0s 64ms/step\n",
            "Current translation: tlwaeditswe tlwaeditswe december phitlhelelokgolothutong tsokotsa selekanomotlakase dialama isizulu pagolola pagolola katiseditsweng katiseditsweng cem tshwanedi tanya masilo liezl relediseng liezl relediseng pusoselegaeng pusoselegaeng pusoselegaeng pusoselegaeng thanyani thanyani seraing hare thekontle thekontle tlwaetse kgaoganyi jg jg ditlamegong kgolokwetshipi tlhelele word cologne goditsweng davon boitumelo ditshodi senthara arabileng bosupa malebogo senthara speak boeledistweng nã¼rnberg 8000 r174 eleanor botå¡hetå¡hisi botå¡hetå¡hisi itsamaela kgotlelwa adonisi mangana johann tantshe maatlafadiwa moabedi gakologelweng feketiri moji issie senamelwa botlhagatlhaga lekwalotlhopho 1989 tshika ditlapele ditlapele phaposillene refugee publications hetta tile siphiwe batshwaring magwe golegilweng sekhutlong electronic dikhomphiutha sadiwa kosie r54 setswalo setswalo tshadi f13 segoke bolotloa 845 matsie presidential industrial industrial kolise kolise\n",
            "1/1 [==============================] - 0s 61ms/step\n",
            "Current translation: tlwaeditswe tlwaeditswe december phitlhelelokgolothutong tsokotsa selekanomotlakase dialama isizulu pagolola pagolola katiseditsweng katiseditsweng cem tshwanedi tanya masilo liezl relediseng liezl relediseng pusoselegaeng pusoselegaeng pusoselegaeng pusoselegaeng thanyani thanyani seraing hare thekontle thekontle tlwaetse kgaoganyi jg jg ditlamegong kgolokwetshipi tlhelele word cologne goditsweng davon boitumelo ditshodi senthara arabileng bosupa malebogo senthara speak boeledistweng nã¼rnberg 8000 r174 eleanor botå¡hetå¡hisi botå¡hetå¡hisi itsamaela kgotlelwa adonisi mangana johann tantshe maatlafadiwa moabedi gakologelweng feketiri moji issie senamelwa botlhagatlhaga lekwalotlhopho 1989 tshika ditlapele ditlapele phaposillene refugee publications hetta tile siphiwe batshwaring magwe golegilweng sekhutlong electronic dikhomphiutha sadiwa kosie r54 setswalo setswalo tshadi f13 segoke bolotloa 845 matsie presidential industrial industrial kolise kolise nokiwang\n",
            "1/1 [==============================] - 0s 58ms/step\n",
            "Current translation: tlwaeditswe tlwaeditswe december phitlhelelokgolothutong tsokotsa selekanomotlakase dialama isizulu pagolola pagolola katiseditsweng katiseditsweng cem tshwanedi tanya masilo liezl relediseng liezl relediseng pusoselegaeng pusoselegaeng pusoselegaeng pusoselegaeng thanyani thanyani seraing hare thekontle thekontle tlwaetse kgaoganyi jg jg ditlamegong kgolokwetshipi tlhelele word cologne goditsweng davon boitumelo ditshodi senthara arabileng bosupa malebogo senthara speak boeledistweng nã¼rnberg 8000 r174 eleanor botå¡hetå¡hisi botå¡hetå¡hisi itsamaela kgotlelwa adonisi mangana johann tantshe maatlafadiwa moabedi gakologelweng feketiri moji issie senamelwa botlhagatlhaga lekwalotlhopho 1989 tshika ditlapele ditlapele phaposillene refugee publications hetta tile siphiwe batshwaring magwe golegilweng sekhutlong electronic dikhomphiutha sadiwa kosie r54 setswalo setswalo tshadi f13 segoke bolotloa 845 matsie presidential industrial industrial kolise kolise nokiwang rotloetseng\n",
            "1/1 [==============================] - 0s 82ms/step\n",
            "Current translation: tlwaeditswe tlwaeditswe december phitlhelelokgolothutong tsokotsa selekanomotlakase dialama isizulu pagolola pagolola katiseditsweng katiseditsweng cem tshwanedi tanya masilo liezl relediseng liezl relediseng pusoselegaeng pusoselegaeng pusoselegaeng pusoselegaeng thanyani thanyani seraing hare thekontle thekontle tlwaetse kgaoganyi jg jg ditlamegong kgolokwetshipi tlhelele word cologne goditsweng davon boitumelo ditshodi senthara arabileng bosupa malebogo senthara speak boeledistweng nã¼rnberg 8000 r174 eleanor botå¡hetå¡hisi botå¡hetå¡hisi itsamaela kgotlelwa adonisi mangana johann tantshe maatlafadiwa moabedi gakologelweng feketiri moji issie senamelwa botlhagatlhaga lekwalotlhopho 1989 tshika ditlapele ditlapele phaposillene refugee publications hetta tile siphiwe batshwaring magwe golegilweng sekhutlong electronic dikhomphiutha sadiwa kosie r54 setswalo setswalo tshadi f13 segoke bolotloa 845 matsie presidential industrial industrial kolise kolise nokiwang rotloetseng obaobega\n",
            "1/1 [==============================] - 0s 112ms/step\n",
            "Current translation: tlwaeditswe tlwaeditswe december phitlhelelokgolothutong tsokotsa selekanomotlakase dialama isizulu pagolola pagolola katiseditsweng katiseditsweng cem tshwanedi tanya masilo liezl relediseng liezl relediseng pusoselegaeng pusoselegaeng pusoselegaeng pusoselegaeng thanyani thanyani seraing hare thekontle thekontle tlwaetse kgaoganyi jg jg ditlamegong kgolokwetshipi tlhelele word cologne goditsweng davon boitumelo ditshodi senthara arabileng bosupa malebogo senthara speak boeledistweng nã¼rnberg 8000 r174 eleanor botå¡hetå¡hisi botå¡hetå¡hisi itsamaela kgotlelwa adonisi mangana johann tantshe maatlafadiwa moabedi gakologelweng feketiri moji issie senamelwa botlhagatlhaga lekwalotlhopho 1989 tshika ditlapele ditlapele phaposillene refugee publications hetta tile siphiwe batshwaring magwe golegilweng sekhutlong electronic dikhomphiutha sadiwa kosie r54 setswalo setswalo tshadi f13 segoke bolotloa 845 matsie presidential industrial industrial kolise kolise nokiwang rotloetseng obaobega ngathiwa\n",
            "1/1 [==============================] - 0s 108ms/step\n",
            "Current translation: tlwaeditswe tlwaeditswe december phitlhelelokgolothutong tsokotsa selekanomotlakase dialama isizulu pagolola pagolola katiseditsweng katiseditsweng cem tshwanedi tanya masilo liezl relediseng liezl relediseng pusoselegaeng pusoselegaeng pusoselegaeng pusoselegaeng thanyani thanyani seraing hare thekontle thekontle tlwaetse kgaoganyi jg jg ditlamegong kgolokwetshipi tlhelele word cologne goditsweng davon boitumelo ditshodi senthara arabileng bosupa malebogo senthara speak boeledistweng nã¼rnberg 8000 r174 eleanor botå¡hetå¡hisi botå¡hetå¡hisi itsamaela kgotlelwa adonisi mangana johann tantshe maatlafadiwa moabedi gakologelweng feketiri moji issie senamelwa botlhagatlhaga lekwalotlhopho 1989 tshika ditlapele ditlapele phaposillene refugee publications hetta tile siphiwe batshwaring magwe golegilweng sekhutlong electronic dikhomphiutha sadiwa kosie r54 setswalo setswalo tshadi f13 segoke bolotloa 845 matsie presidential industrial industrial kolise kolise nokiwang rotloetseng obaobega ngathiwa tlhatlositsweng\n",
            "1/1 [==============================] - 0s 118ms/step\n",
            "Current translation: tlwaeditswe tlwaeditswe december phitlhelelokgolothutong tsokotsa selekanomotlakase dialama isizulu pagolola pagolola katiseditsweng katiseditsweng cem tshwanedi tanya masilo liezl relediseng liezl relediseng pusoselegaeng pusoselegaeng pusoselegaeng pusoselegaeng thanyani thanyani seraing hare thekontle thekontle tlwaetse kgaoganyi jg jg ditlamegong kgolokwetshipi tlhelele word cologne goditsweng davon boitumelo ditshodi senthara arabileng bosupa malebogo senthara speak boeledistweng nã¼rnberg 8000 r174 eleanor botå¡hetå¡hisi botå¡hetå¡hisi itsamaela kgotlelwa adonisi mangana johann tantshe maatlafadiwa moabedi gakologelweng feketiri moji issie senamelwa botlhagatlhaga lekwalotlhopho 1989 tshika ditlapele ditlapele phaposillene refugee publications hetta tile siphiwe batshwaring magwe golegilweng sekhutlong electronic dikhomphiutha sadiwa kosie r54 setswalo setswalo tshadi f13 segoke bolotloa 845 matsie presidential industrial industrial kolise kolise nokiwang rotloetseng obaobega ngathiwa tlhatlositsweng ingo\n",
            "1/1 [==============================] - 0s 104ms/step\n",
            "Current translation: tlwaeditswe tlwaeditswe december phitlhelelokgolothutong tsokotsa selekanomotlakase dialama isizulu pagolola pagolola katiseditsweng katiseditsweng cem tshwanedi tanya masilo liezl relediseng liezl relediseng pusoselegaeng pusoselegaeng pusoselegaeng pusoselegaeng thanyani thanyani seraing hare thekontle thekontle tlwaetse kgaoganyi jg jg ditlamegong kgolokwetshipi tlhelele word cologne goditsweng davon boitumelo ditshodi senthara arabileng bosupa malebogo senthara speak boeledistweng nã¼rnberg 8000 r174 eleanor botå¡hetå¡hisi botå¡hetå¡hisi itsamaela kgotlelwa adonisi mangana johann tantshe maatlafadiwa moabedi gakologelweng feketiri moji issie senamelwa botlhagatlhaga lekwalotlhopho 1989 tshika ditlapele ditlapele phaposillene refugee publications hetta tile siphiwe batshwaring magwe golegilweng sekhutlong electronic dikhomphiutha sadiwa kosie r54 setswalo setswalo tshadi f13 segoke bolotloa 845 matsie presidential industrial industrial kolise kolise nokiwang rotloetseng obaobega ngathiwa tlhatlositsweng ingo itshokelane\n",
            "1/1 [==============================] - 0s 78ms/step\n",
            "Current translation: tlwaeditswe tlwaeditswe december phitlhelelokgolothutong tsokotsa selekanomotlakase dialama isizulu pagolola pagolola katiseditsweng katiseditsweng cem tshwanedi tanya masilo liezl relediseng liezl relediseng pusoselegaeng pusoselegaeng pusoselegaeng pusoselegaeng thanyani thanyani seraing hare thekontle thekontle tlwaetse kgaoganyi jg jg ditlamegong kgolokwetshipi tlhelele word cologne goditsweng davon boitumelo ditshodi senthara arabileng bosupa malebogo senthara speak boeledistweng nã¼rnberg 8000 r174 eleanor botå¡hetå¡hisi botå¡hetå¡hisi itsamaela kgotlelwa adonisi mangana johann tantshe maatlafadiwa moabedi gakologelweng feketiri moji issie senamelwa botlhagatlhaga lekwalotlhopho 1989 tshika ditlapele ditlapele phaposillene refugee publications hetta tile siphiwe batshwaring magwe golegilweng sekhutlong electronic dikhomphiutha sadiwa kosie r54 setswalo setswalo tshadi f13 segoke bolotloa 845 matsie presidential industrial industrial kolise kolise nokiwang rotloetseng obaobega ngathiwa tlhatlositsweng ingo itshokelane ngateng\n",
            "1/1 [==============================] - 0s 76ms/step\n",
            "Current translation: tlwaeditswe tlwaeditswe december phitlhelelokgolothutong tsokotsa selekanomotlakase dialama isizulu pagolola pagolola katiseditsweng katiseditsweng cem tshwanedi tanya masilo liezl relediseng liezl relediseng pusoselegaeng pusoselegaeng pusoselegaeng pusoselegaeng thanyani thanyani seraing hare thekontle thekontle tlwaetse kgaoganyi jg jg ditlamegong kgolokwetshipi tlhelele word cologne goditsweng davon boitumelo ditshodi senthara arabileng bosupa malebogo senthara speak boeledistweng nã¼rnberg 8000 r174 eleanor botå¡hetå¡hisi botå¡hetå¡hisi itsamaela kgotlelwa adonisi mangana johann tantshe maatlafadiwa moabedi gakologelweng feketiri moji issie senamelwa botlhagatlhaga lekwalotlhopho 1989 tshika ditlapele ditlapele phaposillene refugee publications hetta tile siphiwe batshwaring magwe golegilweng sekhutlong electronic dikhomphiutha sadiwa kosie r54 setswalo setswalo tshadi f13 segoke bolotloa 845 matsie presidential industrial industrial kolise kolise nokiwang rotloetseng obaobega ngathiwa tlhatlositsweng ingo itshokelane ngateng ruantshwa\n",
            "1/1 [==============================] - 0s 76ms/step\n",
            "Current translation: tlwaeditswe tlwaeditswe december phitlhelelokgolothutong tsokotsa selekanomotlakase dialama isizulu pagolola pagolola katiseditsweng katiseditsweng cem tshwanedi tanya masilo liezl relediseng liezl relediseng pusoselegaeng pusoselegaeng pusoselegaeng pusoselegaeng thanyani thanyani seraing hare thekontle thekontle tlwaetse kgaoganyi jg jg ditlamegong kgolokwetshipi tlhelele word cologne goditsweng davon boitumelo ditshodi senthara arabileng bosupa malebogo senthara speak boeledistweng nã¼rnberg 8000 r174 eleanor botå¡hetå¡hisi botå¡hetå¡hisi itsamaela kgotlelwa adonisi mangana johann tantshe maatlafadiwa moabedi gakologelweng feketiri moji issie senamelwa botlhagatlhaga lekwalotlhopho 1989 tshika ditlapele ditlapele phaposillene refugee publications hetta tile siphiwe batshwaring magwe golegilweng sekhutlong electronic dikhomphiutha sadiwa kosie r54 setswalo setswalo tshadi f13 segoke bolotloa 845 matsie presidential industrial industrial kolise kolise nokiwang rotloetseng obaobega ngathiwa tlhatlositsweng ingo itshokelane ngateng ruantshwa manual\n",
            "1/1 [==============================] - 0s 83ms/step\n",
            "Current translation: tlwaeditswe tlwaeditswe december phitlhelelokgolothutong tsokotsa selekanomotlakase dialama isizulu pagolola pagolola katiseditsweng katiseditsweng cem tshwanedi tanya masilo liezl relediseng liezl relediseng pusoselegaeng pusoselegaeng pusoselegaeng pusoselegaeng thanyani thanyani seraing hare thekontle thekontle tlwaetse kgaoganyi jg jg ditlamegong kgolokwetshipi tlhelele word cologne goditsweng davon boitumelo ditshodi senthara arabileng bosupa malebogo senthara speak boeledistweng nã¼rnberg 8000 r174 eleanor botå¡hetå¡hisi botå¡hetå¡hisi itsamaela kgotlelwa adonisi mangana johann tantshe maatlafadiwa moabedi gakologelweng feketiri moji issie senamelwa botlhagatlhaga lekwalotlhopho 1989 tshika ditlapele ditlapele phaposillene refugee publications hetta tile siphiwe batshwaring magwe golegilweng sekhutlong electronic dikhomphiutha sadiwa kosie r54 setswalo setswalo tshadi f13 segoke bolotloa 845 matsie presidential industrial industrial kolise kolise nokiwang rotloetseng obaobega ngathiwa tlhatlositsweng ingo itshokelane ngateng ruantshwa manual ruantshwa\n",
            "1/1 [==============================] - 0s 81ms/step\n",
            "Current translation: tlwaeditswe tlwaeditswe december phitlhelelokgolothutong tsokotsa selekanomotlakase dialama isizulu pagolola pagolola katiseditsweng katiseditsweng cem tshwanedi tanya masilo liezl relediseng liezl relediseng pusoselegaeng pusoselegaeng pusoselegaeng pusoselegaeng thanyani thanyani seraing hare thekontle thekontle tlwaetse kgaoganyi jg jg ditlamegong kgolokwetshipi tlhelele word cologne goditsweng davon boitumelo ditshodi senthara arabileng bosupa malebogo senthara speak boeledistweng nã¼rnberg 8000 r174 eleanor botå¡hetå¡hisi botå¡hetå¡hisi itsamaela kgotlelwa adonisi mangana johann tantshe maatlafadiwa moabedi gakologelweng feketiri moji issie senamelwa botlhagatlhaga lekwalotlhopho 1989 tshika ditlapele ditlapele phaposillene refugee publications hetta tile siphiwe batshwaring magwe golegilweng sekhutlong electronic dikhomphiutha sadiwa kosie r54 setswalo setswalo tshadi f13 segoke bolotloa 845 matsie presidential industrial industrial kolise kolise nokiwang rotloetseng obaobega ngathiwa tlhatlositsweng ingo itshokelane ngateng ruantshwa manual ruantshwa manual\n",
            "1/1 [==============================] - 0s 106ms/step\n",
            "Current translation: tlwaeditswe tlwaeditswe december phitlhelelokgolothutong tsokotsa selekanomotlakase dialama isizulu pagolola pagolola katiseditsweng katiseditsweng cem tshwanedi tanya masilo liezl relediseng liezl relediseng pusoselegaeng pusoselegaeng pusoselegaeng pusoselegaeng thanyani thanyani seraing hare thekontle thekontle tlwaetse kgaoganyi jg jg ditlamegong kgolokwetshipi tlhelele word cologne goditsweng davon boitumelo ditshodi senthara arabileng bosupa malebogo senthara speak boeledistweng nã¼rnberg 8000 r174 eleanor botå¡hetå¡hisi botå¡hetå¡hisi itsamaela kgotlelwa adonisi mangana johann tantshe maatlafadiwa moabedi gakologelweng feketiri moji issie senamelwa botlhagatlhaga lekwalotlhopho 1989 tshika ditlapele ditlapele phaposillene refugee publications hetta tile siphiwe batshwaring magwe golegilweng sekhutlong electronic dikhomphiutha sadiwa kosie r54 setswalo setswalo tshadi f13 segoke bolotloa 845 matsie presidential industrial industrial kolise kolise nokiwang rotloetseng obaobega ngathiwa tlhatlositsweng ingo itshokelane ngateng ruantshwa manual ruantshwa manual objects\n",
            "1/1 [==============================] - 0s 78ms/step\n",
            "Current translation: tlwaeditswe tlwaeditswe december phitlhelelokgolothutong tsokotsa selekanomotlakase dialama isizulu pagolola pagolola katiseditsweng katiseditsweng cem tshwanedi tanya masilo liezl relediseng liezl relediseng pusoselegaeng pusoselegaeng pusoselegaeng pusoselegaeng thanyani thanyani seraing hare thekontle thekontle tlwaetse kgaoganyi jg jg ditlamegong kgolokwetshipi tlhelele word cologne goditsweng davon boitumelo ditshodi senthara arabileng bosupa malebogo senthara speak boeledistweng nã¼rnberg 8000 r174 eleanor botå¡hetå¡hisi botå¡hetå¡hisi itsamaela kgotlelwa adonisi mangana johann tantshe maatlafadiwa moabedi gakologelweng feketiri moji issie senamelwa botlhagatlhaga lekwalotlhopho 1989 tshika ditlapele ditlapele phaposillene refugee publications hetta tile siphiwe batshwaring magwe golegilweng sekhutlong electronic dikhomphiutha sadiwa kosie r54 setswalo setswalo tshadi f13 segoke bolotloa 845 matsie presidential industrial industrial kolise kolise nokiwang rotloetseng obaobega ngathiwa tlhatlositsweng ingo itshokelane ngateng ruantshwa manual ruantshwa manual objects manual\n",
            "1/1 [==============================] - 0s 89ms/step\n",
            "Current translation: tlwaeditswe tlwaeditswe december phitlhelelokgolothutong tsokotsa selekanomotlakase dialama isizulu pagolola pagolola katiseditsweng katiseditsweng cem tshwanedi tanya masilo liezl relediseng liezl relediseng pusoselegaeng pusoselegaeng pusoselegaeng pusoselegaeng thanyani thanyani seraing hare thekontle thekontle tlwaetse kgaoganyi jg jg ditlamegong kgolokwetshipi tlhelele word cologne goditsweng davon boitumelo ditshodi senthara arabileng bosupa malebogo senthara speak boeledistweng nã¼rnberg 8000 r174 eleanor botå¡hetå¡hisi botå¡hetå¡hisi itsamaela kgotlelwa adonisi mangana johann tantshe maatlafadiwa moabedi gakologelweng feketiri moji issie senamelwa botlhagatlhaga lekwalotlhopho 1989 tshika ditlapele ditlapele phaposillene refugee publications hetta tile siphiwe batshwaring magwe golegilweng sekhutlong electronic dikhomphiutha sadiwa kosie r54 setswalo setswalo tshadi f13 segoke bolotloa 845 matsie presidential industrial industrial kolise kolise nokiwang rotloetseng obaobega ngathiwa tlhatlositsweng ingo itshokelane ngateng ruantshwa manual ruantshwa manual objects manual intå¡hwafatsa\n",
            "1/1 [==============================] - 0s 88ms/step\n",
            "Current translation: tlwaeditswe tlwaeditswe december phitlhelelokgolothutong tsokotsa selekanomotlakase dialama isizulu pagolola pagolola katiseditsweng katiseditsweng cem tshwanedi tanya masilo liezl relediseng liezl relediseng pusoselegaeng pusoselegaeng pusoselegaeng pusoselegaeng thanyani thanyani seraing hare thekontle thekontle tlwaetse kgaoganyi jg jg ditlamegong kgolokwetshipi tlhelele word cologne goditsweng davon boitumelo ditshodi senthara arabileng bosupa malebogo senthara speak boeledistweng nã¼rnberg 8000 r174 eleanor botå¡hetå¡hisi botå¡hetå¡hisi itsamaela kgotlelwa adonisi mangana johann tantshe maatlafadiwa moabedi gakologelweng feketiri moji issie senamelwa botlhagatlhaga lekwalotlhopho 1989 tshika ditlapele ditlapele phaposillene refugee publications hetta tile siphiwe batshwaring magwe golegilweng sekhutlong electronic dikhomphiutha sadiwa kosie r54 setswalo setswalo tshadi f13 segoke bolotloa 845 matsie presidential industrial industrial kolise kolise nokiwang rotloetseng obaobega ngathiwa tlhatlositsweng ingo itshokelane ngateng ruantshwa manual ruantshwa manual objects manual intå¡hwafatsa tshenolo\n",
            "1/1 [==============================] - 0s 90ms/step\n",
            "Current translation: tlwaeditswe tlwaeditswe december phitlhelelokgolothutong tsokotsa selekanomotlakase dialama isizulu pagolola pagolola katiseditsweng katiseditsweng cem tshwanedi tanya masilo liezl relediseng liezl relediseng pusoselegaeng pusoselegaeng pusoselegaeng pusoselegaeng thanyani thanyani seraing hare thekontle thekontle tlwaetse kgaoganyi jg jg ditlamegong kgolokwetshipi tlhelele word cologne goditsweng davon boitumelo ditshodi senthara arabileng bosupa malebogo senthara speak boeledistweng nã¼rnberg 8000 r174 eleanor botå¡hetå¡hisi botå¡hetå¡hisi itsamaela kgotlelwa adonisi mangana johann tantshe maatlafadiwa moabedi gakologelweng feketiri moji issie senamelwa botlhagatlhaga lekwalotlhopho 1989 tshika ditlapele ditlapele phaposillene refugee publications hetta tile siphiwe batshwaring magwe golegilweng sekhutlong electronic dikhomphiutha sadiwa kosie r54 setswalo setswalo tshadi f13 segoke bolotloa 845 matsie presidential industrial industrial kolise kolise nokiwang rotloetseng obaobega ngathiwa tlhatlositsweng ingo itshokelane ngateng ruantshwa manual ruantshwa manual objects manual intå¡hwafatsa tshenolo seikaeledi\n",
            "1/1 [==============================] - 0s 80ms/step\n",
            "Current translation: tlwaeditswe tlwaeditswe december phitlhelelokgolothutong tsokotsa selekanomotlakase dialama isizulu pagolola pagolola katiseditsweng katiseditsweng cem tshwanedi tanya masilo liezl relediseng liezl relediseng pusoselegaeng pusoselegaeng pusoselegaeng pusoselegaeng thanyani thanyani seraing hare thekontle thekontle tlwaetse kgaoganyi jg jg ditlamegong kgolokwetshipi tlhelele word cologne goditsweng davon boitumelo ditshodi senthara arabileng bosupa malebogo senthara speak boeledistweng nã¼rnberg 8000 r174 eleanor botå¡hetå¡hisi botå¡hetå¡hisi itsamaela kgotlelwa adonisi mangana johann tantshe maatlafadiwa moabedi gakologelweng feketiri moji issie senamelwa botlhagatlhaga lekwalotlhopho 1989 tshika ditlapele ditlapele phaposillene refugee publications hetta tile siphiwe batshwaring magwe golegilweng sekhutlong electronic dikhomphiutha sadiwa kosie r54 setswalo setswalo tshadi f13 segoke bolotloa 845 matsie presidential industrial industrial kolise kolise nokiwang rotloetseng obaobega ngathiwa tlhatlositsweng ingo itshokelane ngateng ruantshwa manual ruantshwa manual objects manual intå¡hwafatsa tshenolo seikaeledi mogakaganyi\n",
            "1/1 [==============================] - 0s 88ms/step\n",
            "Current translation: tlwaeditswe tlwaeditswe december phitlhelelokgolothutong tsokotsa selekanomotlakase dialama isizulu pagolola pagolola katiseditsweng katiseditsweng cem tshwanedi tanya masilo liezl relediseng liezl relediseng pusoselegaeng pusoselegaeng pusoselegaeng pusoselegaeng thanyani thanyani seraing hare thekontle thekontle tlwaetse kgaoganyi jg jg ditlamegong kgolokwetshipi tlhelele word cologne goditsweng davon boitumelo ditshodi senthara arabileng bosupa malebogo senthara speak boeledistweng nã¼rnberg 8000 r174 eleanor botå¡hetå¡hisi botå¡hetå¡hisi itsamaela kgotlelwa adonisi mangana johann tantshe maatlafadiwa moabedi gakologelweng feketiri moji issie senamelwa botlhagatlhaga lekwalotlhopho 1989 tshika ditlapele ditlapele phaposillene refugee publications hetta tile siphiwe batshwaring magwe golegilweng sekhutlong electronic dikhomphiutha sadiwa kosie r54 setswalo setswalo tshadi f13 segoke bolotloa 845 matsie presidential industrial industrial kolise kolise nokiwang rotloetseng obaobega ngathiwa tlhatlositsweng ingo itshokelane ngateng ruantshwa manual ruantshwa manual objects manual intå¡hwafatsa tshenolo seikaeledi mogakaganyi kgoreletsang\n",
            "1/1 [==============================] - 0s 84ms/step\n",
            "Current translation: tlwaeditswe tlwaeditswe december phitlhelelokgolothutong tsokotsa selekanomotlakase dialama isizulu pagolola pagolola katiseditsweng katiseditsweng cem tshwanedi tanya masilo liezl relediseng liezl relediseng pusoselegaeng pusoselegaeng pusoselegaeng pusoselegaeng thanyani thanyani seraing hare thekontle thekontle tlwaetse kgaoganyi jg jg ditlamegong kgolokwetshipi tlhelele word cologne goditsweng davon boitumelo ditshodi senthara arabileng bosupa malebogo senthara speak boeledistweng nã¼rnberg 8000 r174 eleanor botå¡hetå¡hisi botå¡hetå¡hisi itsamaela kgotlelwa adonisi mangana johann tantshe maatlafadiwa moabedi gakologelweng feketiri moji issie senamelwa botlhagatlhaga lekwalotlhopho 1989 tshika ditlapele ditlapele phaposillene refugee publications hetta tile siphiwe batshwaring magwe golegilweng sekhutlong electronic dikhomphiutha sadiwa kosie r54 setswalo setswalo tshadi f13 segoke bolotloa 845 matsie presidential industrial industrial kolise kolise nokiwang rotloetseng obaobega ngathiwa tlhatlositsweng ingo itshokelane ngateng ruantshwa manual ruantshwa manual objects manual intå¡hwafatsa tshenolo seikaeledi mogakaganyi kgoreletsang lobethal\n",
            "1/1 [==============================] - 0s 105ms/step\n",
            "Current translation: tlwaeditswe tlwaeditswe december phitlhelelokgolothutong tsokotsa selekanomotlakase dialama isizulu pagolola pagolola katiseditsweng katiseditsweng cem tshwanedi tanya masilo liezl relediseng liezl relediseng pusoselegaeng pusoselegaeng pusoselegaeng pusoselegaeng thanyani thanyani seraing hare thekontle thekontle tlwaetse kgaoganyi jg jg ditlamegong kgolokwetshipi tlhelele word cologne goditsweng davon boitumelo ditshodi senthara arabileng bosupa malebogo senthara speak boeledistweng nã¼rnberg 8000 r174 eleanor botå¡hetå¡hisi botå¡hetå¡hisi itsamaela kgotlelwa adonisi mangana johann tantshe maatlafadiwa moabedi gakologelweng feketiri moji issie senamelwa botlhagatlhaga lekwalotlhopho 1989 tshika ditlapele ditlapele phaposillene refugee publications hetta tile siphiwe batshwaring magwe golegilweng sekhutlong electronic dikhomphiutha sadiwa kosie r54 setswalo setswalo tshadi f13 segoke bolotloa 845 matsie presidential industrial industrial kolise kolise nokiwang rotloetseng obaobega ngathiwa tlhatlositsweng ingo itshokelane ngateng ruantshwa manual ruantshwa manual objects manual intå¡hwafatsa tshenolo seikaeledi mogakaganyi kgoreletsang lobethal dumalalanweng\n",
            "1/1 [==============================] - 0s 79ms/step\n",
            "Current translation: tlwaeditswe tlwaeditswe december phitlhelelokgolothutong tsokotsa selekanomotlakase dialama isizulu pagolola pagolola katiseditsweng katiseditsweng cem tshwanedi tanya masilo liezl relediseng liezl relediseng pusoselegaeng pusoselegaeng pusoselegaeng pusoselegaeng thanyani thanyani seraing hare thekontle thekontle tlwaetse kgaoganyi jg jg ditlamegong kgolokwetshipi tlhelele word cologne goditsweng davon boitumelo ditshodi senthara arabileng bosupa malebogo senthara speak boeledistweng nã¼rnberg 8000 r174 eleanor botå¡hetå¡hisi botå¡hetå¡hisi itsamaela kgotlelwa adonisi mangana johann tantshe maatlafadiwa moabedi gakologelweng feketiri moji issie senamelwa botlhagatlhaga lekwalotlhopho 1989 tshika ditlapele ditlapele phaposillene refugee publications hetta tile siphiwe batshwaring magwe golegilweng sekhutlong electronic dikhomphiutha sadiwa kosie r54 setswalo setswalo tshadi f13 segoke bolotloa 845 matsie presidential industrial industrial kolise kolise nokiwang rotloetseng obaobega ngathiwa tlhatlositsweng ingo itshokelane ngateng ruantshwa manual ruantshwa manual objects manual intå¡hwafatsa tshenolo seikaeledi mogakaganyi kgoreletsang lobethal dumalalanweng tseo\n",
            "1/1 [==============================] - 0s 87ms/step\n",
            "Current translation: tlwaeditswe tlwaeditswe december phitlhelelokgolothutong tsokotsa selekanomotlakase dialama isizulu pagolola pagolola katiseditsweng katiseditsweng cem tshwanedi tanya masilo liezl relediseng liezl relediseng pusoselegaeng pusoselegaeng pusoselegaeng pusoselegaeng thanyani thanyani seraing hare thekontle thekontle tlwaetse kgaoganyi jg jg ditlamegong kgolokwetshipi tlhelele word cologne goditsweng davon boitumelo ditshodi senthara arabileng bosupa malebogo senthara speak boeledistweng nã¼rnberg 8000 r174 eleanor botå¡hetå¡hisi botå¡hetå¡hisi itsamaela kgotlelwa adonisi mangana johann tantshe maatlafadiwa moabedi gakologelweng feketiri moji issie senamelwa botlhagatlhaga lekwalotlhopho 1989 tshika ditlapele ditlapele phaposillene refugee publications hetta tile siphiwe batshwaring magwe golegilweng sekhutlong electronic dikhomphiutha sadiwa kosie r54 setswalo setswalo tshadi f13 segoke bolotloa 845 matsie presidential industrial industrial kolise kolise nokiwang rotloetseng obaobega ngathiwa tlhatlositsweng ingo itshokelane ngateng ruantshwa manual ruantshwa manual objects manual intå¡hwafatsa tshenolo seikaeledi mogakaganyi kgoreletsang lobethal dumalalanweng tseo matshoba\n",
            "1/1 [==============================] - 0s 86ms/step\n",
            "Current translation: tlwaeditswe tlwaeditswe december phitlhelelokgolothutong tsokotsa selekanomotlakase dialama isizulu pagolola pagolola katiseditsweng katiseditsweng cem tshwanedi tanya masilo liezl relediseng liezl relediseng pusoselegaeng pusoselegaeng pusoselegaeng pusoselegaeng thanyani thanyani seraing hare thekontle thekontle tlwaetse kgaoganyi jg jg ditlamegong kgolokwetshipi tlhelele word cologne goditsweng davon boitumelo ditshodi senthara arabileng bosupa malebogo senthara speak boeledistweng nã¼rnberg 8000 r174 eleanor botå¡hetå¡hisi botå¡hetå¡hisi itsamaela kgotlelwa adonisi mangana johann tantshe maatlafadiwa moabedi gakologelweng feketiri moji issie senamelwa botlhagatlhaga lekwalotlhopho 1989 tshika ditlapele ditlapele phaposillene refugee publications hetta tile siphiwe batshwaring magwe golegilweng sekhutlong electronic dikhomphiutha sadiwa kosie r54 setswalo setswalo tshadi f13 segoke bolotloa 845 matsie presidential industrial industrial kolise kolise nokiwang rotloetseng obaobega ngathiwa tlhatlositsweng ingo itshokelane ngateng ruantshwa manual ruantshwa manual objects manual intå¡hwafatsa tshenolo seikaeledi mogakaganyi kgoreletsang lobethal dumalalanweng tseo matshoba andia\n",
            "1/1 [==============================] - 0s 74ms/step\n",
            "Current translation: tlwaeditswe tlwaeditswe december phitlhelelokgolothutong tsokotsa selekanomotlakase dialama isizulu pagolola pagolola katiseditsweng katiseditsweng cem tshwanedi tanya masilo liezl relediseng liezl relediseng pusoselegaeng pusoselegaeng pusoselegaeng pusoselegaeng thanyani thanyani seraing hare thekontle thekontle tlwaetse kgaoganyi jg jg ditlamegong kgolokwetshipi tlhelele word cologne goditsweng davon boitumelo ditshodi senthara arabileng bosupa malebogo senthara speak boeledistweng nã¼rnberg 8000 r174 eleanor botå¡hetå¡hisi botå¡hetå¡hisi itsamaela kgotlelwa adonisi mangana johann tantshe maatlafadiwa moabedi gakologelweng feketiri moji issie senamelwa botlhagatlhaga lekwalotlhopho 1989 tshika ditlapele ditlapele phaposillene refugee publications hetta tile siphiwe batshwaring magwe golegilweng sekhutlong electronic dikhomphiutha sadiwa kosie r54 setswalo setswalo tshadi f13 segoke bolotloa 845 matsie presidential industrial industrial kolise kolise nokiwang rotloetseng obaobega ngathiwa tlhatlositsweng ingo itshokelane ngateng ruantshwa manual ruantshwa manual objects manual intå¡hwafatsa tshenolo seikaeledi mogakaganyi kgoreletsang lobethal dumalalanweng tseo matshoba andia nama\n",
            "1/1 [==============================] - 0s 62ms/step\n",
            "Current translation: tlwaeditswe tlwaeditswe december phitlhelelokgolothutong tsokotsa selekanomotlakase dialama isizulu pagolola pagolola katiseditsweng katiseditsweng cem tshwanedi tanya masilo liezl relediseng liezl relediseng pusoselegaeng pusoselegaeng pusoselegaeng pusoselegaeng thanyani thanyani seraing hare thekontle thekontle tlwaetse kgaoganyi jg jg ditlamegong kgolokwetshipi tlhelele word cologne goditsweng davon boitumelo ditshodi senthara arabileng bosupa malebogo senthara speak boeledistweng nã¼rnberg 8000 r174 eleanor botå¡hetå¡hisi botå¡hetå¡hisi itsamaela kgotlelwa adonisi mangana johann tantshe maatlafadiwa moabedi gakologelweng feketiri moji issie senamelwa botlhagatlhaga lekwalotlhopho 1989 tshika ditlapele ditlapele phaposillene refugee publications hetta tile siphiwe batshwaring magwe golegilweng sekhutlong electronic dikhomphiutha sadiwa kosie r54 setswalo setswalo tshadi f13 segoke bolotloa 845 matsie presidential industrial industrial kolise kolise nokiwang rotloetseng obaobega ngathiwa tlhatlositsweng ingo itshokelane ngateng ruantshwa manual ruantshwa manual objects manual intå¡hwafatsa tshenolo seikaeledi mogakaganyi kgoreletsang lobethal dumalalanweng tseo matshoba andia nama mobopi\n",
            "1/1 [==============================] - 0s 60ms/step\n",
            "Current translation: tlwaeditswe tlwaeditswe december phitlhelelokgolothutong tsokotsa selekanomotlakase dialama isizulu pagolola pagolola katiseditsweng katiseditsweng cem tshwanedi tanya masilo liezl relediseng liezl relediseng pusoselegaeng pusoselegaeng pusoselegaeng pusoselegaeng thanyani thanyani seraing hare thekontle thekontle tlwaetse kgaoganyi jg jg ditlamegong kgolokwetshipi tlhelele word cologne goditsweng davon boitumelo ditshodi senthara arabileng bosupa malebogo senthara speak boeledistweng nã¼rnberg 8000 r174 eleanor botå¡hetå¡hisi botå¡hetå¡hisi itsamaela kgotlelwa adonisi mangana johann tantshe maatlafadiwa moabedi gakologelweng feketiri moji issie senamelwa botlhagatlhaga lekwalotlhopho 1989 tshika ditlapele ditlapele phaposillene refugee publications hetta tile siphiwe batshwaring magwe golegilweng sekhutlong electronic dikhomphiutha sadiwa kosie r54 setswalo setswalo tshadi f13 segoke bolotloa 845 matsie presidential industrial industrial kolise kolise nokiwang rotloetseng obaobega ngathiwa tlhatlositsweng ingo itshokelane ngateng ruantshwa manual ruantshwa manual objects manual intå¡hwafatsa tshenolo seikaeledi mogakaganyi kgoreletsang lobethal dumalalanweng tseo matshoba andia nama mobopi charts\n",
            "1/1 [==============================] - 0s 58ms/step\n",
            "Current translation: tlwaeditswe tlwaeditswe december phitlhelelokgolothutong tsokotsa selekanomotlakase dialama isizulu pagolola pagolola katiseditsweng katiseditsweng cem tshwanedi tanya masilo liezl relediseng liezl relediseng pusoselegaeng pusoselegaeng pusoselegaeng pusoselegaeng thanyani thanyani seraing hare thekontle thekontle tlwaetse kgaoganyi jg jg ditlamegong kgolokwetshipi tlhelele word cologne goditsweng davon boitumelo ditshodi senthara arabileng bosupa malebogo senthara speak boeledistweng nã¼rnberg 8000 r174 eleanor botå¡hetå¡hisi botå¡hetå¡hisi itsamaela kgotlelwa adonisi mangana johann tantshe maatlafadiwa moabedi gakologelweng feketiri moji issie senamelwa botlhagatlhaga lekwalotlhopho 1989 tshika ditlapele ditlapele phaposillene refugee publications hetta tile siphiwe batshwaring magwe golegilweng sekhutlong electronic dikhomphiutha sadiwa kosie r54 setswalo setswalo tshadi f13 segoke bolotloa 845 matsie presidential industrial industrial kolise kolise nokiwang rotloetseng obaobega ngathiwa tlhatlositsweng ingo itshokelane ngateng ruantshwa manual ruantshwa manual objects manual intå¡hwafatsa tshenolo seikaeledi mogakaganyi kgoreletsang lobethal dumalalanweng tseo matshoba andia nama mobopi charts board\n",
            "1/1 [==============================] - 0s 62ms/step\n",
            "Current translation: tlwaeditswe tlwaeditswe december phitlhelelokgolothutong tsokotsa selekanomotlakase dialama isizulu pagolola pagolola katiseditsweng katiseditsweng cem tshwanedi tanya masilo liezl relediseng liezl relediseng pusoselegaeng pusoselegaeng pusoselegaeng pusoselegaeng thanyani thanyani seraing hare thekontle thekontle tlwaetse kgaoganyi jg jg ditlamegong kgolokwetshipi tlhelele word cologne goditsweng davon boitumelo ditshodi senthara arabileng bosupa malebogo senthara speak boeledistweng nã¼rnberg 8000 r174 eleanor botå¡hetå¡hisi botå¡hetå¡hisi itsamaela kgotlelwa adonisi mangana johann tantshe maatlafadiwa moabedi gakologelweng feketiri moji issie senamelwa botlhagatlhaga lekwalotlhopho 1989 tshika ditlapele ditlapele phaposillene refugee publications hetta tile siphiwe batshwaring magwe golegilweng sekhutlong electronic dikhomphiutha sadiwa kosie r54 setswalo setswalo tshadi f13 segoke bolotloa 845 matsie presidential industrial industrial kolise kolise nokiwang rotloetseng obaobega ngathiwa tlhatlositsweng ingo itshokelane ngateng ruantshwa manual ruantshwa manual objects manual intå¡hwafatsa tshenolo seikaeledi mogakaganyi kgoreletsang lobethal dumalalanweng tseo matshoba andia nama mobopi charts board supile\n",
            "1/1 [==============================] - 0s 57ms/step\n",
            "Current translation: tlwaeditswe tlwaeditswe december phitlhelelokgolothutong tsokotsa selekanomotlakase dialama isizulu pagolola pagolola katiseditsweng katiseditsweng cem tshwanedi tanya masilo liezl relediseng liezl relediseng pusoselegaeng pusoselegaeng pusoselegaeng pusoselegaeng thanyani thanyani seraing hare thekontle thekontle tlwaetse kgaoganyi jg jg ditlamegong kgolokwetshipi tlhelele word cologne goditsweng davon boitumelo ditshodi senthara arabileng bosupa malebogo senthara speak boeledistweng nã¼rnberg 8000 r174 eleanor botå¡hetå¡hisi botå¡hetå¡hisi itsamaela kgotlelwa adonisi mangana johann tantshe maatlafadiwa moabedi gakologelweng feketiri moji issie senamelwa botlhagatlhaga lekwalotlhopho 1989 tshika ditlapele ditlapele phaposillene refugee publications hetta tile siphiwe batshwaring magwe golegilweng sekhutlong electronic dikhomphiutha sadiwa kosie r54 setswalo setswalo tshadi f13 segoke bolotloa 845 matsie presidential industrial industrial kolise kolise nokiwang rotloetseng obaobega ngathiwa tlhatlositsweng ingo itshokelane ngateng ruantshwa manual ruantshwa manual objects manual intå¡hwafatsa tshenolo seikaeledi mogakaganyi kgoreletsang lobethal dumalalanweng tseo matshoba andia nama mobopi charts board supile bannye\n",
            "1/1 [==============================] - 0s 61ms/step\n",
            "Current translation: tlwaeditswe tlwaeditswe december phitlhelelokgolothutong tsokotsa selekanomotlakase dialama isizulu pagolola pagolola katiseditsweng katiseditsweng cem tshwanedi tanya masilo liezl relediseng liezl relediseng pusoselegaeng pusoselegaeng pusoselegaeng pusoselegaeng thanyani thanyani seraing hare thekontle thekontle tlwaetse kgaoganyi jg jg ditlamegong kgolokwetshipi tlhelele word cologne goditsweng davon boitumelo ditshodi senthara arabileng bosupa malebogo senthara speak boeledistweng nã¼rnberg 8000 r174 eleanor botå¡hetå¡hisi botå¡hetå¡hisi itsamaela kgotlelwa adonisi mangana johann tantshe maatlafadiwa moabedi gakologelweng feketiri moji issie senamelwa botlhagatlhaga lekwalotlhopho 1989 tshika ditlapele ditlapele phaposillene refugee publications hetta tile siphiwe batshwaring magwe golegilweng sekhutlong electronic dikhomphiutha sadiwa kosie r54 setswalo setswalo tshadi f13 segoke bolotloa 845 matsie presidential industrial industrial kolise kolise nokiwang rotloetseng obaobega ngathiwa tlhatlositsweng ingo itshokelane ngateng ruantshwa manual ruantshwa manual objects manual intå¡hwafatsa tshenolo seikaeledi mogakaganyi kgoreletsang lobethal dumalalanweng tseo matshoba andia nama mobopi charts board supile bannye tlhomolang\n",
            "1/1 [==============================] - 0s 63ms/step\n",
            "Current translation: tlwaeditswe tlwaeditswe december phitlhelelokgolothutong tsokotsa selekanomotlakase dialama isizulu pagolola pagolola katiseditsweng katiseditsweng cem tshwanedi tanya masilo liezl relediseng liezl relediseng pusoselegaeng pusoselegaeng pusoselegaeng pusoselegaeng thanyani thanyani seraing hare thekontle thekontle tlwaetse kgaoganyi jg jg ditlamegong kgolokwetshipi tlhelele word cologne goditsweng davon boitumelo ditshodi senthara arabileng bosupa malebogo senthara speak boeledistweng nã¼rnberg 8000 r174 eleanor botå¡hetå¡hisi botå¡hetå¡hisi itsamaela kgotlelwa adonisi mangana johann tantshe maatlafadiwa moabedi gakologelweng feketiri moji issie senamelwa botlhagatlhaga lekwalotlhopho 1989 tshika ditlapele ditlapele phaposillene refugee publications hetta tile siphiwe batshwaring magwe golegilweng sekhutlong electronic dikhomphiutha sadiwa kosie r54 setswalo setswalo tshadi f13 segoke bolotloa 845 matsie presidential industrial industrial kolise kolise nokiwang rotloetseng obaobega ngathiwa tlhatlositsweng ingo itshokelane ngateng ruantshwa manual ruantshwa manual objects manual intå¡hwafatsa tshenolo seikaeledi mogakaganyi kgoreletsang lobethal dumalalanweng tseo matshoba andia nama mobopi charts board supile bannye tlhomolang botanic\n",
            "1/1 [==============================] - 0s 57ms/step\n",
            "Current translation: tlwaeditswe tlwaeditswe december phitlhelelokgolothutong tsokotsa selekanomotlakase dialama isizulu pagolola pagolola katiseditsweng katiseditsweng cem tshwanedi tanya masilo liezl relediseng liezl relediseng pusoselegaeng pusoselegaeng pusoselegaeng pusoselegaeng thanyani thanyani seraing hare thekontle thekontle tlwaetse kgaoganyi jg jg ditlamegong kgolokwetshipi tlhelele word cologne goditsweng davon boitumelo ditshodi senthara arabileng bosupa malebogo senthara speak boeledistweng nã¼rnberg 8000 r174 eleanor botå¡hetå¡hisi botå¡hetå¡hisi itsamaela kgotlelwa adonisi mangana johann tantshe maatlafadiwa moabedi gakologelweng feketiri moji issie senamelwa botlhagatlhaga lekwalotlhopho 1989 tshika ditlapele ditlapele phaposillene refugee publications hetta tile siphiwe batshwaring magwe golegilweng sekhutlong electronic dikhomphiutha sadiwa kosie r54 setswalo setswalo tshadi f13 segoke bolotloa 845 matsie presidential industrial industrial kolise kolise nokiwang rotloetseng obaobega ngathiwa tlhatlositsweng ingo itshokelane ngateng ruantshwa manual ruantshwa manual objects manual intå¡hwafatsa tshenolo seikaeledi mogakaganyi kgoreletsang lobethal dumalalanweng tseo matshoba andia nama mobopi charts board supile bannye tlhomolang botanic kleynhans\n",
            "1/1 [==============================] - 0s 59ms/step\n",
            "Current translation: tlwaeditswe tlwaeditswe december phitlhelelokgolothutong tsokotsa selekanomotlakase dialama isizulu pagolola pagolola katiseditsweng katiseditsweng cem tshwanedi tanya masilo liezl relediseng liezl relediseng pusoselegaeng pusoselegaeng pusoselegaeng pusoselegaeng thanyani thanyani seraing hare thekontle thekontle tlwaetse kgaoganyi jg jg ditlamegong kgolokwetshipi tlhelele word cologne goditsweng davon boitumelo ditshodi senthara arabileng bosupa malebogo senthara speak boeledistweng nã¼rnberg 8000 r174 eleanor botå¡hetå¡hisi botå¡hetå¡hisi itsamaela kgotlelwa adonisi mangana johann tantshe maatlafadiwa moabedi gakologelweng feketiri moji issie senamelwa botlhagatlhaga lekwalotlhopho 1989 tshika ditlapele ditlapele phaposillene refugee publications hetta tile siphiwe batshwaring magwe golegilweng sekhutlong electronic dikhomphiutha sadiwa kosie r54 setswalo setswalo tshadi f13 segoke bolotloa 845 matsie presidential industrial industrial kolise kolise nokiwang rotloetseng obaobega ngathiwa tlhatlositsweng ingo itshokelane ngateng ruantshwa manual ruantshwa manual objects manual intå¡hwafatsa tshenolo seikaeledi mogakaganyi kgoreletsang lobethal dumalalanweng tseo matshoba andia nama mobopi charts board supile bannye tlhomolang botanic kleynhans batsei\n",
            "1/1 [==============================] - 0s 57ms/step\n",
            "Current translation: tlwaeditswe tlwaeditswe december phitlhelelokgolothutong tsokotsa selekanomotlakase dialama isizulu pagolola pagolola katiseditsweng katiseditsweng cem tshwanedi tanya masilo liezl relediseng liezl relediseng pusoselegaeng pusoselegaeng pusoselegaeng pusoselegaeng thanyani thanyani seraing hare thekontle thekontle tlwaetse kgaoganyi jg jg ditlamegong kgolokwetshipi tlhelele word cologne goditsweng davon boitumelo ditshodi senthara arabileng bosupa malebogo senthara speak boeledistweng nã¼rnberg 8000 r174 eleanor botå¡hetå¡hisi botå¡hetå¡hisi itsamaela kgotlelwa adonisi mangana johann tantshe maatlafadiwa moabedi gakologelweng feketiri moji issie senamelwa botlhagatlhaga lekwalotlhopho 1989 tshika ditlapele ditlapele phaposillene refugee publications hetta tile siphiwe batshwaring magwe golegilweng sekhutlong electronic dikhomphiutha sadiwa kosie r54 setswalo setswalo tshadi f13 segoke bolotloa 845 matsie presidential industrial industrial kolise kolise nokiwang rotloetseng obaobega ngathiwa tlhatlositsweng ingo itshokelane ngateng ruantshwa manual ruantshwa manual objects manual intå¡hwafatsa tshenolo seikaeledi mogakaganyi kgoreletsang lobethal dumalalanweng tseo matshoba andia nama mobopi charts board supile bannye tlhomolang botanic kleynhans batsei kleynhans\n",
            "1/1 [==============================] - 0s 57ms/step\n",
            "Current translation: tlwaeditswe tlwaeditswe december phitlhelelokgolothutong tsokotsa selekanomotlakase dialama isizulu pagolola pagolola katiseditsweng katiseditsweng cem tshwanedi tanya masilo liezl relediseng liezl relediseng pusoselegaeng pusoselegaeng pusoselegaeng pusoselegaeng thanyani thanyani seraing hare thekontle thekontle tlwaetse kgaoganyi jg jg ditlamegong kgolokwetshipi tlhelele word cologne goditsweng davon boitumelo ditshodi senthara arabileng bosupa malebogo senthara speak boeledistweng nã¼rnberg 8000 r174 eleanor botå¡hetå¡hisi botå¡hetå¡hisi itsamaela kgotlelwa adonisi mangana johann tantshe maatlafadiwa moabedi gakologelweng feketiri moji issie senamelwa botlhagatlhaga lekwalotlhopho 1989 tshika ditlapele ditlapele phaposillene refugee publications hetta tile siphiwe batshwaring magwe golegilweng sekhutlong electronic dikhomphiutha sadiwa kosie r54 setswalo setswalo tshadi f13 segoke bolotloa 845 matsie presidential industrial industrial kolise kolise nokiwang rotloetseng obaobega ngathiwa tlhatlositsweng ingo itshokelane ngateng ruantshwa manual ruantshwa manual objects manual intå¡hwafatsa tshenolo seikaeledi mogakaganyi kgoreletsang lobethal dumalalanweng tseo matshoba andia nama mobopi charts board supile bannye tlhomolang botanic kleynhans batsei kleynhans 705\n",
            "1/1 [==============================] - 0s 57ms/step\n",
            "Current translation: tlwaeditswe tlwaeditswe december phitlhelelokgolothutong tsokotsa selekanomotlakase dialama isizulu pagolola pagolola katiseditsweng katiseditsweng cem tshwanedi tanya masilo liezl relediseng liezl relediseng pusoselegaeng pusoselegaeng pusoselegaeng pusoselegaeng thanyani thanyani seraing hare thekontle thekontle tlwaetse kgaoganyi jg jg ditlamegong kgolokwetshipi tlhelele word cologne goditsweng davon boitumelo ditshodi senthara arabileng bosupa malebogo senthara speak boeledistweng nã¼rnberg 8000 r174 eleanor botå¡hetå¡hisi botå¡hetå¡hisi itsamaela kgotlelwa adonisi mangana johann tantshe maatlafadiwa moabedi gakologelweng feketiri moji issie senamelwa botlhagatlhaga lekwalotlhopho 1989 tshika ditlapele ditlapele phaposillene refugee publications hetta tile siphiwe batshwaring magwe golegilweng sekhutlong electronic dikhomphiutha sadiwa kosie r54 setswalo setswalo tshadi f13 segoke bolotloa 845 matsie presidential industrial industrial kolise kolise nokiwang rotloetseng obaobega ngathiwa tlhatlositsweng ingo itshokelane ngateng ruantshwa manual ruantshwa manual objects manual intå¡hwafatsa tshenolo seikaeledi mogakaganyi kgoreletsang lobethal dumalalanweng tseo matshoba andia nama mobopi charts board supile bannye tlhomolang botanic kleynhans batsei kleynhans 705 papatsoseileketeroniki\n",
            "1/1 [==============================] - 0s 63ms/step\n",
            "Current translation: tlwaeditswe tlwaeditswe december phitlhelelokgolothutong tsokotsa selekanomotlakase dialama isizulu pagolola pagolola katiseditsweng katiseditsweng cem tshwanedi tanya masilo liezl relediseng liezl relediseng pusoselegaeng pusoselegaeng pusoselegaeng pusoselegaeng thanyani thanyani seraing hare thekontle thekontle tlwaetse kgaoganyi jg jg ditlamegong kgolokwetshipi tlhelele word cologne goditsweng davon boitumelo ditshodi senthara arabileng bosupa malebogo senthara speak boeledistweng nã¼rnberg 8000 r174 eleanor botå¡hetå¡hisi botå¡hetå¡hisi itsamaela kgotlelwa adonisi mangana johann tantshe maatlafadiwa moabedi gakologelweng feketiri moji issie senamelwa botlhagatlhaga lekwalotlhopho 1989 tshika ditlapele ditlapele phaposillene refugee publications hetta tile siphiwe batshwaring magwe golegilweng sekhutlong electronic dikhomphiutha sadiwa kosie r54 setswalo setswalo tshadi f13 segoke bolotloa 845 matsie presidential industrial industrial kolise kolise nokiwang rotloetseng obaobega ngathiwa tlhatlositsweng ingo itshokelane ngateng ruantshwa manual ruantshwa manual objects manual intå¡hwafatsa tshenolo seikaeledi mogakaganyi kgoreletsang lobethal dumalalanweng tseo matshoba andia nama mobopi charts board supile bannye tlhomolang botanic kleynhans batsei kleynhans 705 papatsoseileketeroniki batsei\n",
            "1/1 [==============================] - 0s 57ms/step\n",
            "Current translation: tlwaeditswe tlwaeditswe december phitlhelelokgolothutong tsokotsa selekanomotlakase dialama isizulu pagolola pagolola katiseditsweng katiseditsweng cem tshwanedi tanya masilo liezl relediseng liezl relediseng pusoselegaeng pusoselegaeng pusoselegaeng pusoselegaeng thanyani thanyani seraing hare thekontle thekontle tlwaetse kgaoganyi jg jg ditlamegong kgolokwetshipi tlhelele word cologne goditsweng davon boitumelo ditshodi senthara arabileng bosupa malebogo senthara speak boeledistweng nã¼rnberg 8000 r174 eleanor botå¡hetå¡hisi botå¡hetå¡hisi itsamaela kgotlelwa adonisi mangana johann tantshe maatlafadiwa moabedi gakologelweng feketiri moji issie senamelwa botlhagatlhaga lekwalotlhopho 1989 tshika ditlapele ditlapele phaposillene refugee publications hetta tile siphiwe batshwaring magwe golegilweng sekhutlong electronic dikhomphiutha sadiwa kosie r54 setswalo setswalo tshadi f13 segoke bolotloa 845 matsie presidential industrial industrial kolise kolise nokiwang rotloetseng obaobega ngathiwa tlhatlositsweng ingo itshokelane ngateng ruantshwa manual ruantshwa manual objects manual intå¡hwafatsa tshenolo seikaeledi mogakaganyi kgoreletsang lobethal dumalalanweng tseo matshoba andia nama mobopi charts board supile bannye tlhomolang botanic kleynhans batsei kleynhans 705 papatsoseileketeroniki batsei papatsoseileketeroniki\n",
            "1/1 [==============================] - 0s 60ms/step\n",
            "Current translation: tlwaeditswe tlwaeditswe december phitlhelelokgolothutong tsokotsa selekanomotlakase dialama isizulu pagolola pagolola katiseditsweng katiseditsweng cem tshwanedi tanya masilo liezl relediseng liezl relediseng pusoselegaeng pusoselegaeng pusoselegaeng pusoselegaeng thanyani thanyani seraing hare thekontle thekontle tlwaetse kgaoganyi jg jg ditlamegong kgolokwetshipi tlhelele word cologne goditsweng davon boitumelo ditshodi senthara arabileng bosupa malebogo senthara speak boeledistweng nã¼rnberg 8000 r174 eleanor botå¡hetå¡hisi botå¡hetå¡hisi itsamaela kgotlelwa adonisi mangana johann tantshe maatlafadiwa moabedi gakologelweng feketiri moji issie senamelwa botlhagatlhaga lekwalotlhopho 1989 tshika ditlapele ditlapele phaposillene refugee publications hetta tile siphiwe batshwaring magwe golegilweng sekhutlong electronic dikhomphiutha sadiwa kosie r54 setswalo setswalo tshadi f13 segoke bolotloa 845 matsie presidential industrial industrial kolise kolise nokiwang rotloetseng obaobega ngathiwa tlhatlositsweng ingo itshokelane ngateng ruantshwa manual ruantshwa manual objects manual intå¡hwafatsa tshenolo seikaeledi mogakaganyi kgoreletsang lobethal dumalalanweng tseo matshoba andia nama mobopi charts board supile bannye tlhomolang botanic kleynhans batsei kleynhans 705 papatsoseileketeroniki batsei papatsoseileketeroniki diphasalatsong\n",
            "1/1 [==============================] - 0s 76ms/step\n",
            "Current translation: tlwaeditswe tlwaeditswe december phitlhelelokgolothutong tsokotsa selekanomotlakase dialama isizulu pagolola pagolola katiseditsweng katiseditsweng cem tshwanedi tanya masilo liezl relediseng liezl relediseng pusoselegaeng pusoselegaeng pusoselegaeng pusoselegaeng thanyani thanyani seraing hare thekontle thekontle tlwaetse kgaoganyi jg jg ditlamegong kgolokwetshipi tlhelele word cologne goditsweng davon boitumelo ditshodi senthara arabileng bosupa malebogo senthara speak boeledistweng nã¼rnberg 8000 r174 eleanor botå¡hetå¡hisi botå¡hetå¡hisi itsamaela kgotlelwa adonisi mangana johann tantshe maatlafadiwa moabedi gakologelweng feketiri moji issie senamelwa botlhagatlhaga lekwalotlhopho 1989 tshika ditlapele ditlapele phaposillene refugee publications hetta tile siphiwe batshwaring magwe golegilweng sekhutlong electronic dikhomphiutha sadiwa kosie r54 setswalo setswalo tshadi f13 segoke bolotloa 845 matsie presidential industrial industrial kolise kolise nokiwang rotloetseng obaobega ngathiwa tlhatlositsweng ingo itshokelane ngateng ruantshwa manual ruantshwa manual objects manual intå¡hwafatsa tshenolo seikaeledi mogakaganyi kgoreletsang lobethal dumalalanweng tseo matshoba andia nama mobopi charts board supile bannye tlhomolang botanic kleynhans batsei kleynhans 705 papatsoseileketeroniki batsei papatsoseileketeroniki diphasalatsong diphasalatsong\n",
            "1/1 [==============================] - 0s 74ms/step\n",
            "Current translation: tlwaeditswe tlwaeditswe december phitlhelelokgolothutong tsokotsa selekanomotlakase dialama isizulu pagolola pagolola katiseditsweng katiseditsweng cem tshwanedi tanya masilo liezl relediseng liezl relediseng pusoselegaeng pusoselegaeng pusoselegaeng pusoselegaeng thanyani thanyani seraing hare thekontle thekontle tlwaetse kgaoganyi jg jg ditlamegong kgolokwetshipi tlhelele word cologne goditsweng davon boitumelo ditshodi senthara arabileng bosupa malebogo senthara speak boeledistweng nã¼rnberg 8000 r174 eleanor botå¡hetå¡hisi botå¡hetå¡hisi itsamaela kgotlelwa adonisi mangana johann tantshe maatlafadiwa moabedi gakologelweng feketiri moji issie senamelwa botlhagatlhaga lekwalotlhopho 1989 tshika ditlapele ditlapele phaposillene refugee publications hetta tile siphiwe batshwaring magwe golegilweng sekhutlong electronic dikhomphiutha sadiwa kosie r54 setswalo setswalo tshadi f13 segoke bolotloa 845 matsie presidential industrial industrial kolise kolise nokiwang rotloetseng obaobega ngathiwa tlhatlositsweng ingo itshokelane ngateng ruantshwa manual ruantshwa manual objects manual intå¡hwafatsa tshenolo seikaeledi mogakaganyi kgoreletsang lobethal dumalalanweng tseo matshoba andia nama mobopi charts board supile bannye tlhomolang botanic kleynhans batsei kleynhans 705 papatsoseileketeroniki batsei papatsoseileketeroniki diphasalatsong diphasalatsong lee\n",
            "1/1 [==============================] - 0s 84ms/step\n",
            "Current translation: tlwaeditswe tlwaeditswe december phitlhelelokgolothutong tsokotsa selekanomotlakase dialama isizulu pagolola pagolola katiseditsweng katiseditsweng cem tshwanedi tanya masilo liezl relediseng liezl relediseng pusoselegaeng pusoselegaeng pusoselegaeng pusoselegaeng thanyani thanyani seraing hare thekontle thekontle tlwaetse kgaoganyi jg jg ditlamegong kgolokwetshipi tlhelele word cologne goditsweng davon boitumelo ditshodi senthara arabileng bosupa malebogo senthara speak boeledistweng nã¼rnberg 8000 r174 eleanor botå¡hetå¡hisi botå¡hetå¡hisi itsamaela kgotlelwa adonisi mangana johann tantshe maatlafadiwa moabedi gakologelweng feketiri moji issie senamelwa botlhagatlhaga lekwalotlhopho 1989 tshika ditlapele ditlapele phaposillene refugee publications hetta tile siphiwe batshwaring magwe golegilweng sekhutlong electronic dikhomphiutha sadiwa kosie r54 setswalo setswalo tshadi f13 segoke bolotloa 845 matsie presidential industrial industrial kolise kolise nokiwang rotloetseng obaobega ngathiwa tlhatlositsweng ingo itshokelane ngateng ruantshwa manual ruantshwa manual objects manual intå¡hwafatsa tshenolo seikaeledi mogakaganyi kgoreletsang lobethal dumalalanweng tseo matshoba andia nama mobopi charts board supile bannye tlhomolang botanic kleynhans batsei kleynhans 705 papatsoseileketeroniki batsei papatsoseileketeroniki diphasalatsong diphasalatsong lee barkhuizen\n",
            "1/1 [==============================] - 0s 87ms/step\n",
            "Current translation: tlwaeditswe tlwaeditswe december phitlhelelokgolothutong tsokotsa selekanomotlakase dialama isizulu pagolola pagolola katiseditsweng katiseditsweng cem tshwanedi tanya masilo liezl relediseng liezl relediseng pusoselegaeng pusoselegaeng pusoselegaeng pusoselegaeng thanyani thanyani seraing hare thekontle thekontle tlwaetse kgaoganyi jg jg ditlamegong kgolokwetshipi tlhelele word cologne goditsweng davon boitumelo ditshodi senthara arabileng bosupa malebogo senthara speak boeledistweng nã¼rnberg 8000 r174 eleanor botå¡hetå¡hisi botå¡hetå¡hisi itsamaela kgotlelwa adonisi mangana johann tantshe maatlafadiwa moabedi gakologelweng feketiri moji issie senamelwa botlhagatlhaga lekwalotlhopho 1989 tshika ditlapele ditlapele phaposillene refugee publications hetta tile siphiwe batshwaring magwe golegilweng sekhutlong electronic dikhomphiutha sadiwa kosie r54 setswalo setswalo tshadi f13 segoke bolotloa 845 matsie presidential industrial industrial kolise kolise nokiwang rotloetseng obaobega ngathiwa tlhatlositsweng ingo itshokelane ngateng ruantshwa manual ruantshwa manual objects manual intå¡hwafatsa tshenolo seikaeledi mogakaganyi kgoreletsang lobethal dumalalanweng tseo matshoba andia nama mobopi charts board supile bannye tlhomolang botanic kleynhans batsei kleynhans 705 papatsoseileketeroniki batsei papatsoseileketeroniki diphasalatsong diphasalatsong lee barkhuizen diphasela\n",
            "1/1 [==============================] - 0s 87ms/step\n",
            "Current translation: tlwaeditswe tlwaeditswe december phitlhelelokgolothutong tsokotsa selekanomotlakase dialama isizulu pagolola pagolola katiseditsweng katiseditsweng cem tshwanedi tanya masilo liezl relediseng liezl relediseng pusoselegaeng pusoselegaeng pusoselegaeng pusoselegaeng thanyani thanyani seraing hare thekontle thekontle tlwaetse kgaoganyi jg jg ditlamegong kgolokwetshipi tlhelele word cologne goditsweng davon boitumelo ditshodi senthara arabileng bosupa malebogo senthara speak boeledistweng nã¼rnberg 8000 r174 eleanor botå¡hetå¡hisi botå¡hetå¡hisi itsamaela kgotlelwa adonisi mangana johann tantshe maatlafadiwa moabedi gakologelweng feketiri moji issie senamelwa botlhagatlhaga lekwalotlhopho 1989 tshika ditlapele ditlapele phaposillene refugee publications hetta tile siphiwe batshwaring magwe golegilweng sekhutlong electronic dikhomphiutha sadiwa kosie r54 setswalo setswalo tshadi f13 segoke bolotloa 845 matsie presidential industrial industrial kolise kolise nokiwang rotloetseng obaobega ngathiwa tlhatlositsweng ingo itshokelane ngateng ruantshwa manual ruantshwa manual objects manual intå¡hwafatsa tshenolo seikaeledi mogakaganyi kgoreletsang lobethal dumalalanweng tseo matshoba andia nama mobopi charts board supile bannye tlhomolang botanic kleynhans batsei kleynhans 705 papatsoseileketeroniki batsei papatsoseileketeroniki diphasalatsong diphasalatsong lee barkhuizen diphasela mefameng\n",
            "1/1 [==============================] - 0s 86ms/step\n",
            "Current translation: tlwaeditswe tlwaeditswe december phitlhelelokgolothutong tsokotsa selekanomotlakase dialama isizulu pagolola pagolola katiseditsweng katiseditsweng cem tshwanedi tanya masilo liezl relediseng liezl relediseng pusoselegaeng pusoselegaeng pusoselegaeng pusoselegaeng thanyani thanyani seraing hare thekontle thekontle tlwaetse kgaoganyi jg jg ditlamegong kgolokwetshipi tlhelele word cologne goditsweng davon boitumelo ditshodi senthara arabileng bosupa malebogo senthara speak boeledistweng nã¼rnberg 8000 r174 eleanor botå¡hetå¡hisi botå¡hetå¡hisi itsamaela kgotlelwa adonisi mangana johann tantshe maatlafadiwa moabedi gakologelweng feketiri moji issie senamelwa botlhagatlhaga lekwalotlhopho 1989 tshika ditlapele ditlapele phaposillene refugee publications hetta tile siphiwe batshwaring magwe golegilweng sekhutlong electronic dikhomphiutha sadiwa kosie r54 setswalo setswalo tshadi f13 segoke bolotloa 845 matsie presidential industrial industrial kolise kolise nokiwang rotloetseng obaobega ngathiwa tlhatlositsweng ingo itshokelane ngateng ruantshwa manual ruantshwa manual objects manual intå¡hwafatsa tshenolo seikaeledi mogakaganyi kgoreletsang lobethal dumalalanweng tseo matshoba andia nama mobopi charts board supile bannye tlhomolang botanic kleynhans batsei kleynhans 705 papatsoseileketeroniki batsei papatsoseileketeroniki diphasalatsong diphasalatsong lee barkhuizen diphasela mefameng mefameng\n",
            "1/1 [==============================] - 0s 62ms/step\n",
            "Current translation: tlwaeditswe tlwaeditswe december phitlhelelokgolothutong tsokotsa selekanomotlakase dialama isizulu pagolola pagolola katiseditsweng katiseditsweng cem tshwanedi tanya masilo liezl relediseng liezl relediseng pusoselegaeng pusoselegaeng pusoselegaeng pusoselegaeng thanyani thanyani seraing hare thekontle thekontle tlwaetse kgaoganyi jg jg ditlamegong kgolokwetshipi tlhelele word cologne goditsweng davon boitumelo ditshodi senthara arabileng bosupa malebogo senthara speak boeledistweng nã¼rnberg 8000 r174 eleanor botå¡hetå¡hisi botå¡hetå¡hisi itsamaela kgotlelwa adonisi mangana johann tantshe maatlafadiwa moabedi gakologelweng feketiri moji issie senamelwa botlhagatlhaga lekwalotlhopho 1989 tshika ditlapele ditlapele phaposillene refugee publications hetta tile siphiwe batshwaring magwe golegilweng sekhutlong electronic dikhomphiutha sadiwa kosie r54 setswalo setswalo tshadi f13 segoke bolotloa 845 matsie presidential industrial industrial kolise kolise nokiwang rotloetseng obaobega ngathiwa tlhatlositsweng ingo itshokelane ngateng ruantshwa manual ruantshwa manual objects manual intå¡hwafatsa tshenolo seikaeledi mogakaganyi kgoreletsang lobethal dumalalanweng tseo matshoba andia nama mobopi charts board supile bannye tlhomolang botanic kleynhans batsei kleynhans 705 papatsoseileketeroniki batsei papatsoseileketeroniki diphasalatsong diphasalatsong lee barkhuizen diphasela mefameng mefameng mefameng\n",
            "1/1 [==============================] - 0s 62ms/step\n",
            "Current translation: tlwaeditswe tlwaeditswe december phitlhelelokgolothutong tsokotsa selekanomotlakase dialama isizulu pagolola pagolola katiseditsweng katiseditsweng cem tshwanedi tanya masilo liezl relediseng liezl relediseng pusoselegaeng pusoselegaeng pusoselegaeng pusoselegaeng thanyani thanyani seraing hare thekontle thekontle tlwaetse kgaoganyi jg jg ditlamegong kgolokwetshipi tlhelele word cologne goditsweng davon boitumelo ditshodi senthara arabileng bosupa malebogo senthara speak boeledistweng nã¼rnberg 8000 r174 eleanor botå¡hetå¡hisi botå¡hetå¡hisi itsamaela kgotlelwa adonisi mangana johann tantshe maatlafadiwa moabedi gakologelweng feketiri moji issie senamelwa botlhagatlhaga lekwalotlhopho 1989 tshika ditlapele ditlapele phaposillene refugee publications hetta tile siphiwe batshwaring magwe golegilweng sekhutlong electronic dikhomphiutha sadiwa kosie r54 setswalo setswalo tshadi f13 segoke bolotloa 845 matsie presidential industrial industrial kolise kolise nokiwang rotloetseng obaobega ngathiwa tlhatlositsweng ingo itshokelane ngateng ruantshwa manual ruantshwa manual objects manual intå¡hwafatsa tshenolo seikaeledi mogakaganyi kgoreletsang lobethal dumalalanweng tseo matshoba andia nama mobopi charts board supile bannye tlhomolang botanic kleynhans batsei kleynhans 705 papatsoseileketeroniki batsei papatsoseileketeroniki diphasalatsong diphasalatsong lee barkhuizen diphasela mefameng mefameng mefameng 125cc\n",
            "1/1 [==============================] - 0s 66ms/step\n",
            "Current translation: tlwaeditswe tlwaeditswe december phitlhelelokgolothutong tsokotsa selekanomotlakase dialama isizulu pagolola pagolola katiseditsweng katiseditsweng cem tshwanedi tanya masilo liezl relediseng liezl relediseng pusoselegaeng pusoselegaeng pusoselegaeng pusoselegaeng thanyani thanyani seraing hare thekontle thekontle tlwaetse kgaoganyi jg jg ditlamegong kgolokwetshipi tlhelele word cologne goditsweng davon boitumelo ditshodi senthara arabileng bosupa malebogo senthara speak boeledistweng nã¼rnberg 8000 r174 eleanor botå¡hetå¡hisi botå¡hetå¡hisi itsamaela kgotlelwa adonisi mangana johann tantshe maatlafadiwa moabedi gakologelweng feketiri moji issie senamelwa botlhagatlhaga lekwalotlhopho 1989 tshika ditlapele ditlapele phaposillene refugee publications hetta tile siphiwe batshwaring magwe golegilweng sekhutlong electronic dikhomphiutha sadiwa kosie r54 setswalo setswalo tshadi f13 segoke bolotloa 845 matsie presidential industrial industrial kolise kolise nokiwang rotloetseng obaobega ngathiwa tlhatlositsweng ingo itshokelane ngateng ruantshwa manual ruantshwa manual objects manual intå¡hwafatsa tshenolo seikaeledi mogakaganyi kgoreletsang lobethal dumalalanweng tseo matshoba andia nama mobopi charts board supile bannye tlhomolang botanic kleynhans batsei kleynhans 705 papatsoseileketeroniki batsei papatsoseileketeroniki diphasalatsong diphasalatsong lee barkhuizen diphasela mefameng mefameng mefameng 125cc 125cc\n",
            "1/1 [==============================] - 0s 59ms/step\n",
            "Current translation: tlwaeditswe tlwaeditswe december phitlhelelokgolothutong tsokotsa selekanomotlakase dialama isizulu pagolola pagolola katiseditsweng katiseditsweng cem tshwanedi tanya masilo liezl relediseng liezl relediseng pusoselegaeng pusoselegaeng pusoselegaeng pusoselegaeng thanyani thanyani seraing hare thekontle thekontle tlwaetse kgaoganyi jg jg ditlamegong kgolokwetshipi tlhelele word cologne goditsweng davon boitumelo ditshodi senthara arabileng bosupa malebogo senthara speak boeledistweng nã¼rnberg 8000 r174 eleanor botå¡hetå¡hisi botå¡hetå¡hisi itsamaela kgotlelwa adonisi mangana johann tantshe maatlafadiwa moabedi gakologelweng feketiri moji issie senamelwa botlhagatlhaga lekwalotlhopho 1989 tshika ditlapele ditlapele phaposillene refugee publications hetta tile siphiwe batshwaring magwe golegilweng sekhutlong electronic dikhomphiutha sadiwa kosie r54 setswalo setswalo tshadi f13 segoke bolotloa 845 matsie presidential industrial industrial kolise kolise nokiwang rotloetseng obaobega ngathiwa tlhatlositsweng ingo itshokelane ngateng ruantshwa manual ruantshwa manual objects manual intå¡hwafatsa tshenolo seikaeledi mogakaganyi kgoreletsang lobethal dumalalanweng tseo matshoba andia nama mobopi charts board supile bannye tlhomolang botanic kleynhans batsei kleynhans 705 papatsoseileketeroniki batsei papatsoseileketeroniki diphasalatsong diphasalatsong lee barkhuizen diphasela mefameng mefameng mefameng 125cc 125cc ta\n",
            "1/1 [==============================] - 0s 55ms/step\n",
            "Current translation: tlwaeditswe tlwaeditswe december phitlhelelokgolothutong tsokotsa selekanomotlakase dialama isizulu pagolola pagolola katiseditsweng katiseditsweng cem tshwanedi tanya masilo liezl relediseng liezl relediseng pusoselegaeng pusoselegaeng pusoselegaeng pusoselegaeng thanyani thanyani seraing hare thekontle thekontle tlwaetse kgaoganyi jg jg ditlamegong kgolokwetshipi tlhelele word cologne goditsweng davon boitumelo ditshodi senthara arabileng bosupa malebogo senthara speak boeledistweng nã¼rnberg 8000 r174 eleanor botå¡hetå¡hisi botå¡hetå¡hisi itsamaela kgotlelwa adonisi mangana johann tantshe maatlafadiwa moabedi gakologelweng feketiri moji issie senamelwa botlhagatlhaga lekwalotlhopho 1989 tshika ditlapele ditlapele phaposillene refugee publications hetta tile siphiwe batshwaring magwe golegilweng sekhutlong electronic dikhomphiutha sadiwa kosie r54 setswalo setswalo tshadi f13 segoke bolotloa 845 matsie presidential industrial industrial kolise kolise nokiwang rotloetseng obaobega ngathiwa tlhatlositsweng ingo itshokelane ngateng ruantshwa manual ruantshwa manual objects manual intå¡hwafatsa tshenolo seikaeledi mogakaganyi kgoreletsang lobethal dumalalanweng tseo matshoba andia nama mobopi charts board supile bannye tlhomolang botanic kleynhans batsei kleynhans 705 papatsoseileketeroniki batsei papatsoseileketeroniki diphasalatsong diphasalatsong lee barkhuizen diphasela mefameng mefameng mefameng 125cc 125cc ta\n",
            "Translated sentence: tlwaeditswe tlwaeditswe december phitlhelelokgolothutong tsokotsa selekanomotlakase dialama isizulu pagolola pagolola katiseditsweng katiseditsweng cem tshwanedi tanya masilo liezl relediseng liezl relediseng pusoselegaeng pusoselegaeng pusoselegaeng pusoselegaeng thanyani thanyani seraing hare thekontle thekontle tlwaetse kgaoganyi jg jg ditlamegong kgolokwetshipi tlhelele word cologne goditsweng davon boitumelo ditshodi senthara arabileng bosupa malebogo senthara speak boeledistweng nã¼rnberg 8000 r174 eleanor botå¡hetå¡hisi botå¡hetå¡hisi itsamaela kgotlelwa adonisi mangana johann tantshe maatlafadiwa moabedi gakologelweng feketiri moji issie senamelwa botlhagatlhaga lekwalotlhopho 1989 tshika ditlapele ditlapele phaposillene refugee publications hetta tile siphiwe batshwaring magwe golegilweng sekhutlong electronic dikhomphiutha sadiwa kosie r54 setswalo setswalo tshadi f13 segoke bolotloa 845 matsie presidential industrial industrial kolise kolise nokiwang rotloetseng obaobega ngathiwa tlhatlositsweng ingo itshokelane ngateng ruantshwa manual ruantshwa manual objects manual intå¡hwafatsa tshenolo seikaeledi mogakaganyi kgoreletsang lobethal dumalalanweng tseo matshoba andia nama mobopi charts board supile bannye tlhomolang botanic kleynhans batsei kleynhans 705 papatsoseileketeroniki batsei papatsoseileketeroniki diphasalatsong diphasalatsong lee barkhuizen diphasela mefameng mefameng mefameng 125cc 125cc ta\n"
          ]
        }
      ],
      "source": [
        "# Example translation\n",
        "example_sentence = \"The history of the world's most important social media platform, the author of the book, the book of Proverbs, the author of the book of Proverbs, the Book of Life The author of the e-mail address of the student's first class of students completed the alternaria social media freeked by the name of the author of the book 800 copies of the 182\"\n",
        "translated_sentence = translate_sentence(example_sentence)\n",
        "print(f'Translated sentence: {translated_sentence}')"
      ]
    }
  ],
  "metadata": {
    "colab": {
      "provenance": [],
      "gpuType": "T4",
      "authorship_tag": "ABX9TyO5T3FgA9PhDLLfSFZIMaiw",
      "include_colab_link": true
    },
    "kernelspec": {
      "display_name": "Python 3",
      "name": "python3"
    },
    "language_info": {
      "name": "python"
    },
    "accelerator": "GPU"
  },
  "nbformat": 4,
  "nbformat_minor": 0
}